{
 "cells": [
  {
   "cell_type": "markdown",
   "metadata": {},
   "source": [
    "# 180705 과제"
   ]
  },
  {
   "cell_type": "markdown",
   "metadata": {},
   "source": [
    "---"
   ]
  },
  {
   "cell_type": "markdown",
   "metadata": {},
   "source": [
    "## 황태림"
   ]
  },
  {
   "cell_type": "markdown",
   "metadata": {},
   "source": [
    "#### Exercise 82"
   ]
  },
  {
   "cell_type": "code",
   "execution_count": 12,
   "metadata": {},
   "outputs": [
    {
     "name": "stdout",
     "output_type": "stream",
     "text": [
      "49\n",
      "Fare : $ 91.5\n"
     ]
    }
   ],
   "source": [
    "def fare(dist):\n",
    "    return 4.00 + (dist * 1000 // 140) * 0.25\n",
    "\n",
    "print(\"Fare : $\", fare(float(input())))"
   ]
  },
  {
   "cell_type": "markdown",
   "metadata": {},
   "source": [
    "#### Exercise 84"
   ]
  },
  {
   "cell_type": "code",
   "execution_count": 26,
   "metadata": {},
   "outputs": [
    {
     "name": "stdout",
     "output_type": "stream",
     "text": [
      "15.2 16.4 11.2\n",
      "Median : 15.2\n"
     ]
    }
   ],
   "source": [
    "def median(num):\n",
    "    return sorted(num)[1]\n",
    "\n",
    "print(\"Median :\", median(list(map(float, input().split(\" \")))))"
   ]
  },
  {
   "cell_type": "markdown",
   "metadata": {},
   "source": [
    "#### Exercise 85"
   ]
  },
  {
   "cell_type": "code",
   "execution_count": 34,
   "metadata": {},
   "outputs": [
    {
     "name": "stdout",
     "output_type": "stream",
     "text": [
      "5\n",
      "Converted integer : fifth\n"
     ]
    }
   ],
   "source": [
    "def conv_num(number):\n",
    "    ord_num_list = dict(enumerate([\"first\", \"second\", \"third\", \"fourth\", \"fifth\", \"sixth\", \"seventh\", \"eighth\", \"ninth\", \"tenth\", \"eleventh\", \"twelfth\"]\n",
    ", 1))\n",
    "    if number in ord_num_list:\n",
    "        return ord_num_list[number]\n",
    "    else:\n",
    "        return \"\"\n",
    "    \n",
    "print(\"Converted integer :\", conv_num(int(input())))"
   ]
  },
  {
   "cell_type": "markdown",
   "metadata": {},
   "source": [
    "#### Exercise 86"
   ]
  },
  {
   "cell_type": "code",
   "execution_count": 75,
   "metadata": {
    "collapsed": true
   },
   "outputs": [],
   "source": [
    "def twelve_days(number=12):\n",
    "    def join_sentence(sentence):\n",
    "        if len(sentence) == 1:\n",
    "            return sentence[0]+\".\\n\\n\"\n",
    "        elif len(sentence) == 0:\n",
    "            return \"\"\n",
    "        else:\n",
    "            result = \"\"\n",
    "            for i in range(len(sentence) - 1,0, -1):\n",
    "                result += sentence[i]+\",\\n\"\n",
    "            result += \"And \"+sentence[0].lower()+\".\\n\\n\"\n",
    "            return result\n",
    "            \n",
    "    def conv_num(number):\n",
    "        ord_num_list = dict(enumerate([\"first\", \"second\", \"third\", \"fourth\", \"fifth\", \"sixth\", \n",
    "                                       \"seventh\", \"eighth\", \"ninth\", \"tenth\", \"eleventh\", \"twelfth\"]))\n",
    "        if number in ord_num_list:\n",
    "            return ord_num_list[number]\n",
    "        else:\n",
    "            return \"\"\n",
    "    \n",
    "    lyric_list = ['A Partridge in a Pear Tree',\n",
    "                                 'Two Turtle Doves',\n",
    "                                 'Three French Hens',\n",
    "                                 'Four Calling Birds',\n",
    "                                 'Five Golden Rings',\n",
    "                                 'Six Geese a Laying',\n",
    "                                 'Seven Swans a Swimming',\n",
    "                                 'Eight Maids a Milking',\n",
    "                                 'Nine Ladies Dancing',\n",
    "                                 'Ten Lords a Leaping',\n",
    "                                 'Eleven Pipers Piping',\n",
    "                                 '12 Drummers Drumming']\n",
    "    \n",
    "    first_lyric = \"On the HAVE_TO_CHANGE day of Christmas\\nmy true love sent to me:\\n\"\n",
    "    \n",
    "    for i in range(number):\n",
    "        new_lyric = first_lyric.replace(\"HAVE_TO_CHANGE\", conv_num(i))\n",
    "        new_lyric += join_sentence(lyric_list[0:i + 1])\n",
    "        print(new_lyric)"
   ]
  },
  {
   "cell_type": "code",
   "execution_count": 76,
   "metadata": {},
   "outputs": [
    {
     "name": "stdout",
     "output_type": "stream",
     "text": [
      "On the first day of Christmas\n",
      "my true love sent to me:\n",
      "A Partridge in a Pear Tree.\n",
      "\n",
      "\n",
      "On the second day of Christmas\n",
      "my true love sent to me:\n",
      "Two Turtle Doves,\n",
      "And a partridge in a pear tree.\n",
      "\n",
      "\n",
      "On the third day of Christmas\n",
      "my true love sent to me:\n",
      "Three French Hens,\n",
      "Two Turtle Doves,\n",
      "And a partridge in a pear tree.\n",
      "\n",
      "\n",
      "On the fourth day of Christmas\n",
      "my true love sent to me:\n",
      "Four Calling Birds,\n",
      "Three French Hens,\n",
      "Two Turtle Doves,\n",
      "And a partridge in a pear tree.\n",
      "\n",
      "\n",
      "On the fifth day of Christmas\n",
      "my true love sent to me:\n",
      "Five Golden Rings,\n",
      "Four Calling Birds,\n",
      "Three French Hens,\n",
      "Two Turtle Doves,\n",
      "And a partridge in a pear tree.\n",
      "\n",
      "\n",
      "On the sixth day of Christmas\n",
      "my true love sent to me:\n",
      "Six Geese a Laying,\n",
      "Five Golden Rings,\n",
      "Four Calling Birds,\n",
      "Three French Hens,\n",
      "Two Turtle Doves,\n",
      "And a partridge in a pear tree.\n",
      "\n",
      "\n",
      "On the seventh day of Christmas\n",
      "my true love sent to me:\n",
      "Seven Swans a Swimming,\n",
      "Six Geese a Laying,\n",
      "Five Golden Rings,\n",
      "Four Calling Birds,\n",
      "Three French Hens,\n",
      "Two Turtle Doves,\n",
      "And a partridge in a pear tree.\n",
      "\n",
      "\n",
      "On the eighth day of Christmas\n",
      "my true love sent to me:\n",
      "Eight Maids a Milking,\n",
      "Seven Swans a Swimming,\n",
      "Six Geese a Laying,\n",
      "Five Golden Rings,\n",
      "Four Calling Birds,\n",
      "Three French Hens,\n",
      "Two Turtle Doves,\n",
      "And a partridge in a pear tree.\n",
      "\n",
      "\n",
      "On the ninth day of Christmas\n",
      "my true love sent to me:\n",
      "Nine Ladies Dancing,\n",
      "Eight Maids a Milking,\n",
      "Seven Swans a Swimming,\n",
      "Six Geese a Laying,\n",
      "Five Golden Rings,\n",
      "Four Calling Birds,\n",
      "Three French Hens,\n",
      "Two Turtle Doves,\n",
      "And a partridge in a pear tree.\n",
      "\n",
      "\n",
      "On the tenth day of Christmas\n",
      "my true love sent to me:\n",
      "Ten Lords a Leaping,\n",
      "Nine Ladies Dancing,\n",
      "Eight Maids a Milking,\n",
      "Seven Swans a Swimming,\n",
      "Six Geese a Laying,\n",
      "Five Golden Rings,\n",
      "Four Calling Birds,\n",
      "Three French Hens,\n",
      "Two Turtle Doves,\n",
      "And a partridge in a pear tree.\n",
      "\n",
      "\n",
      "On the eleventh day of Christmas\n",
      "my true love sent to me:\n",
      "Eleven Pipers Piping,\n",
      "Ten Lords a Leaping,\n",
      "Nine Ladies Dancing,\n",
      "Eight Maids a Milking,\n",
      "Seven Swans a Swimming,\n",
      "Six Geese a Laying,\n",
      "Five Golden Rings,\n",
      "Four Calling Birds,\n",
      "Three French Hens,\n",
      "Two Turtle Doves,\n",
      "And a partridge in a pear tree.\n",
      "\n",
      "\n",
      "On the twelfth day of Christmas\n",
      "my true love sent to me:\n",
      "12 Drummers Drumming,\n",
      "Eleven Pipers Piping,\n",
      "Ten Lords a Leaping,\n",
      "Nine Ladies Dancing,\n",
      "Eight Maids a Milking,\n",
      "Seven Swans a Swimming,\n",
      "Six Geese a Laying,\n",
      "Five Golden Rings,\n",
      "Four Calling Birds,\n",
      "Three French Hens,\n",
      "Two Turtle Doves,\n",
      "And a partridge in a pear tree.\n",
      "\n",
      "\n"
     ]
    }
   ],
   "source": [
    "twelve_days()"
   ]
  },
  {
   "cell_type": "markdown",
   "metadata": {},
   "source": [
    "#### Exercise 88"
   ]
  },
  {
   "cell_type": "code",
   "execution_count": 85,
   "metadata": {},
   "outputs": [
    {
     "name": "stdout",
     "output_type": "stream",
     "text": [
      "10 10 10\n",
      "Triangle : True\n"
     ]
    }
   ],
   "source": [
    "def is_triangle(num):\n",
    "    num.sort()\n",
    "    \n",
    "    if num[2] >= num[1] + num[0]:\n",
    "        return False\n",
    "    else:\n",
    "        return True\n",
    "    \n",
    "\n",
    "print(\"Triangle :\", is_triangle(list(map(float, input().split(\" \")))))"
   ]
  },
  {
   "cell_type": "markdown",
   "metadata": {},
   "source": [
    "#### Exercise 89"
   ]
  },
  {
   "cell_type": "code",
   "execution_count": 129,
   "metadata": {},
   "outputs": [
    {
     "name": "stdout",
     "output_type": "stream",
     "text": [
      "what time do i have to be there? what's the address?\n",
      "What time do I have to be there? What's the address?\n"
     ]
    }
   ],
   "source": [
    "def cap_sentence(sentence):\n",
    "    sentence = sentence.capitalize()\n",
    "    sen_list = list(sentence.split(\" \"))\n",
    "    for i in range(len(sen_list) - 1):\n",
    "        if '!' in sen_list[i] or '?' in sen_list[i] or '.' in sen_list[i]:\n",
    "            sen_list[i + 1] = sen_list[i + 1].capitalize()\n",
    "        if 'i' == sen_list[i]:\n",
    "            sen_list[i] = 'I'\n",
    "            \n",
    "    return \" \".join(sen_list)    \n",
    "       \n",
    "print(cap_sentence(input()))"
   ]
  },
  {
   "cell_type": "markdown",
   "metadata": {},
   "source": [
    "#### Execise 90"
   ]
  },
  {
   "cell_type": "code",
   "execution_count": 135,
   "metadata": {},
   "outputs": [
    {
     "name": "stdout",
     "output_type": "stream",
     "text": [
      "       +15      \n",
      "15\n"
     ]
    }
   ],
   "source": [
    "def isInteger(num):\n",
    "    num = num.strip()\n",
    "    try:\n",
    "        int(num)\n",
    "    except:\n",
    "        return \"Not a integer.\"\n",
    "    else:\n",
    "        return int(num)\n",
    "\n",
    "print(isInteger(input()))\n",
    "    "
   ]
  },
  {
   "cell_type": "code",
   "execution_count": 134,
   "metadata": {},
   "outputs": [
    {
     "name": "stdout",
     "output_type": "stream",
     "text": [
      "1\n"
     ]
    }
   ],
   "source": [
    "string = \"          +1  \"\n",
    "string = string.strip()\n",
    "print(int(string))"
   ]
  },
  {
   "cell_type": "markdown",
   "metadata": {},
   "source": [
    "#### Exercise 92"
   ]
  },
  {
   "cell_type": "code",
   "execution_count": 90,
   "metadata": {},
   "outputs": [
    {
     "name": "stdout",
     "output_type": "stream",
     "text": [
      "17\n",
      "Is a prime number? : True\n"
     ]
    }
   ],
   "source": [
    "def is_prime(num):\n",
    "    if num == 2:\n",
    "        return True\n",
    "    for i in range(2, num):\n",
    "        if num % i == 0:\n",
    "            return False\n",
    "        else:\n",
    "            return True\n",
    "print(\"Is a prime number? :\", is_prime(int(input())))"
   ]
  },
  {
   "cell_type": "markdown",
   "metadata": {},
   "source": [
    "#### Exercise 93"
   ]
  },
  {
   "cell_type": "code",
   "execution_count": 138,
   "metadata": {},
   "outputs": [
    {
     "name": "stdout",
     "output_type": "stream",
     "text": [
      "25\n",
      "Next prime number is : 29\n"
     ]
    }
   ],
   "source": [
    "def next_prime(num):\n",
    "    num += 1\n",
    "    while True:\n",
    "        if num == 2:\n",
    "            return num\n",
    "        for i in range(2, num):\n",
    "            if num % i == 0:\n",
    "                num += 1\n",
    "            else:\n",
    "                return num\n",
    "print(\"Next prime number is :\", next_prime(int(input())))"
   ]
  },
  {
   "cell_type": "markdown",
   "metadata": {},
   "source": [
    "#### Exercise 96"
   ]
  },
  {
   "cell_type": "code",
   "execution_count": 146,
   "metadata": {},
   "outputs": [
    {
     "name": "stdout",
     "output_type": "stream",
     "text": [
      "1dSDsa\n",
      "Is a good password? : False\n"
     ]
    }
   ],
   "source": [
    "def is_good_pw(num):\n",
    "    if len(num) < 7:\n",
    "        return False\n",
    "    digit_in = 0\n",
    "    lower_in = 0\n",
    "    upper_in = 0\n",
    "    for c in num:\n",
    "        if c.isdigit():\n",
    "            digit_in += 1\n",
    "        elif c.islower():\n",
    "            lower_in += 1\n",
    "        elif c.isupper():\n",
    "            upper_in += 1\n",
    "    \n",
    "    if digit_in == 0 or lower_in == 0 or upper_in == 0:\n",
    "        return False\n",
    "    else:\n",
    "        return True\n",
    "\n",
    "print(\"Is a good password? :\", is_good_pw(input()))"
   ]
  }
 ],
 "metadata": {
  "kernelspec": {
   "display_name": "Python 3",
   "language": "python",
   "name": "python3"
  },
  "language_info": {
   "codemirror_mode": {
    "name": "ipython",
    "version": 3
   },
   "file_extension": ".py",
   "mimetype": "text/x-python",
   "name": "python",
   "nbconvert_exporter": "python",
   "pygments_lexer": "ipython3",
   "version": "3.6.6"
  }
 },
 "nbformat": 4,
 "nbformat_minor": 2
}
