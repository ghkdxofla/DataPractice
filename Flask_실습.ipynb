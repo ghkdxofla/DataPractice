{
 "cells": [
  {
   "cell_type": "markdown",
   "metadata": {},
   "source": [
    "# Flask_실습"
   ]
  },
  {
   "cell_type": "markdown",
   "metadata": {},
   "source": [
    "## PyCharm\n",
    "- 가상 환경을 잘 구축해야됨\n",
    "- ctrl+c 등의 기본 단축키가 안먹힐 경우, vim editor 모드가 켜 있어서 그럴 수 있다\n",
    "- view-scientific mode : 이걸 하면 어떤 것의 명세를 보여주는 모드로 바뀐다\n",
    "- setting에서 project interpreter...? 에서는 여러 오픈소스 모듈 설치가 가능하다"
   ]
  },
  {
   "cell_type": "markdown",
   "metadata": {},
   "source": [
    "## Flask\n",
    "- TODO쓰면 관리 편함(alt+6 PyCharm 단축키)\n",
    " ```\n",
    " # TODO hello world\n",
    " ```\n",
    "- return은 html tag를 한다\n",
    "- @app.route('')안에는 routing을 위한 주소 체계를...\n",
    " ```\n",
    "<name> 식으로 꺽쇠처리하면 변수가 된다\n",
    "# 예제\n",
    "@app.route('/c/<name>')\n",
    "def hello_world2(name):\n",
    "    return '<h1>%s</h1>'%name\n",
    " ```\n",
    "- rendering\n",
    " * 다른 html을 rendering 해준다\n",
    " \n",
    " ```\n",
    " from flask import render_template\n",
    " @app.route('/x')\n",
    " def render_world():\n",
    "     # TODO render world\n",
    "     return render_template('flask_practice.html')\n",
    " ```\n",
    " ```\n",
    " @app.route('/<path>')\n",
    " def render_world_select(path=None):\n",
    "     # TODO render world select\n",
    "     # if path == 'dec':\n",
    "     #     return render_template('decorator.html')\n",
    "     # elif path == 'flask':\n",
    "     #     return render_template('flask_practice.html')\n",
    "     # 더 깔끔한 방법\n",
    "     if path:\n",
    "         return render_template('%s.html' % path)\n",
    "     else:\n",
    "         return render_template('index.html')\n",
    " ```\n",
    "- debugger\n",
    " * debugging mode를 키면, 잦은 수정을 할 때, 매번 끄고 켤 필요가 없다\n",
    " ```\n",
    " # 얘는 어플리케이션 실행 시 파라미터로 넘겨줌\n",
    " app.run(debug=True)\n",
    " # 어플리케이션 객체에 넘겨줌\n",
    " app.debug = True\n",
    " app.run()\n",
    " ```\n",
    " * PyCharm 에서는 debug configuration(shift+alt+f10)을 통해 FLASK_DEBUG check\n",
    "- decorator\n",
    " * 함수의 동작을 동적으로 바꿔줌\n",
    " * Dynamic function\n",
    "- return에서...?\n",
    " ```\n",
    " @app.route('/') # Decorator\n",
    " def hello_world():\n",
    "     return 'Hello World!', 500 # return 뒤로 response status 를 지정해줄 수 있다\n",
    " ```"
   ]
  },
  {
   "cell_type": "markdown",
   "metadata": {},
   "source": [
    "## Boilerplate?\n",
    "- 어떤 framework 나 language 기반의 application에서 자주 쓰이는 형식으로 구성된 template"
   ]
  },
  {
   "cell_type": "markdown",
   "metadata": {},
   "source": [
    "## Template VS Static?\n",
    "- template 는 .html처럼 동적 변경이 필요한 부분\n",
    "- static은 css처럼 정적인 부분(파일들)"
   ]
  },
  {
   "cell_type": "markdown",
   "metadata": {},
   "source": [
    "## Awesome ''?\n",
    "- awesome을 붙이면 해당 개발 환경의 모듈이나 정보를 알려준다"
   ]
  },
  {
   "cell_type": "markdown",
   "metadata": {},
   "source": [
    "## Jinja2?\n",
    "- flask용 template engine\n",
    "\n",
    " ```\n",
    " {% extends '불러올것.html'} // 일반적으로 base.html\n",
    " {% block 명칭 %}{% endblock %}\n",
    " {% super() %} // 상속 후 엔진으로 구현 뒤에 super 아래의 내용 덮어 쓰기\n",
    " {%- block security %}{% endblock security -%} // -를 써서 해킹 방지...?\n",
    " ```"
   ]
  },
  {
   "cell_type": "markdown",
   "metadata": {},
   "source": [
    "## WSGI?\n",
    "- Web Server Gateway Interface\n",
    "- Python에서의 Server와 framework를 연결시켜주는 Interface\n",
    "- URL routing\n",
    "- Form and validation\n",
    "- templating engine(HTML, XML, JSON)\n",
    "- relational mapper(ORM)\n",
    "- web security(CSRF - Cross-Site Request Forgery)\n"
   ]
  },
  {
   "cell_type": "markdown",
   "metadata": {},
   "source": [
    "## Web framework?\n",
    "- 사용자(개발자)는 로직에만 집중할 수 있도록 해주는 것이 web framework"
   ]
  },
  {
   "cell_type": "markdown",
   "metadata": {},
   "source": [
    "## Full stack VS Micro framework?\n",
    "- full stack(back-end + front-end)\n",
    " * Django...\n",
    "- micro framework(최소의 기능만 구현...?)\n",
    " * Flask...\n",
    " * 이 외에 SQL Alchemy, Jinja2 등 각 부분에서의 micro framework가 존재함"
   ]
  },
  {
   "cell_type": "code",
   "execution_count": null,
   "metadata": {
    "collapsed": true
   },
   "outputs": [],
   "source": [
    "@app.route('/c/<name>')\n",
    "def hello_world2(name):\n",
    "    return '<h1>%s</h1>'%name"
   ]
  },
  {
   "cell_type": "markdown",
   "metadata": {},
   "source": [
    "---"
   ]
  },
  {
   "cell_type": "markdown",
   "metadata": {},
   "source": [
    "# 180724"
   ]
  },
  {
   "cell_type": "markdown",
   "metadata": {},
   "source": [
    "## Flask-WTF\n",
    "- form structure 구현을 위한 WTForm의 flask 용"
   ]
  },
  {
   "cell_type": "markdown",
   "metadata": {},
   "source": [
    "## 참고(get)\n",
    "- get('key', 'default value')\n",
    " ```\n",
    " lst = {'a':1}\n",
    " lst.get('d', 333)\n",
    " # d가 없으니 333출력\n",
    " \n",
    " ```"
   ]
  },
  {
   "cell_type": "markdown",
   "metadata": {},
   "source": [
    "## request...?\n",
    "- get method로 받은 값 호출하는 방법\n",
    " ```\n",
    " a = request.args.get('a') # 됨\n",
    " b = request.args['a'] # 됨\n",
    " c = request.args.a # 안됨\n",
    " ```"
   ]
  },
  {
   "cell_type": "code",
   "execution_count": null,
   "metadata": {
    "collapsed": true
   },
   "outputs": [],
   "source": []
  }
 ],
 "metadata": {
  "kernelspec": {
   "display_name": "Python 3",
   "language": "python",
   "name": "python3"
  },
  "language_info": {
   "codemirror_mode": {
    "name": "ipython",
    "version": 3
   },
   "file_extension": ".py",
   "mimetype": "text/x-python",
   "name": "python",
   "nbconvert_exporter": "python",
   "pygments_lexer": "ipython3",
   "version": "3.6.6"
  }
 },
 "nbformat": 4,
 "nbformat_minor": 2
}
