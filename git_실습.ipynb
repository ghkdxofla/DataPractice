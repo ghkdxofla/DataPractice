{
 "cells": [
  {
   "cell_type": "markdown",
   "metadata": {},
   "source": [
    "# Git 실습"
   ]
  },
  {
   "cell_type": "markdown",
   "metadata": {},
   "source": [
    "---"
   ]
  },
  {
   "cell_type": "markdown",
   "metadata": {},
   "source": [
    "## 버전 관리 방식\n",
    "- local 버전 관리(개인이 쓸 때) \n",
    "- -> 중앙 server 버전 관리(협업 시, 서버가 문제 생기면 작업 불가) \n",
    "- -> 분산 버전 관리(각 클라이언트가 복제된 local repository 생성함, 서버도 복구가 가능)"
   ]
  },
  {
   "cell_type": "markdown",
   "metadata": {},
   "source": [
    "## SVN 특징\n",
    "- 파일 보관 및 파일의 변경 기록을 시간 순으로 보관\n",
    "- 파일을 가져와야 하면 최종 버전이라 해도, 원본 파일 + 변경 내역을 다 읽어와야 해서 오래 걸림"
   ]
  },
  {
   "cell_type": "markdown",
   "metadata": {},
   "source": [
    "## Git 특징\n",
    "- 파일 변경 시, 시점의 파일 스냅샷 저장\n",
    "- 해당 버전을 가져올 때 빠르지만, 용량이 늘어남(이를 해결하기 위해 변경되지 않은 파일은 이전 링크 저장)"
   ]
  },
  {
   "cell_type": "markdown",
   "metadata": {},
   "source": [
    "## Git file 상태\n",
    "- untracked : 관리 X\n",
    "- tracked : 관리 상태\n",
    "- modified : 수정됨\n",
    "- staged : 수정된 상태를 알려줌"
   ]
  },
  {
   "cell_type": "markdown",
   "metadata": {},
   "source": [
    "## Git 명령어\n",
    "- init : Git 생성\n",
    "- add : commit할 파일 추가(stage 단계를 거치는 것), untracked -> tracked(index 부분에 넣는 것...?)\n",
    "- status : 현재 git 상태 확인\n",
    "- log : 작업 내역 확인\n",
    "- commit : git commit\n",
    " * -a : add하는 과정까지 같이 해서 commit함(tracked 된 것만)\n",
    " * -m : message 포함해서 보냄\n",
    " * --amend : soft reset과 똑같은 역할, commit의 내용 변경 및 수정 가능\n",
    "- diff : 바뀐 부분이 무엇인지 보여줌\n",
    " * --staged : staged된 파일을 알려줌\n",
    "- config : git 설정\n",
    " * --global : global scope로 사용자 메일이나 이름 설정 등 하는듯?\n",
    "- reset : 한 단계 전으로 되돌림 / commit name을 같이 써서(reset fh920f21j~)하면 해당 시점으로 reset\n",
    " * --hard : 파일을 초기화\n",
    " * --soft : commit 부분 초기화(message 내용을 바꿔주는 것)\n",
    " * --mixed : stage 단계 까지 초기화(파일은 그대로, 변경 사항 내역만(add를 한) 초기화)\n",
    "- tag : commit 명에 tag를 달 수 있음(너무 기니까)\n",
    "- show : commit의 내역 확인, 뒤의 commit name을 쓰면 해당 commit의 내역 확인, tag 확인\n",
    "- remote : github 등 원격 저장소에 연결시킴(ex: git remote add origin https://github.com/ghkdxofla/GitPractice.git)\n",
    "- push : remote repository에 넘긴다(동기화)\n",
    "- pull : remote repository에 있는 파일을 가져옴, fetch + merge\n",
    "- clone : remote repository 복사\n",
    "- fetch : remote repository에서 변경점 다운로드\n",
    "- merge : Branch 병합, fetch로 받은 파일을 적용시키는 기능 포함\n",
    "- branch : 현재 브랜치가 무엇이 있는지 확인 기능 및 생성 기능\n",
    " * git branch example -> example branch 생성\n",
    " * -d : branch 삭제\n",
    "- checkout : pointing하는 branch 변경\n",
    "- mergetool : merge시 사용할 tool"
   ]
  },
  {
   "cell_type": "markdown",
   "metadata": {},
   "source": [
    "## .gitignore\n",
    "- 굳이 관리 안해도 되는 파일을 빼놓는다\n",
    "- 느낌표로 시작하는 패턴의 파일은 무시 X\n",
    "- 디렉토리는 슬래시를 끝에 사용\n",
    "- 슬래시로 시작하면 하위 디렉토리에 적용 X\n",
    "- #을 시작하는 라인은 무시\n",
    "- *.txt면 해당 확장자 파일 무시"
   ]
  },
  {
   "cell_type": "markdown",
   "metadata": {},
   "source": [
    "## 같은 파일을 여러 사람이 수정했다면?\n",
    "- conflict 발생\n",
    "- 자신이 한 부분과 타인이 한 부분을 같이 보여주며 비교\n",
    "- 원격 파일 및 자신의 파일 모두 수정이 됨"
   ]
  },
  {
   "cell_type": "markdown",
   "metadata": {},
   "source": [
    "## Branch?\n",
    "- 버전 관리를 용이하게 함\n",
    "- branch 끼리 합칠 수 있음(merge)"
   ]
  },
  {
   "cell_type": "markdown",
   "metadata": {},
   "source": [
    "## Fork\n",
    "- repository를 그대로 가져올 수 있음\n",
    "- 이를 수정하는 것은 자유로움\n",
    "- 수정 후 원본에 merge를 원하면 pull request를 해서 원 branch 관리자가 merge 여부를 결정"
   ]
  }
 ],
 "metadata": {
  "kernelspec": {
   "display_name": "Python 3",
   "language": "python",
   "name": "python3"
  },
  "language_info": {
   "codemirror_mode": {
    "name": "ipython",
    "version": 3
   },
   "file_extension": ".py",
   "mimetype": "text/x-python",
   "name": "python",
   "nbconvert_exporter": "python",
   "pygments_lexer": "ipython3",
   "version": "3.6.0"
  }
 },
 "nbformat": 4,
 "nbformat_minor": 2
}
