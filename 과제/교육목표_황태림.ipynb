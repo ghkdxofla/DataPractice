{
 "cells": [
  {
   "cell_type": "markdown",
   "metadata": {},
   "source": [
    "# 교육 목표"
   ]
  },
  {
   "cell_type": "markdown",
   "metadata": {},
   "source": [
    "## 황태림"
   ]
  },
  {
   "cell_type": "markdown",
   "metadata": {},
   "source": [
    "#### 0. 관심분야"
   ]
  },
  {
   "cell_type": "markdown",
   "metadata": {},
   "source": [
    "- 생물유전체데이터를 활용한 검진시스템 개발(언젠가는)\n",
    "- 데이터 분석 도구(google analytics 등) 개발(좀 더 가벼운 느낌)\n",
    "- 다양한 데이터를 분석하여 의미 도출 후 이를 시스템으로 개발"
   ]
  },
  {
   "cell_type": "markdown",
   "metadata": {},
   "source": [
    "#### 1. 크게는"
   ]
  },
  {
   "cell_type": "markdown",
   "metadata": {},
   "source": [
    "- 대용량 데이터를 처리할 수 있는 능력 획득\n",
    "- 기계학습을 통해 데이터에서 insight 추출\n",
    "- 시스템 설계를 통한 제품화 과정 습득"
   ]
  },
  {
   "cell_type": "markdown",
   "metadata": {},
   "source": [
    "#### 2. 작게는"
   ]
  },
  {
   "cell_type": "markdown",
   "metadata": {},
   "source": [
    "- Python\n",
    " 1. 기본적인 Python 사용을 넘어 데이터 처리를 용이하게 할 수 있는 수준의 Language skill 획득\n",
    " 2. 기본기를 다지면서 자주 활용되는 문법이나 함수 사용에 있어 문서 참고를 줄일 수 있는 역량 강화\n",
    " \n",
    "\n",
    "- Spark, Hadoop\n",
    " 1. 분산처리에 대한 이해를 높이고, 분산처리 환경 구축으로 추후 빅데이터 분석에 활용\n",
    " \n",
    " \n",
    "- Web 및 기타 도구\n",
    " 1. 시스템 개발에 활용할 수 있는 정도의 지식 습득\n",
    " 2. 실습을 통해 이론에서 멈추지 않고, 실제 사용가능한 역량으로 굳히기"
   ]
  },
  {
   "cell_type": "markdown",
   "metadata": {},
   "source": [
    "#### 3. 바라는 점"
   ]
  },
  {
   "cell_type": "markdown",
   "metadata": {},
   "source": [
    "- 깊이 있는 지식을 배우길 희망\n",
    " 1. 모든 지식을 세부적으로 배우기에는 시간적인 한계가 있겠지만, 중요한 특정 지식은 실무에서 활용 가능한 수준의 깊이 있는 교육을 원합니다\n",
    " 2. 분반을 통해 기본적인 이해가 있는 전공자들에게는 추가적인 교육 컨텐츠가 제공될 수 있었으면 좋겠습니다\n",
    " \n",
    " \n",
    "- 의미있는 결과물을 완성\n",
    " 1. 프로젝트 결과가 단지 '해봤다' 수준에서 머무르지 않고, 세부적으로 봤을 때 일반 대학 전공 프로젝트 이상의 결과가 도출될 수 있었으면 합니다\n",
    " 2. 전공수업이나 사설 학원에서 배우는 것 이상으로, 한국데이터진흥원과의 연계를 통해서만 얻을 수 있는 결과물이 제작될 수 있게끔 멘토링을 해주셨으면 좋겠습니다\n",
    " \n",
    " \n",
    "- 종합적으로 보면...\n",
    " 1. 무기로서 사용할 수 있는 지식을 꼭 배워나가고 싶습니다\n",
    " 2. 데이터 분석의 전체 프로세스를 익히고 싶습니다"
   ]
  },
  {
   "cell_type": "code",
   "execution_count": null,
   "metadata": {
    "collapsed": true
   },
   "outputs": [],
   "source": []
  }
 ],
 "metadata": {
  "kernelspec": {
   "display_name": "Python 3",
   "language": "python",
   "name": "python3"
  },
  "language_info": {
   "codemirror_mode": {
    "name": "ipython",
    "version": 3
   },
   "file_extension": ".py",
   "mimetype": "text/x-python",
   "name": "python",
   "nbconvert_exporter": "python",
   "pygments_lexer": "ipython3",
   "version": "3.6.0"
  }
 },
 "nbformat": 4,
 "nbformat_minor": 2
}
