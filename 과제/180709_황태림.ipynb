{
 "cells": [
  {
   "cell_type": "markdown",
   "metadata": {},
   "source": [
    "# 180709"
   ]
  },
  {
   "cell_type": "markdown",
   "metadata": {},
   "source": [
    "---"
   ]
  },
  {
   "cell_type": "markdown",
   "metadata": {},
   "source": [
    "## 황태림"
   ]
  },
  {
   "cell_type": "markdown",
   "metadata": {},
   "source": [
    "#### Exercise 129"
   ]
  },
  {
   "cell_type": "code",
   "execution_count": 27,
   "metadata": {
    "collapsed": false
   },
   "outputs": [
    {
     "name": "stdout",
     "output_type": "stream",
     "text": [
      "Total    Simulated    Expected\n",
      "           Percent     Percent\n",
      "    2         2.90        2.78\n",
      "    3         4.00        5.56\n",
      "    4         8.30        8.33\n",
      "    5        10.70       11.11\n",
      "    6        14.90       13.89\n",
      "    7        16.90       16.67\n",
      "    8        12.50       13.89\n",
      "    9        12.30       11.11\n",
      "   10         8.10        8.33\n",
      "   11         6.90        5.56\n",
      "   12         2.50        2.78\n"
     ]
    }
   ],
   "source": [
    "import random\n",
    "\n",
    "num_sim = [0] * 13\n",
    "num_exp = [0, 0, 2.78, 5.56, 8.33, 11.11, 13.89, 16.67, 13.89, 11.11, 8.33, 5.56, 2.78]\n",
    "\n",
    "for _ in range(1000):\n",
    "    x = random.randrange(1, 7)\n",
    "    y = random.randrange(1, 7)\n",
    "    num_sim[x+y] += 1\n",
    "num_sim = [x / 10 for x in num_sim]\n",
    "    \n",
    "print(\"Total\"+\"    \"+\"Simulated\"+\"    \"+\"Expected\")\n",
    "print(\"         \"+'{0: >9}'.format('Percent')+\"    \"+'{0: >8}'.format('Percent'))\n",
    "for i in range(2, 13):\n",
    "    print(\"{0: >5}\".format(i)+\"    \"+\"{0:9.2f}\".format(num_sim[i])+\"    \"+\"{0:8.2f}\".format(num_exp[i]))\n",
    "\n",
    "    "
   ]
  },
  {
   "cell_type": "markdown",
   "metadata": {},
   "source": [
    "#### Exercise 130"
   ]
  },
  {
   "cell_type": "code",
   "execution_count": 45,
   "metadata": {
    "collapsed": false
   },
   "outputs": [
    {
     "name": "stdout",
     "output_type": "stream",
     "text": [
      "Hello, World!\n",
      "4433555555666110966677755531111\n"
     ]
    }
   ],
   "source": [
    "string = input().lower()\n",
    "result = \"\"\n",
    "num_dict = {1:['.', ',', '?', '!', ':'], 2:['a', 'b', 'c'], 3:['d', 'e', 'f'], 4:['g', 'h', 'i'], 5:['j', 'k', 'l'], 6:['m', 'n', 'o'], \n",
    "            7:['p', 'q', 'r', 's'], 8:['t', 'u', 'v'], 9:['w', 'x', 'y', 'z'], 0:[\" \"]}\n",
    "for c in string:\n",
    "    for i in num_dict.keys():\n",
    "        if c in num_dict[i]:\n",
    "            \n",
    "            result+=str(i)*(num_dict[i].index(c)+1)\n",
    "print(result)"
   ]
  },
  {
   "cell_type": "markdown",
   "metadata": {},
   "source": [
    "## Exercise 131"
   ]
  },
  {
   "cell_type": "code",
   "execution_count": 48,
   "metadata": {
    "collapsed": false
   },
   "outputs": [
    {
     "name": "stdout",
     "output_type": "stream",
     "text": [
      "Hello, World!\n",
      ".... . .-.. .-.. --- .-- --- .-. .-.. -..\n"
     ]
    }
   ],
   "source": [
    "string = input().upper()\n",
    "\n",
    "MORSE_CODE_DICT = { 'A':'.-', 'B':'-...',\n",
    "                    'C':'-.-.', 'D':'-..', 'E':'.',\n",
    "                    'F':'..-.', 'G':'--.', 'H':'....',\n",
    "                    'I':'..', 'J':'.---', 'K':'-.-',\n",
    "                    'L':'.-..', 'M':'--', 'N':'-.',\n",
    "                    'O':'---', 'P':'.--.', 'Q':'--.-',\n",
    "                    'R':'.-.', 'S':'...', 'T':'-',\n",
    "                    'U':'..-', 'V':'...-', 'W':'.--',\n",
    "                    'X':'-..-', 'Y':'-.--', 'Z':'--..',\n",
    "                    '1':'.----', '2':'..---', '3':'...--',\n",
    "                    '4':'....-', '5':'.....', '6':'-....',\n",
    "                    '7':'--...', '8':'---..', '9':'----.',\n",
    "                    '0':'-----', ', ':'--..--', '.':'.-.-.-',\n",
    "                    '?':'..--..', '/':'-..-.', '-':'-....-',\n",
    "                    '(':'-.--.', ')':'-.--.-'}\n",
    "\n",
    "result = []\n",
    "for c in string:\n",
    "    try:\n",
    "        MORSE_CODE_DICT[c]\n",
    "        \n",
    "    except KeyError as e:\n",
    "        pass\n",
    "    else:\n",
    "        result.append(MORSE_CODE_DICT[c])\n",
    "        \n",
    "\n",
    "print(\" \".join(result))"
   ]
  },
  {
   "cell_type": "markdown",
   "metadata": {},
   "source": [
    "## Exercise 132"
   ]
  },
  {
   "cell_type": "code",
   "execution_count": 59,
   "metadata": {
    "collapsed": false
   },
   "outputs": [
    {
     "name": "stdout",
     "output_type": "stream",
     "text": [
      "X0A 1B2\n",
      "a rural address in Nunavut or Northwest\n"
     ]
    }
   ],
   "source": [
    "string = input().upper()\n",
    "prov_dict = {'A':'Newfoundlnad', 'B':'Nova Scotia', 'C':'Prince Edward Island',\n",
    "            'E':'New Brunswick', ('G', 'H', 'J'):'Quebec', ('K', 'L', 'M', 'N', 'P'): 'Ontario',\n",
    "            'R':'Manitoba', 'S':'Saskatchewan', 'T':'Alberta', 'V':'British Columbia',\n",
    "            'X':'Nunavut or Northwest', 'Y':'Yukon'}\n",
    "\n",
    "try:\n",
    "    x = [v for k, v in prov_dict.items() if string[0] in k][0]\n",
    "except:\n",
    "    print(\"Wrong postal code!\")\n",
    "else:\n",
    "    is_rural = string[1]\n",
    "    result = \"\"\n",
    "    if is_rural == \"0\":\n",
    "        result = \"rural\"\n",
    "    else:\n",
    "        result = \"urban\"\n",
    "    print(\"a\", result, \"address in\", x)\n"
   ]
  },
  {
   "cell_type": "code",
   "execution_count": null,
   "metadata": {
    "collapsed": true
   },
   "outputs": [],
   "source": []
  }
 ],
 "metadata": {
  "kernelspec": {
   "display_name": "Python 3",
   "language": "python",
   "name": "python3"
  },
  "language_info": {
   "codemirror_mode": {
    "name": "ipython",
    "version": 3
   },
   "file_extension": ".py",
   "mimetype": "text/x-python",
   "name": "python",
   "nbconvert_exporter": "python",
   "pygments_lexer": "ipython3",
   "version": "3.6.0"
  }
 },
 "nbformat": 4,
 "nbformat_minor": 2
}
