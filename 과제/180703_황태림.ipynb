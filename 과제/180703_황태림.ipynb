{
 "cells": [
  {
   "cell_type": "markdown",
   "metadata": {},
   "source": [
    "---"
   ]
  },
  {
   "cell_type": "markdown",
   "metadata": {},
   "source": [
    "# 180703 실습"
   ]
  },
  {
   "cell_type": "markdown",
   "metadata": {},
   "source": [
    "## 황태림"
   ]
  },
  {
   "cell_type": "markdown",
   "metadata": {},
   "source": [
    "#### Exercise 105"
   ]
  },
  {
   "cell_type": "code",
   "execution_count": 69,
   "metadata": {
    "collapsed": false
   },
   "outputs": [
    {
     "name": "stdout",
     "output_type": "stream",
     "text": [
      "10\n",
      "20 \n",
      "30 \n",
      "40 \n",
      "50 \n",
      "0\n",
      "50\n",
      "40\n",
      "30\n",
      "20\n",
      "10\n"
     ]
    }
   ],
   "source": [
    "number_list = []\n",
    "while True:\n",
    "    try:\n",
    "        number = int(input())\n",
    "    except:\n",
    "        print(\"Only number!\")\n",
    "    else:\n",
    "        if(number == 0):\n",
    "            number_list.reverse()\n",
    "            for lst in number_list:\n",
    "                print(lst)\n",
    "            break\n",
    "        number_list.append(number)\n"
   ]
  },
  {
   "cell_type": "markdown",
   "metadata": {},
   "source": [
    "#### Exercise 107"
   ]
  },
  {
   "cell_type": "code",
   "execution_count": 10,
   "metadata": {
    "collapsed": false
   },
   "outputs": [
    {
     "name": "stdout",
     "output_type": "stream",
     "text": [
      "first\n",
      "second\n",
      "first\n",
      "third\n",
      "second\n",
      "\n",
      "first\n",
      "second\n",
      "third\n"
     ]
    }
   ],
   "source": [
    "word_lst = []\n",
    "word_set = set()\n",
    "word = input()\n",
    "word_len = 0\n",
    "while word != \"\":\n",
    "    word_set.add(word)\n",
    "    if word_len != len(word_set):\n",
    "        word_len = len(word_set)\n",
    "        word_lst.append(word)\n",
    "    word = input()\n",
    "for w in word_lst:\n",
    "    print(w)"
   ]
  },
  {
   "cell_type": "code",
   "execution_count": 12,
   "metadata": {
    "collapsed": false
   },
   "outputs": [
    {
     "name": "stdout",
     "output_type": "stream",
     "text": [
      "first\n",
      "second\n",
      "first\n",
      "third\n",
      "second\n",
      "\n",
      "first\n",
      "second\n",
      "third\n"
     ]
    }
   ],
   "source": [
    "word_lst = []\n",
    "word = input()\n",
    "while word != \"\":\n",
    "    if word not in word_lst:\n",
    "        word_lst.append(word)\n",
    "    word = input()\n",
    "for w in word_lst:\n",
    "    print(w)"
   ]
  },
  {
   "cell_type": "code",
   "execution_count": 13,
   "metadata": {
    "collapsed": false
   },
   "outputs": [
    {
     "name": "stdout",
     "output_type": "stream",
     "text": [
      "first\n",
      "second\n",
      "first\n",
      "third\n",
      "second\n",
      "\n",
      "first\n",
      "second\n",
      "third\n"
     ]
    }
   ],
   "source": [
    "word_lst = []\n",
    "word = input()\n",
    "while word != \"\":\n",
    "    try:\n",
    "        word_lst.index(word)\n",
    "    except:\n",
    "        word_lst.append(word)\n",
    "    word = input()\n",
    "for w in word_lst:\n",
    "    print(w)"
   ]
  },
  {
   "cell_type": "markdown",
   "metadata": {},
   "source": [
    "#### Exercise 108"
   ]
  },
  {
   "cell_type": "code",
   "execution_count": 2,
   "metadata": {
    "collapsed": false
   },
   "outputs": [
    {
     "name": "stdout",
     "output_type": "stream",
     "text": [
      "3\n",
      "-4\n",
      "1\n",
      "0\n",
      "-1\n",
      "0\n",
      "-2\n",
      "\n",
      "-4\n",
      "-1\n",
      "-2\n",
      "0\n",
      "0\n",
      "3\n",
      "1\n"
     ]
    }
   ],
   "source": [
    "lst_neg = []\n",
    "lst_pos = []\n",
    "lst_zero = []\n",
    "\n",
    "while True:\n",
    "    try:\n",
    "        number = int(input())\n",
    "    except:\n",
    "        break\n",
    "    else:\n",
    "        if number > 0:\n",
    "            lst_pos.append(number)\n",
    "        elif number < 0:\n",
    "            lst_neg.append(number)\n",
    "        else:\n",
    "            lst_zero.append(number)\n",
    "\n",
    "lst_res = []\n",
    "lst_res.extend(lst_neg)\n",
    "lst_res.extend(lst_zero)\n",
    "lst_res.extend(lst_pos)\n",
    "\n",
    "for i in lst_res:\n",
    "    print(i)"
   ]
  },
  {
   "cell_type": "markdown",
   "metadata": {},
   "source": [
    "#### Exercise 110"
   ]
  },
  {
   "cell_type": "code",
   "execution_count": 5,
   "metadata": {
    "collapsed": true
   },
   "outputs": [],
   "source": [
    "def perfect(n):\n",
    "    result = 0\n",
    "    for i in range(1, n // 2 + 1):\n",
    "        if n % i == 0:\n",
    "            result += i\n",
    "    if result == n:\n",
    "        return True\n",
    "    else:\n",
    "        return False"
   ]
  },
  {
   "cell_type": "code",
   "execution_count": 6,
   "metadata": {
    "collapsed": false
   },
   "outputs": [
    {
     "name": "stdout",
     "output_type": "stream",
     "text": [
      "6\n",
      "28\n",
      "496\n",
      "8128\n"
     ]
    }
   ],
   "source": [
    "for i in range(i, 10001):\n",
    "    if perfect(i):\n",
    "        print(i)"
   ]
  },
  {
   "cell_type": "markdown",
   "metadata": {},
   "source": [
    "#### Exercise 109"
   ]
  },
  {
   "cell_type": "code",
   "execution_count": 20,
   "metadata": {
    "collapsed": false
   },
   "outputs": [
    {
     "name": "stdout",
     "output_type": "stream",
     "text": [
      "10\n",
      "[1, 2, 5]\n"
     ]
    }
   ],
   "source": [
    "def proper(n):\n",
    "    result = []\n",
    "    for i in range(1, n // 2 + 1):\n",
    "        if n % i == 0:\n",
    "            result.append(i)\n",
    "    return result\n",
    "\n",
    "print(proper(int(input())))"
   ]
  },
  {
   "cell_type": "markdown",
   "metadata": {},
   "source": [
    "#### Exercise 113"
   ]
  },
  {
   "cell_type": "code",
   "execution_count": 25,
   "metadata": {
    "collapsed": false
   },
   "outputs": [
    {
     "name": "stdout",
     "output_type": "stream",
     "text": [
      "one, two, three and four\n",
      "단어의 개수는 :  4\n",
      "one\n",
      "two\n",
      "three\n",
      "four\n"
     ]
    }
   ],
   "source": [
    "str_input = input()\n",
    "str_input = str_input.replace(\" and \", \", \")\n",
    "str_list = str_input.split(\", \")\n",
    "\n",
    "# word 개수\n",
    "print(\"단어의 개수는 : \", len(str_list))\n",
    "\n",
    "# word 출력\n",
    "for w in str_list:\n",
    "    print(w)"
   ]
  },
  {
   "cell_type": "code",
   "execution_count": 38,
   "metadata": {
    "collapsed": false
   },
   "outputs": [
    {
     "name": "stdout",
     "output_type": "stream",
     "text": [
      "1\n",
      "2\n",
      "\n",
      "1 and 2\n"
     ]
    }
   ],
   "source": [
    "word = input()\n",
    "result = \"\"\n",
    "while word != \"\":\n",
    "    result += \", \"+word\n",
    "    word = input()\n",
    "result = result[2:]\n",
    "and_index = result.rfind(',')\n",
    "result = result[:and_index]+' and'+result[and_index+1:]\n",
    "print(result)\n"
   ]
  },
  {
   "cell_type": "markdown",
   "metadata": {},
   "source": [
    "#### Exercise 114"
   ]
  },
  {
   "cell_type": "code",
   "execution_count": 24,
   "metadata": {
    "collapsed": false
   },
   "outputs": [
    {
     "name": "stdout",
     "output_type": "stream",
     "text": [
      "14\n",
      "25\n",
      "26\n",
      "34\n",
      "46\n",
      "49\n"
     ]
    }
   ],
   "source": [
    "from random import randint\n",
    "result = []\n",
    "lotto_len = 0\n",
    "while lotto_len < 6:\n",
    "    i = randint(1, 50)\n",
    "    if i not in result:\n",
    "        result.append(i)\n",
    "        lotto_len += 1\n",
    "result.sort()\n",
    "for i in result:\n",
    "    print(i)"
   ]
  },
  {
   "cell_type": "markdown",
   "metadata": {},
   "source": [
    "#### Exercise 134"
   ]
  },
  {
   "cell_type": "code",
   "execution_count": 16,
   "metadata": {
    "collapsed": false
   },
   "outputs": [
    {
     "name": "stdout",
     "output_type": "stream",
     "text": [
      "Hello, world!\n",
      "10\n"
     ]
    }
   ],
   "source": [
    "word = input()\n",
    "word_set = set()\n",
    "for c in word:\n",
    "    if c.isalpha:\n",
    "        word_set.add(c)\n",
    "\n",
    "print(len(word_set))\n",
    "        "
   ]
  },
  {
   "cell_type": "markdown",
   "metadata": {},
   "source": [
    "#### Exercise 135"
   ]
  },
  {
   "cell_type": "code",
   "execution_count": 19,
   "metadata": {
    "collapsed": false
   },
   "outputs": [
    {
     "name": "stdout",
     "output_type": "stream",
     "text": [
      "First sentence : asdasdasjifo\n",
      "Second sentence : Aksd ajsdj\n",
      "False\n"
     ]
    }
   ],
   "source": [
    "word_first = input(\"First sentence : \")\n",
    "word_second = input(\"Second sentence : \")\n",
    "\n",
    "# 소문자로 치환\n",
    "word_first = word_first.lower()\n",
    "word_second = word_second.lower()\n",
    "\n",
    "word_set_first = set()\n",
    "word_set_second = set()\n",
    "\n",
    "for c in word_first:\n",
    "    if c.isalpha:\n",
    "        word_set_first.add(c)\n",
    "        \n",
    "for c in word_second:\n",
    "    if c.isalpha:\n",
    "        word_set_second.add(c)\n",
    "\n",
    "if word_set_first == word_set_second:\n",
    "    print(True)\n",
    "else:\n",
    "    print(False)\n",
    "        "
   ]
  },
  {
   "cell_type": "code",
   "execution_count": null,
   "metadata": {
    "collapsed": true
   },
   "outputs": [],
   "source": []
  }
 ],
 "metadata": {
  "kernelspec": {
   "display_name": "Python 3",
   "language": "python",
   "name": "python3"
  },
  "language_info": {
   "codemirror_mode": {
    "name": "ipython",
    "version": 3
   },
   "file_extension": ".py",
   "mimetype": "text/x-python",
   "name": "python",
   "nbconvert_exporter": "python",
   "pygments_lexer": "ipython3",
   "version": "3.6.0"
  }
 },
 "nbformat": 4,
 "nbformat_minor": 2
}
