{
 "cells": [
  {
   "cell_type": "markdown",
   "metadata": {},
   "source": [
    "# Python practice 2"
   ]
  },
  {
   "cell_type": "markdown",
   "metadata": {},
   "source": [
    "---"
   ]
  },
  {
   "cell_type": "markdown",
   "metadata": {},
   "source": [
    "#### Exercise 61"
   ]
  },
  {
   "cell_type": "code",
   "execution_count": 2,
   "metadata": {
    "collapsed": false
   },
   "outputs": [
    {
     "name": "stdout",
     "output_type": "stream",
     "text": [
      "10\n",
      "20\n",
      "30\n",
      "0\n",
      "20.0\n"
     ]
    }
   ],
   "source": [
    "num = int(input())\n",
    "result = 0\n",
    "cnt = 0\n",
    "while num != 0:\n",
    "    result += num\n",
    "    cnt += 1\n",
    "    num = int(input())\n",
    "print(result / cnt)"
   ]
  },
  {
   "cell_type": "markdown",
   "metadata": {},
   "source": [
    "#### Exercise 63"
   ]
  },
  {
   "cell_type": "code",
   "execution_count": 3,
   "metadata": {
    "collapsed": false
   },
   "outputs": [
    {
     "name": "stdout",
     "output_type": "stream",
     "text": [
      "0 Celsius <-> 32.0 Fahrenheit\n",
      "10 Celsius <-> 50.0 Fahrenheit\n",
      "20 Celsius <-> 68.0 Fahrenheit\n",
      "30 Celsius <-> 86.0 Fahrenheit\n",
      "40 Celsius <-> 104.0 Fahrenheit\n",
      "50 Celsius <-> 122.0 Fahrenheit\n",
      "60 Celsius <-> 140.0 Fahrenheit\n",
      "70 Celsius <-> 158.0 Fahrenheit\n",
      "80 Celsius <-> 176.0 Fahrenheit\n",
      "90 Celsius <-> 194.0 Fahrenheit\n",
      "100 Celsius <-> 212.0 Fahrenheit\n"
     ]
    }
   ],
   "source": [
    "for i in range(0, 101, 10):\n",
    "    print(i, \"Celsius <->\", i * 1.8 + 32, \"Fahrenheit\")"
   ]
  },
  {
   "cell_type": "markdown",
   "metadata": {},
   "source": [
    "#### Exercise 66"
   ]
  },
  {
   "cell_type": "code",
   "execution_count": 11,
   "metadata": {
    "collapsed": false
   },
   "outputs": [
    {
     "name": "stdout",
     "output_type": "stream",
     "text": [
      "A\n",
      "B+\n",
      "C\n",
      "\n",
      "3.1\n"
     ]
    }
   ],
   "source": [
    "grade = input()\n",
    "table = {\"A+\" : 4.0, \"A\" : 4.0, \"A-\" : 3.7, \"B+\" : 3.3, \"B\" : 3.0, \"B-\" : 2.7, \"C+\" : 2.3, \"C\" : 2.0, \"C-\" : 1.7, \"D+\" : 1.3, \"D\" : 1.0, \"F\" : 0.0}\n",
    "result = 0\n",
    "cnt = 0\n",
    "while grade !=\"\":\n",
    "    if grade in table:\n",
    "        result += table.get(grade)\n",
    "    cnt += 1\n",
    "    grade = input()\n",
    "print(\"{0:.1f}\".format(result / cnt))"
   ]
  },
  {
   "cell_type": "markdown",
   "metadata": {},
   "source": [
    "#### Exercise 67"
   ]
  },
  {
   "cell_type": "code",
   "execution_count": 3,
   "metadata": {
    "collapsed": false
   },
   "outputs": [
    {
     "name": "stdout",
     "output_type": "stream",
     "text": [
      "30\n",
      "\n",
      "$23.00\n"
     ]
    }
   ],
   "source": [
    "guest = input()\n",
    "result = 0.0\n",
    "while guest !=\"\":\n",
    "    guest = int(guest)\n",
    "    if guest <= 2:\n",
    "        pass\n",
    "    elif 2 < guest < 13:\n",
    "        result += 14.00\n",
    "    elif guest > 64:\n",
    "        result += 18.00\n",
    "    else:\n",
    "        result += 23.00\n",
    "    \n",
    "    guest = input()\n",
    "print(\"${0:.2f}\".format(result))"
   ]
  },
  {
   "cell_type": "markdown",
   "metadata": {},
   "source": [
    "#### Exercise 72"
   ]
  },
  {
   "cell_type": "code",
   "execution_count": 6,
   "metadata": {
    "collapsed": false
   },
   "outputs": [
    {
     "name": "stdout",
     "output_type": "stream",
     "text": [
      "asdsa\n",
      "Palindrome!\n"
     ]
    }
   ],
   "source": [
    "def palindrome(word):\n",
    "    for i in range(len(word)):\n",
    "        if word[i] != word[len(word) - 1 - i]:\n",
    "            print(\"No palindrome!\")\n",
    "            return\n",
    "    print(\"Palindrome!\")\n",
    "\n",
    "palindrome(input().lower())"
   ]
  },
  {
   "cell_type": "markdown",
   "metadata": {},
   "source": [
    "#### Exercise 74"
   ]
  },
  {
   "cell_type": "code",
   "execution_count": 24,
   "metadata": {
    "collapsed": false
   },
   "outputs": [
    {
     "name": "stdout",
     "output_type": "stream",
     "text": [
      "         1    2    3    4    5    6    7    8    9   10\n",
      "    1    1    2    3    4    5    6    7    8    9   10\n",
      "    2    2    4    6    8   10   12   14   16   18   20\n",
      "    3    3    6    9   12   15   18   21   24   27   30\n",
      "    4    4    8   12   16   20   24   28   32   36   40\n",
      "    5    5   10   15   20   25   30   35   40   45   50\n",
      "    6    6   12   18   24   30   36   42   48   54   60\n",
      "    7    7   14   21   28   35   42   49   56   63   70\n",
      "    8    8   16   24   32   40   48   56   64   72   80\n",
      "    9    9   18   27   36   45   54   63   72   81   90\n",
      "   10   10   20   30   40   50   60   70   80   90  100\n"
     ]
    }
   ],
   "source": [
    "table = []\n",
    "label = list(range(1, 10))\n",
    "print(\"     \", end=\"\")\n",
    "for i in label:\n",
    "    print(\"%5d\" %i, end=\"\")\n",
    "print(\"%5d\" %10)\n",
    "for i in range(1, 11):\n",
    "    print(\"%5d\" %i, end=\"\")\n",
    "    for j in label:\n",
    "        print(\"%5d\" %(i*j), end=\"\")\n",
    "    print(\"%5d\" %(i*10))"
   ]
  },
  {
   "cell_type": "markdown",
   "metadata": {},
   "source": [
    "#### Exercise 75"
   ]
  },
  {
   "cell_type": "code",
   "execution_count": 31,
   "metadata": {
    "collapsed": false
   },
   "outputs": [
    {
     "name": "stdout",
     "output_type": "stream",
     "text": [
      "24 32\n",
      "8\n"
     ]
    }
   ],
   "source": [
    "n, m = input().split(\" \")\n",
    "\n",
    "n = int(n)\n",
    "m = int(m)\n",
    "\n",
    "d = min(n, m)\n",
    "\n",
    "while n % d != 0 or m % d != 0:\n",
    "    d -= 1\n",
    "\n",
    "print(d)"
   ]
  },
  {
   "cell_type": "markdown",
   "metadata": {},
   "source": [
    "#### Exercise 77"
   ]
  },
  {
   "cell_type": "code",
   "execution_count": 34,
   "metadata": {
    "collapsed": false
   },
   "outputs": [
    {
     "name": "stdout",
     "output_type": "stream",
     "text": [
      "1001\n",
      "Decimal number : 9\n"
     ]
    }
   ],
   "source": [
    "print(\"Decimal number :\", int(input(), 2))"
   ]
  },
  {
   "cell_type": "code",
   "execution_count": 36,
   "metadata": {
    "collapsed": false
   },
   "outputs": [
    {
     "name": "stdout",
     "output_type": "stream",
     "text": [
      "1011\n",
      "Decimal number :  11\n"
     ]
    }
   ],
   "source": [
    "binary = input()[::-1]\n",
    "result = 0\n",
    "cnt = 0\n",
    "for i in binary:\n",
    "    if i == \"1\":\n",
    "        result += 2**cnt\n",
    "    cnt += 1\n",
    "print(\"Decimal number : \", result)"
   ]
  },
  {
   "cell_type": "markdown",
   "metadata": {},
   "source": [
    "#### Exercise 78"
   ]
  },
  {
   "cell_type": "code",
   "execution_count": 39,
   "metadata": {
    "collapsed": false
   },
   "outputs": [
    {
     "name": "stdout",
     "output_type": "stream",
     "text": [
      "10\n",
      "Binary number :  1010\n"
     ]
    }
   ],
   "source": [
    "q = int(input())\n",
    "\n",
    "result = \"\"\n",
    "\n",
    "while q > 0:\n",
    "    r = q % 2\n",
    "    result += str(r)\n",
    "    q //= 2\n",
    "print(\"Binary number : \", result[::-1])"
   ]
  },
  {
   "cell_type": "code",
   "execution_count": null,
   "metadata": {
    "collapsed": true
   },
   "outputs": [],
   "source": []
  }
 ],
 "metadata": {
  "kernelspec": {
   "display_name": "Python 3",
   "language": "python",
   "name": "python3"
  },
  "language_info": {
   "codemirror_mode": {
    "name": "ipython",
    "version": 3
   },
   "file_extension": ".py",
   "mimetype": "text/x-python",
   "name": "python",
   "nbconvert_exporter": "python",
   "pygments_lexer": "ipython3",
   "version": "3.6.0"
  }
 },
 "nbformat": 4,
 "nbformat_minor": 2
}
