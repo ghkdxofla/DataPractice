{
 "cells": [
  {
   "cell_type": "markdown",
   "metadata": {},
   "source": [
    "# 180719_과제"
   ]
  },
  {
   "cell_type": "markdown",
   "metadata": {},
   "source": [
    "---"
   ]
  },
  {
   "cell_type": "markdown",
   "metadata": {},
   "source": [
    "## 황태림"
   ]
  },
  {
   "cell_type": "code",
   "execution_count": 1,
   "metadata": {
    "collapsed": true
   },
   "outputs": [],
   "source": [
    "# Google 이미지 검색에서 결과 받아오기\n",
    "import requests\n",
    "from bs4 import BeautifulSoup\n",
    "from urllib.parse import urlencode, quote_plus, unquote\n",
    "def getImage(url = 'https://www.google.com/search', selector = '.img_container', search_name = '샤갈', num_retries=2):\n",
    "    \n",
    "    \n",
    "    params = {'q' : search_name,\n",
    "             'source':'lnms',\n",
    "             'tbm':'isch'}\n",
    "    agent = \"Mozilla/5.0 (Windows NT 10.0; Win64; x64) AppleWebKit/537.36 (KHTML, like Gecko) Chrome/67.0.3396.99 Safari/537.36\"\n",
    "    headers = {\n",
    "        \"User-agent\":agent\n",
    "    }\n",
    "\n",
    "    res = requests.get(url=url, headers=headers)\n",
    "    if 500 <= res.status_code<600 and num_retries>0:\n",
    "        print(html.status_code, res, reason)\n",
    "        return getImage(url=url, selector = selector, search_name = search_name, mum_retires = (num_retries-1))\n",
    "    html = BeautifulSoup(res.content, 'lxml')\n",
    "    lists = html.select('.row ul li')\n",
    "    return lists"
   ]
  },
  {
   "cell_type": "code",
   "execution_count": 7,
   "metadata": {},
   "outputs": [
    {
     "data": {
      "text/plain": [
       "<pymongo.results.InsertOneResult at 0x2750a580120>"
      ]
     },
     "execution_count": 7,
     "metadata": {},
     "output_type": "execute_result"
    }
   ],
   "source": [
    "# Base64\n",
    "import base64\n",
    "\n",
    "# MongoDB\n",
    "from pymongo import MongoClient\n",
    "\n",
    "client = MongoClient('127.0.0.1')\n",
    "image_db = client.get_database(\"image_db\")\n",
    "item = image_db[\"item\"]\n",
    "item.insert_one({\"test\":\"test\"})"
   ]
  },
  {
   "cell_type": "code",
   "execution_count": 26,
   "metadata": {},
   "outputs": [
    {
     "name": "stdout",
     "output_type": "stream",
     "text": [
      "{'n': 1, 'nModified': 0, 'upserted': ObjectId('5b504be0f0c0a27957034e2e'), 'ok': 1.0, 'updatedExisting': False}\n",
      "Save Marc Chagall. Young Girl on a Sofa (Mariaska).\n",
      "{'n': 1, 'nModified': 0, 'upserted': ObjectId('5b504be1f0c0a27957034e30'), 'ok': 1.0, 'updatedExisting': False}\n",
      "Save Marc Chagall. Red Nude Sitting Up.\n",
      "{'n': 1, 'nModified': 0, 'upserted': ObjectId('5b504be2f0c0a27957034e34'), 'ok': 1.0, 'updatedExisting': False}\n",
      "Save Marc Chagall. Self-Portrait with Brushes. (Autoportrait).\n",
      "{'n': 1, 'nModified': 0, 'upserted': ObjectId('5b504be4f0c0a27957034e36'), 'ok': 1.0, 'updatedExisting': False}\n",
      "Save Marc Chagall. Russian Wedding.\n",
      "{'n': 1, 'nModified': 0, 'upserted': ObjectId('5b504be5f0c0a27957034e38'), 'ok': 1.0, 'updatedExisting': False}\n",
      "Save Marc Chagall. Birth.\n",
      "{'n': 1, 'nModified': 0, 'upserted': ObjectId('5b504be7f0c0a27957034e3a'), 'ok': 1.0, 'updatedExisting': False}\n",
      "Save Marc Chagall. I and the Village.\n",
      "{'n': 1, 'nModified': 0, 'upserted': ObjectId('5b504be8f0c0a27957034e3d'), 'ok': 1.0, 'updatedExisting': False}\n",
      "Save Marc Chagall. The Poet, or Half Past Three (Le poète, ou Half Past Three).\n",
      "{'n': 1, 'nModified': 0, 'upserted': ObjectId('5b504be9f0c0a27957034e3f'), 'ok': 1.0, 'updatedExisting': False}\n",
      "Save Marc Chagall. Adam and Eve.\n",
      "{'n': 1, 'nModified': 0, 'upserted': ObjectId('5b504bebf0c0a27957034e82'), 'ok': 1.0, 'updatedExisting': False}\n",
      "Save Marc Chagall. To My Betrothed.\n",
      "{'n': 1, 'nModified': 0, 'upserted': ObjectId('5b504bedf0c0a27957034ea3'), 'ok': 1.0, 'updatedExisting': False}\n",
      "Save Marc Chagall. Interior II.\n",
      "{'n': 1, 'nModified': 0, 'upserted': ObjectId('5b504beef0c0a27957034ea5'), 'ok': 1.0, 'updatedExisting': False}\n",
      "Save Marc Chagall. The Soldier Drinks (La soldat boit).\n",
      "{'n': 1, 'nModified': 0, 'upserted': ObjectId('5b504beff0c0a27957034ea7'), 'ok': 1.0, 'updatedExisting': False}\n",
      "Save Marc Chagall. The Cattle Dealer.\n",
      "{'n': 1, 'nModified': 0, 'upserted': ObjectId('5b504bf1f0c0a27957034ea9'), 'ok': 1.0, 'updatedExisting': False}\n",
      "Save Marc Chagall. The Fiddler. (Le violoniste).\n",
      "{'n': 1, 'nModified': 0, 'upserted': ObjectId('5b504bf2f0c0a27957034eac'), 'ok': 1.0, 'updatedExisting': False}\n",
      "Save Marc Chagall. The Smolensk Newspaper.\n",
      "{'n': 1, 'nModified': 0, 'upserted': ObjectId('5b504bf4f0c0a27957034eae'), 'ok': 1.0, 'updatedExisting': False}\n",
      "Save Marc Chagall. Window in the Country. (Fenêtre à la campagne).\n",
      "{'n': 1, 'nModified': 0, 'upserted': ObjectId('5b504bf5f0c0a27957034eb0'), 'ok': 1.0, 'updatedExisting': False}\n",
      "Save Marc Chagall. The Birthday.\n",
      "{'n': 1, 'nModified': 0, 'upserted': ObjectId('5b504bf6f0c0a27957034eb4'), 'ok': 1.0, 'updatedExisting': False}\n",
      "Save Marc Chagall. Bella with White Collar.\n",
      "{'n': 1, 'nModified': 0, 'upserted': ObjectId('5b504bf8f0c0a27957034eb6'), 'ok': 1.0, 'updatedExisting': False}\n",
      "Save Marc Chagall. Cemetery Gates.\n",
      "{'n': 1, 'nModified': 0, 'upserted': ObjectId('5b504bf9f0c0a27957034eb8'), 'ok': 1.0, 'updatedExisting': False}\n",
      "Save Marc Chagall. The Praying Jew (Rabbi of Vitebsk).\n",
      "{'n': 1, 'nModified': 0, 'upserted': ObjectId('5b504bfaf0c0a27957034eba'), 'ok': 1.0, 'updatedExisting': False}\n",
      "Save Marc Chagall. Self-Portrait.\n",
      "{'n': 1, 'nModified': 0, 'upserted': ObjectId('5b504bfcf0c0a27957034ebd'), 'ok': 1.0, 'updatedExisting': False}\n",
      "Save Marc Chagall. The Feast of the Tabernacles.\n",
      "{'n': 1, 'nModified': 0, 'upserted': ObjectId('5b504bfff0c0a27957034ebf'), 'ok': 1.0, 'updatedExisting': False}\n",
      "Save Marc Chagall. Peasant Life (The Stable; Night; Man with Whip).\n",
      "{'n': 1, 'nModified': 0, 'upserted': ObjectId('5b504c00f0c0a27957034ec3'), 'ok': 1.0, 'updatedExisting': False}\n",
      "Save Marc Chagall. Composition with Circles and Goat. (Composition aux cercles et à la chèvre).\n",
      "{'n': 1, 'nModified': 0, 'upserted': ObjectId('5b504c02f0c0a27957034ec5'), 'ok': 1.0, 'updatedExisting': False}\n",
      "Save Marc Chagall. The Promenade (La promenade).\n",
      "{'n': 1, 'nModified': 0, 'upserted': ObjectId('5b504c03f0c0a27957034ec7'), 'ok': 1.0, 'updatedExisting': False}\n",
      "Save Marc Chagall. The Watering Trough.\n",
      "{'n': 1, 'nModified': 0, 'upserted': ObjectId('5b504c05f0c0a27957034ec9'), 'ok': 1.0, 'updatedExisting': False}\n",
      "Save Marc Chagall. Peasant Life. (La vie paysanne).\n",
      "{'n': 1, 'nModified': 0, 'upserted': ObjectId('5b504c07f0c0a27957034ecc'), 'ok': 1.0, 'updatedExisting': False}\n",
      "Save Marc Chagall. Bella in Mourillon (Bella à Mourillon).\n",
      "{'n': 1, 'nModified': 0, 'upserted': ObjectId('5b504c08f0c0a27957034ece'), 'ok': 1.0, 'updatedExisting': False}\n",
      "Save Marc Chagall. Equestrienne (L'écuyère).\n",
      "{'n': 1, 'nModified': 0, 'upserted': ObjectId('5b504c0af0c0a27957034ed1'), 'ok': 1.0, 'updatedExisting': False}\n",
      "Save Marc Chagall. Fruits and Flowers (Fruits et fleurs).\n",
      "{'n': 1, 'nModified': 0, 'upserted': ObjectId('5b504c0bf0c0a27957034ed4'), 'ok': 1.0, 'updatedExisting': False}\n",
      "Save Marc Chagall. Lovers in the Lilacs.\n",
      "{'n': 1, 'nModified': 0, 'upserted': ObjectId('5b504c0df0c0a27957034ed6'), 'ok': 1.0, 'updatedExisting': False}\n",
      "Save Marc Chagall. Solitude.\n",
      "{'n': 1, 'nModified': 0, 'upserted': ObjectId('5b504c0ef0c0a27957034ed8'), 'ok': 1.0, 'updatedExisting': False}\n",
      "Save Marc Chagall. The Revolution.\n",
      "{'n': 1, 'nModified': 0, 'upserted': ObjectId('5b504c10f0c0a27957034edb'), 'ok': 1.0, 'updatedExisting': False}\n",
      "Save Marc Chagall. White Crucifixion (La crucifixion blanche).\n",
      "{'n': 1, 'nModified': 0, 'upserted': ObjectId('5b504c12f0c0a27957034edd'), 'ok': 1.0, 'updatedExisting': False}\n",
      "Save Marc Chagall. Red Roofs (Le toits rouges).\n",
      "{'n': 1, 'nModified': 0, 'upserted': ObjectId('5b504c13f0c0a27957034edf'), 'ok': 1.0, 'updatedExisting': False}\n",
      "Save Marc Chagall. The Three Candles.\n",
      "{'n': 1, 'nModified': 0, 'upserted': ObjectId('5b504c15f0c0a27957034ee3'), 'ok': 1.0, 'updatedExisting': False}\n",
      "Save Marc Chagall. Listening to the Cock.\n",
      "{'n': 1, 'nModified': 0, 'upserted': ObjectId('5b504c16f0c0a27957034ee5'), 'ok': 1.0, 'updatedExisting': False}\n",
      "Save Marc Chagall. The Wedding.\n",
      "{'n': 1, 'nModified': 0, 'upserted': ObjectId('5b504c18f0c0a27957034ee7'), 'ok': 1.0, 'updatedExisting': False}\n",
      "Save Marc Chagall. Cow with Parasol.\n"
     ]
    },
    {
     "ename": "KeyError",
     "evalue": "'title'",
     "output_type": "error",
     "traceback": [
      "\u001b[1;31m---------------------------------------------------------------------------\u001b[0m",
      "\u001b[1;31mKeyError\u001b[0m                                  Traceback (most recent call last)",
      "\u001b[1;32m<ipython-input-26-5229e84b0c52>\u001b[0m in \u001b[0;36m<module>\u001b[1;34m()\u001b[0m\n\u001b[0;32m      9\u001b[0m     \u001b[0mimg_base64\u001b[0m \u001b[1;33m=\u001b[0m \u001b[0mbase64\u001b[0m\u001b[1;33m.\u001b[0m\u001b[0mencodebytes\u001b[0m\u001b[1;33m(\u001b[0m\u001b[0mimg_file\u001b[0m\u001b[1;33m.\u001b[0m\u001b[0mcontent\u001b[0m\u001b[1;33m)\u001b[0m\u001b[1;33m\u001b[0m\u001b[0m\n\u001b[0;32m     10\u001b[0m \u001b[1;33m\u001b[0m\u001b[0m\n\u001b[1;32m---> 11\u001b[1;33m     \u001b[0minfo_list\u001b[0m \u001b[1;33m=\u001b[0m \u001b[0mtemp\u001b[0m\u001b[1;33m.\u001b[0m\u001b[0mattrs\u001b[0m\u001b[1;33m[\u001b[0m\u001b[1;34m\"title\"\u001b[0m\u001b[1;33m]\u001b[0m\u001b[1;33m.\u001b[0m\u001b[0msplit\u001b[0m\u001b[1;33m(\u001b[0m\u001b[1;34m\". \"\u001b[0m\u001b[1;33m)\u001b[0m\u001b[1;33m\u001b[0m\u001b[0m\n\u001b[0m\u001b[0;32m     12\u001b[0m     \u001b[1;31m# db에 저장\u001b[0m\u001b[1;33m\u001b[0m\u001b[1;33m\u001b[0m\u001b[0m\n\u001b[0;32m     13\u001b[0m     \u001b[1;32mtry\u001b[0m\u001b[1;33m:\u001b[0m\u001b[1;33m\u001b[0m\u001b[0m\n",
      "\u001b[1;31mKeyError\u001b[0m: 'title'"
     ]
    }
   ],
   "source": [
    "imgList = getImage(url = \"http://www.abcgallery.com/C/chagall/chagallbio.html\")\n",
    "origin_url = \"http://www.abcgallery.com\"\n",
    "for row in imgList:\n",
    "    temp = row.select(\"a\")[0]\n",
    "    img_url=origin_url+temp.attrs[\"href\"]\n",
    "    img_url=img_url.replace(\"html\", \"jpg\")\n",
    "    \n",
    "    img_file = requests.get(img_url)\n",
    "    img_base64 = base64.encodebytes(img_file.content)\n",
    "    \n",
    "    \n",
    "    # db에 저장\n",
    "    try:\n",
    "        info_list = temp.attrs[\"title\"].split(\". \")\n",
    "        result = item.update_one(\n",
    "            {\"title\": info_list[1]},\n",
    "            {\n",
    "                '$set':{'img_url':img_url,'img_base64':img_base64}\n",
    "            },\n",
    "            upsert=True,\n",
    "        )\n",
    "        print(result.raw_result)\n",
    "        print(\"Save\", temp.attrs[\"title\"])\n",
    "    except Exception as e:\n",
    "        print(e)\n",
    "        break\n",
    "    \n",
    "\n",
    "    \n"
   ]
  },
  {
   "cell_type": "code",
   "execution_count": 4,
   "metadata": {
    "collapsed": true
   },
   "outputs": [],
   "source": [
    "client.close()"
   ]
  },
  {
   "cell_type": "code",
   "execution_count": 25,
   "metadata": {},
   "outputs": [
    {
     "name": "stdout",
     "output_type": "stream",
     "text": [
      "['Marc Chagall', 'Young Girl on a Sofa (Mariaska).']\n",
      "['Marc Chagall', 'Red Nude Sitting Up.']\n",
      "['Marc Chagall', 'Self-Portrait with Brushes', '(Autoportrait).']\n",
      "['Marc Chagall', 'Russian Wedding.']\n",
      "['Marc Chagall', 'Birth.']\n",
      "['Marc Chagall', 'I and the Village.']\n",
      "['Marc Chagall', 'The Poet, or Half Past Three (Le poète, ou Half Past Three).']\n",
      "['Marc Chagall', 'Adam and Eve.']\n",
      "['Marc Chagall', 'To My Betrothed.']\n",
      "['Marc Chagall', 'Interior II.']\n",
      "['Marc Chagall', 'The Soldier Drinks (La soldat boit).']\n",
      "['Marc Chagall', 'The Cattle Dealer.']\n",
      "['Marc Chagall', 'The Fiddler', '(Le violoniste).']\n",
      "['Marc Chagall', 'The Smolensk Newspaper.']\n",
      "['Marc Chagall', 'Window in the Country', '(Fenêtre à la campagne).']\n",
      "['Marc Chagall', 'The Birthday.']\n",
      "['Marc Chagall', 'Bella with White Collar.']\n",
      "['Marc Chagall', 'Cemetery Gates.']\n",
      "['Marc Chagall', 'The Praying Jew (Rabbi of Vitebsk).']\n",
      "['Marc Chagall', 'Self-Portrait.']\n",
      "['Marc Chagall', 'The Feast of the Tabernacles.']\n",
      "['Marc Chagall', 'Peasant Life (The Stable; Night; Man with Whip).']\n",
      "['Marc Chagall', 'Composition with Circles and Goat', '(Composition aux cercles et à la chèvre).']\n",
      "['Marc Chagall', 'The Promenade (La promenade).']\n",
      "['Marc Chagall', 'The Watering Trough.']\n",
      "['Marc Chagall', 'Peasant Life', '(La vie paysanne).']\n",
      "['Marc Chagall', 'Bella in Mourillon (Bella à Mourillon).']\n",
      "['Marc Chagall', \"Equestrienne (L'écuyère).\"]\n",
      "['Marc Chagall', 'Fruits and Flowers (Fruits et fleurs).']\n",
      "['Marc Chagall', 'Lovers in the Lilacs.']\n",
      "['Marc Chagall', 'Solitude.']\n",
      "['Marc Chagall', 'The Revolution.']\n",
      "['Marc Chagall', 'White Crucifixion (La crucifixion blanche).']\n",
      "['Marc Chagall', 'Red Roofs (Le toits rouges).']\n",
      "['Marc Chagall', 'The Three Candles.']\n",
      "['Marc Chagall', 'Listening to the Cock.']\n",
      "['Marc Chagall', 'The Wedding.']\n",
      "['Marc Chagall', 'Cow with Parasol.']\n"
     ]
    },
    {
     "ename": "KeyError",
     "evalue": "'title'",
     "output_type": "error",
     "traceback": [
      "\u001b[1;31m---------------------------------------------------------------------------\u001b[0m",
      "\u001b[1;31mKeyError\u001b[0m                                  Traceback (most recent call last)",
      "\u001b[1;32m<ipython-input-25-498275046e07>\u001b[0m in \u001b[0;36m<module>\u001b[1;34m()\u001b[0m\n\u001b[0;32m      2\u001b[0m \u001b[1;32mfor\u001b[0m \u001b[0mrow\u001b[0m \u001b[1;32min\u001b[0m \u001b[0mimgList\u001b[0m\u001b[1;33m:\u001b[0m\u001b[1;33m\u001b[0m\u001b[0m\n\u001b[0;32m      3\u001b[0m     \u001b[0mtemp\u001b[0m \u001b[1;33m=\u001b[0m \u001b[0mrow\u001b[0m\u001b[1;33m.\u001b[0m\u001b[0mselect\u001b[0m\u001b[1;33m(\u001b[0m\u001b[1;34m\"a\"\u001b[0m\u001b[1;33m)\u001b[0m\u001b[1;33m[\u001b[0m\u001b[1;36m0\u001b[0m\u001b[1;33m]\u001b[0m\u001b[1;33m\u001b[0m\u001b[0m\n\u001b[1;32m----> 4\u001b[1;33m     \u001b[0mstring\u001b[0m \u001b[1;33m=\u001b[0m \u001b[0mtemp\u001b[0m\u001b[1;33m.\u001b[0m\u001b[0mattrs\u001b[0m\u001b[1;33m[\u001b[0m\u001b[1;34m\"title\"\u001b[0m\u001b[1;33m]\u001b[0m\u001b[1;33m\u001b[0m\u001b[0m\n\u001b[0m\u001b[0;32m      5\u001b[0m     \u001b[0mprint\u001b[0m\u001b[1;33m(\u001b[0m\u001b[0mstring\u001b[0m\u001b[1;33m.\u001b[0m\u001b[0msplit\u001b[0m\u001b[1;33m(\u001b[0m\u001b[1;34m\". \"\u001b[0m\u001b[1;33m)\u001b[0m\u001b[1;33m)\u001b[0m\u001b[1;33m\u001b[0m\u001b[0m\n",
      "\u001b[1;31mKeyError\u001b[0m: 'title'"
     ]
    }
   ],
   "source": []
  },
  {
   "cell_type": "code",
   "execution_count": null,
   "metadata": {
    "collapsed": true
   },
   "outputs": [],
   "source": []
  }
 ],
 "metadata": {
  "kernelspec": {
   "display_name": "Python 3",
   "language": "python",
   "name": "python3"
  },
  "language_info": {
   "codemirror_mode": {
    "name": "ipython",
    "version": 3
   },
   "file_extension": ".py",
   "mimetype": "text/x-python",
   "name": "python",
   "nbconvert_exporter": "python",
   "pygments_lexer": "ipython3",
   "version": "3.6.6"
  }
 },
 "nbformat": 4,
 "nbformat_minor": 2
}
