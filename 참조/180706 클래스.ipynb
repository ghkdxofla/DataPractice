{
 "cells": [
  {
   "cell_type": "markdown",
   "metadata": {},
   "source": [
    "## Class and Object"
   ]
  },
  {
   "cell_type": "code",
   "execution_count": 30,
   "metadata": {
    "collapsed": true
   },
   "outputs": [],
   "source": [
    "class Parrot:\n",
    "\n",
    "    # class attribute\n",
    "    species = \"bird\"\n",
    "\n",
    "    # instance attribute: 메소드 안에 선언되는 것. 첫번째 인자가 자기자신을 가리킴.\n",
    "    def __init__(self, name, age):\n",
    "        self.name = name\n",
    "        self.age = age"
   ]
  },
  {
   "cell_type": "code",
   "execution_count": 2,
   "metadata": {
    "collapsed": true
   },
   "outputs": [],
   "source": [
    "# instantiate the Parrot class\n",
    "blu = Parrot(\"Blu\", 10)\n",
    "woo = Parrot(\"Woo\", 15)"
   ]
  },
  {
   "cell_type": "code",
   "execution_count": null,
   "metadata": {
    "collapsed": true
   },
   "outputs": [],
   "source": []
  },
  {
   "cell_type": "code",
   "execution_count": 6,
   "metadata": {
    "collapsed": false
   },
   "outputs": [
    {
     "data": {
      "text/plain": [
       "{'age': 10, 'name': 'Blu'}"
      ]
     },
     "execution_count": 6,
     "metadata": {},
     "output_type": "execute_result"
    }
   ],
   "source": [
    "vars(blu) # instance attribute"
   ]
  },
  {
   "cell_type": "code",
   "execution_count": 7,
   "metadata": {
    "collapsed": false
   },
   "outputs": [
    {
     "data": {
      "text/plain": [
       "{'age': 10, 'name': 'Blu'}"
      ]
     },
     "execution_count": 7,
     "metadata": {},
     "output_type": "execute_result"
    }
   ],
   "source": [
    "blu.__dict__"
   ]
  },
  {
   "cell_type": "code",
   "execution_count": 8,
   "metadata": {
    "collapsed": true
   },
   "outputs": [],
   "source": [
    "blu.species = 'bird2'"
   ]
  },
  {
   "cell_type": "code",
   "execution_count": 12,
   "metadata": {
    "collapsed": false
   },
   "outputs": [
    {
     "data": {
      "text/plain": [
       "'bird2'"
      ]
     },
     "execution_count": 12,
     "metadata": {},
     "output_type": "execute_result"
    }
   ],
   "source": [
    "blu.species # Instance Attribute(Class Attribute는 살아있다.)이다. 인스턴스 attribute가 우선순위이기 때문에 이렇게 나타나는 것이다.\n",
    "#이렇게 이름 똑같이 해서 골치아프게 하지 말고 이름 다르게 하자."
   ]
  },
  {
   "cell_type": "code",
   "execution_count": 15,
   "metadata": {
    "collapsed": false
   },
   "outputs": [
    {
     "data": {
      "text/plain": [
       "'bird'"
      ]
     },
     "execution_count": 15,
     "metadata": {},
     "output_type": "execute_result"
    }
   ],
   "source": [
    "blu.__class__.species # Class Attribute 접근하기. blue.__class__는 Parrot과 같다."
   ]
  },
  {
   "cell_type": "code",
   "execution_count": 16,
   "metadata": {
    "collapsed": false
   },
   "outputs": [
    {
     "data": {
      "text/plain": [
       "__main__.Parrot"
      ]
     },
     "execution_count": 16,
     "metadata": {},
     "output_type": "execute_result"
    }
   ],
   "source": [
    "blu.__class__ # 결과값은 __main__은 현재 작업하고 있는 공간을 뜻한다."
   ]
  },
  {
   "cell_type": "code",
   "execution_count": 14,
   "metadata": {
    "collapsed": false
   },
   "outputs": [
    {
     "name": "stdout",
     "output_type": "stream",
     "text": [
      "Blu is a bird\n",
      "Woo is also a bird\n",
      "Blu is 10 years old\n",
      "Woo is 15 years old\n"
     ]
    }
   ],
   "source": [
    "# access the class attributes\n",
    "print(\"Blu is a {}\".format(blu.__class__.species))\n",
    "print(\"Woo is also a {}\".format(woo.__class__.species))\n",
    "\n",
    "# access the instance attributes(self가 붙어있는 것들: 위에서 self.name / self.age)\n",
    "print(\"{} is {} years old\".format( blu.name, blu.age))\n",
    "print(\"{} is {} years old\".format( woo.name, woo.age))"
   ]
  },
  {
   "cell_type": "code",
   "execution_count": null,
   "metadata": {
    "collapsed": true
   },
   "outputs": [],
   "source": []
  },
  {
   "cell_type": "code",
   "execution_count": 11,
   "metadata": {
    "collapsed": false
   },
   "outputs": [
    {
     "data": {
      "text/plain": [
       "'bird2'"
      ]
     },
     "execution_count": 11,
     "metadata": {},
     "output_type": "execute_result"
    }
   ],
   "source": []
  },
  {
   "cell_type": "markdown",
   "metadata": {},
   "source": [
    "## Methods"
   ]
  },
  {
   "cell_type": "code",
   "execution_count": 26,
   "metadata": {
    "collapsed": true
   },
   "outputs": [],
   "source": [
    "class Parrot:\n",
    "    \n",
    "    # instance attributes\n",
    "    def __init__(self, name, age): # Special Method, Magic Method\n",
    "        self.name = name\n",
    "        self.age = age\n",
    "    \n",
    "    # instance method\n",
    "    def sing(self, song):\n",
    "        return \"{} sings {}\".format(self.name, song)\n",
    "\n",
    "    def dance(self):\n",
    "        return \"{} is now dancing\".format(self.name)\n",
    "    \n",
    "    @classmethod # \n",
    "    def dance2(cls):\n",
    "        return \"is now dancing2\""
   ]
  },
  {
   "cell_type": "code",
   "execution_count": 27,
   "metadata": {
    "collapsed": false
   },
   "outputs": [
    {
     "data": {
      "text/plain": [
       "'cho is now dancing'"
      ]
     },
     "execution_count": 27,
     "metadata": {},
     "output_type": "execute_result"
    }
   ],
   "source": [
    "a = Parrot('cho',25)\n",
    "Parrot.dance(a)\n",
    "a.dance()"
   ]
  },
  {
   "cell_type": "code",
   "execution_count": 28,
   "metadata": {
    "collapsed": false
   },
   "outputs": [
    {
     "data": {
      "text/plain": [
       "'is now dancing2'"
      ]
     },
     "execution_count": 28,
     "metadata": {},
     "output_type": "execute_result"
    }
   ],
   "source": [
    "Parrot.dance2() #클래스 메소드"
   ]
  },
  {
   "cell_type": "code",
   "execution_count": 29,
   "metadata": {
    "collapsed": false
   },
   "outputs": [
    {
     "data": {
      "text/plain": [
       "'is now dancing2'"
      ]
     },
     "execution_count": 29,
     "metadata": {},
     "output_type": "execute_result"
    }
   ],
   "source": [
    "a.__class__.dance2() #인스턴스.__class__와 클래스는 동일: 즉, 위와 같은 표현"
   ]
  },
  {
   "cell_type": "code",
   "execution_count": 22,
   "metadata": {
    "collapsed": false
   },
   "outputs": [
    {
     "data": {
      "text/plain": [
       "'Red sings 노래'"
      ]
     },
     "execution_count": 22,
     "metadata": {},
     "output_type": "execute_result"
    }
   ],
   "source": [
    "Parrot.sing(red, '노래')"
   ]
  },
  {
   "cell_type": "code",
   "execution_count": 23,
   "metadata": {
    "collapsed": false
   },
   "outputs": [
    {
     "data": {
      "text/plain": [
       "<function __main__.Parrot.sing>"
      ]
     },
     "execution_count": 23,
     "metadata": {},
     "output_type": "execute_result"
    }
   ],
   "source": [
    "# instantiate the object\n",
    "blu = Parrot(\"Blu\", 10)\n",
    "red = Parrot(\"Red\", 20)\n",
    "\n",
    "# call our instance methods\n",
    "print(blu.sing(\"'Happy'\"))\n",
    "print(blu.dance())"
   ]
  },
  {
   "cell_type": "code",
   "execution_count": 18,
   "metadata": {
    "collapsed": false
   },
   "outputs": [
    {
     "name": "stdout",
     "output_type": "stream",
     "text": [
      "Blu sings 'Happy'\n",
      "Blu is now dancing\n"
     ]
    }
   ],
   "source": [
    "class Parrot:\n",
    "    \n",
    "    # instance attributes\n",
    "    def __init__(s, name, age): #self로 안써도 사실 상관은 없다. self는 사실 관례상 쓰는 것이다.\n",
    "        s.name = name\n",
    "        s.age = age\n",
    "    \n",
    "    # instance method\n",
    "    def sing(s, song):\n",
    "        return \"{} sings {}\".format(s.name, song)\n",
    "\n",
    "    def dance(s):\n",
    "        return \"{} is now dancing\".format(s.name)\n",
    "\n",
    "# instantiate the object\n",
    "blu = Parrot(\"Blu\", 10)\n",
    "\n",
    "# call our instance methods\n",
    "print(blu.sing(\"'Happy'\"))\n",
    "print(blu.dance())\n"
   ]
  },
  {
   "cell_type": "markdown",
   "metadata": {},
   "source": [
    "## Inheritance\n",
    "상속(Inheritance)이란 \"물려받다\"라는 뜻으로, \"재산을 상속받다\"라고 할 때의 상속과 같은 의미이다. 클래스에도 이런 개념을 적용할 수가 있다. 어떤 클래스를 만들 때 다른 클래스의 기능을 물려받을 수 있게 만드는 것이다. \n",
    "1. 단일상속 - Java\n",
    "2. 다중상속 - C++, Python에서 쓸 수 있는데, 최대한 쓰지 말라.\n",
    "\n",
    "클래스를 상속하기 위해서는 다음처럼 클래스명 뒤 괄호 안에 상속할 클래스명을 넣어 주면 된다. **class 클래스명(상속할 클래스명)** 상속은 기존 클래스는 그대로 놔둔채로 클래스의 기능을 확장시키고자 할 때 주로 사용된다."
   ]
  },
  {
   "cell_type": "code",
   "execution_count": 31,
   "metadata": {
    "collapsed": true
   },
   "outputs": [],
   "source": [
    "# parent class\n",
    "class Bird:\n",
    "    \n",
    "    def __init__(self):\n",
    "        print(\"Bird is ready\")\n",
    "\n",
    "    def whoisThis(self):\n",
    "        print(\"Bird\")\n",
    "\n",
    "    def swim(self):\n",
    "        print(\"Swim faster\")"
   ]
  },
  {
   "cell_type": "markdown",
   "metadata": {},
   "source": [
    "#### 메서드 오버라이딩\n",
    "NewPenguin 클래스는 Bird클래스에 있는 swim라는 메서드를 동일한 이름으로 다시 작성하였다. 이렇게 부모 클래스(상속한 클래스)에 있는 메서드를 동일한 이름으로 다시 만드는 것을 메서드 오버라이딩(Overriding, 덮어쓰기)이라고 한다. 이렇게 메서드를 오버라이딩하면 부모 클래스의 메서드 대신 오버라이딩한 메서드가 호출된다."
   ]
  },
  {
   "cell_type": "code",
   "execution_count": 34,
   "metadata": {
    "collapsed": false
   },
   "outputs": [
    {
     "name": "stdout",
     "output_type": "stream",
     "text": [
      "Bird is ready\n",
      "You'd better swim\n"
     ]
    }
   ],
   "source": [
    "class NewPenguin(Bird):\n",
    "    def swim(Self):\n",
    "        print(\"You'd better swim\")\n",
    "\n",
    "a = NewPenguin()\n",
    "a.swim()"
   ]
  },
  {
   "cell_type": "markdown",
   "metadata": {},
   "source": [
    "메소드 오버라이딩의 경우, super() 함수를 사용하여 이미 부모 클래스에서 정의된 메소드를 호출하여 같은 코드를 반복하지 않도록 합니다. super() 함수를 사용하여 중복된 코드를 줄여 보겠습니다."
   ]
  },
  {
   "cell_type": "markdown",
   "metadata": {},
   "source": [
    "#### 다이아몬드 상속의 문제.\n",
    "![image.png](attachment:image.png)\n",
    "이러면 A클래스가 2번 생성이 되는 문제가 발생한다. 이러한 문제를 해결하기 위해 super라는 내장함수를 추가하고, 메서드 해석 순서(MRO, Method Resolution Order)를 정의했다. MRO는 어떤 슈퍼클래스부터 초기화할지를 정한다. 또한 다이아몬드 계층 구조에 있는 공통 슈퍼클래스를 단 한번만 실행하게 한다.\n",
    "\n",
    "- **mro로 슈퍼클래스의 초기화 순서와 다이아몬드 상속 문제를 해결**\n",
    "- **항상 super 함수로 부모클래스를 초기화**"
   ]
  },
  {
   "cell_type": "code",
   "execution_count": 47,
   "metadata": {
    "collapsed": true,
    "scrolled": true
   },
   "outputs": [],
   "source": [
    "# child class\n",
    "class Penguin(Bird): #class 클래스명(상속할 클래스명)\n",
    "    def __init__(self):\n",
    "        # call super() function\n",
    "        super(Penguin,self).__init__() # 부모거 실행\n",
    "        print(\"Penguin is ready\") #내것도 한 줄 더 실행.\n",
    "\n",
    "    def whoisThis(self):\n",
    "        print(\"Penguin\")\n",
    "\n",
    "    def run(self):\n",
    "        print(\"Run faster\")"
   ]
  },
  {
   "cell_type": "code",
   "execution_count": 48,
   "metadata": {
    "collapsed": false
   },
   "outputs": [
    {
     "name": "stdout",
     "output_type": "stream",
     "text": [
      "Bird is ready\n",
      "Penguin is ready\n",
      "Penguin\n",
      "Swim faster\n",
      "Run faster\n"
     ]
    }
   ],
   "source": [
    "peggy = Penguin()\n",
    "peggy.whoisThis()\n",
    "peggy.swim()\n",
    "peggy.run()"
   ]
  },
  {
   "cell_type": "markdown",
   "metadata": {},
   "source": [
    "## Encapsulation\n",
    "캡슐화는 클래스를 포장하는 것을 말합니다. 즉, 클래스라는 상자에 변수 및 함수가 있더라도 직접적인 접근을 할 수 없다는 것입니다. 언더바 두개는 프라이빗을 뜻하지만, 접근해서 수정할 수 있기 때문에 별로 의미는 없다.(global, nonlocal, 언더바 두개)"
   ]
  },
  {
   "cell_type": "code",
   "execution_count": 49,
   "metadata": {
    "collapsed": true
   },
   "outputs": [],
   "source": [
    "class Computer:\n",
    "\n",
    "    def __init__(self):\n",
    "        self.__maxprice = 900\n",
    "\n",
    "    def sell(self):\n",
    "        print(\"Selling Price: {}\".format(self.__maxprice))\n",
    "\n",
    "    def setMaxPrice(self, price):\n",
    "        self.__maxprice = price"
   ]
  },
  {
   "cell_type": "code",
   "execution_count": 50,
   "metadata": {
    "collapsed": false
   },
   "outputs": [
    {
     "name": "stdout",
     "output_type": "stream",
     "text": [
      "Selling Price: 900\n",
      "Selling Price: 900\n",
      "Selling Price: 1000\n"
     ]
    }
   ],
   "source": [
    "c = Computer()\n",
    "c.sell()\n",
    "\n",
    "# change the price\n",
    "c.__maxprice = 1000\n",
    "c.sell()\n",
    "\n",
    "# using setter function\n",
    "c.setMaxPrice(1000)\n",
    "c.sell()"
   ]
  },
  {
   "cell_type": "code",
   "execution_count": 53,
   "metadata": {
    "collapsed": false
   },
   "outputs": [
    {
     "data": {
      "text/plain": [
       "{'_Computer__maxprice': 1000, '__maxprice': 1000}"
      ]
     },
     "execution_count": 53,
     "metadata": {},
     "output_type": "execute_result"
    }
   ],
   "source": [
    "vars(c)"
   ]
  },
  {
   "cell_type": "code",
   "execution_count": 54,
   "metadata": {
    "collapsed": false
   },
   "outputs": [
    {
     "data": {
      "text/plain": [
       "['Bird',\n",
       " 'Computer',\n",
       " 'In',\n",
       " 'NewPenguin',\n",
       " 'Out',\n",
       " 'Parrot',\n",
       " 'Penguin',\n",
       " '_',\n",
       " '_11',\n",
       " '_12',\n",
       " '_13',\n",
       " '_15',\n",
       " '_16',\n",
       " '_22',\n",
       " '_23',\n",
       " '_24',\n",
       " '_27',\n",
       " '_28',\n",
       " '_29',\n",
       " '_32',\n",
       " '_33',\n",
       " '_4',\n",
       " '_5',\n",
       " '_51',\n",
       " '_52',\n",
       " '_53',\n",
       " '_6',\n",
       " '_7',\n",
       " '__',\n",
       " '___',\n",
       " '__builtin__',\n",
       " '__builtins__',\n",
       " '__doc__',\n",
       " '__loader__',\n",
       " '__name__',\n",
       " '__package__',\n",
       " '__spec__',\n",
       " '_dh',\n",
       " '_i',\n",
       " '_i1',\n",
       " '_i10',\n",
       " '_i11',\n",
       " '_i12',\n",
       " '_i13',\n",
       " '_i14',\n",
       " '_i15',\n",
       " '_i16',\n",
       " '_i17',\n",
       " '_i18',\n",
       " '_i19',\n",
       " '_i2',\n",
       " '_i20',\n",
       " '_i21',\n",
       " '_i22',\n",
       " '_i23',\n",
       " '_i24',\n",
       " '_i25',\n",
       " '_i26',\n",
       " '_i27',\n",
       " '_i28',\n",
       " '_i29',\n",
       " '_i3',\n",
       " '_i30',\n",
       " '_i31',\n",
       " '_i32',\n",
       " '_i33',\n",
       " '_i34',\n",
       " '_i35',\n",
       " '_i36',\n",
       " '_i37',\n",
       " '_i38',\n",
       " '_i39',\n",
       " '_i4',\n",
       " '_i40',\n",
       " '_i41',\n",
       " '_i42',\n",
       " '_i43',\n",
       " '_i44',\n",
       " '_i45',\n",
       " '_i46',\n",
       " '_i47',\n",
       " '_i48',\n",
       " '_i49',\n",
       " '_i5',\n",
       " '_i50',\n",
       " '_i51',\n",
       " '_i52',\n",
       " '_i53',\n",
       " '_i54',\n",
       " '_i6',\n",
       " '_i7',\n",
       " '_i8',\n",
       " '_i9',\n",
       " '_ih',\n",
       " '_ii',\n",
       " '_iii',\n",
       " '_oh',\n",
       " 'a',\n",
       " 'blu',\n",
       " 'c',\n",
       " 'exit',\n",
       " 'get_ipython',\n",
       " 'peggy',\n",
       " 'quit',\n",
       " 'red',\n",
       " 'woo']"
      ]
     },
     "execution_count": 54,
     "metadata": {},
     "output_type": "execute_result"
    }
   ],
   "source": [
    "dir() # iPython에서만 지원하는 기능. 현재 namespace 안에 저장되어 있는 모든 값들 표시"
   ]
  },
  {
   "cell_type": "code",
   "execution_count": 55,
   "metadata": {
    "collapsed": false
   },
   "outputs": [
    {
     "data": {
      "text/plain": [
       "{'Bird': __main__.Bird,\n",
       " 'Computer': __main__.Computer,\n",
       " 'In': ['',\n",
       "  'class Parrot:\\n\\n    # class attribute\\n    species = \"bird\"\\n\\n    # instance attribute\\n    def __init__(self, name, age):\\n        self.name = name\\n        self.age = age',\n",
       "  '# instantiate the Parrot class\\nblu = Parrot(\"Blu\", 10)\\nwoo = Parrot(\"Woo\", 15)',\n",
       "  '# access the class attributes\\nprint(\"Blu is a {}\".format(blu.__class__.species))\\nprint(\"Woo is also a {}\".format(woo.__class__.species))\\n\\n# access the instance attributes\\nprint(\"{} is {} years old\".format( blu.name, blu.age))\\nprint(\"{} is {} years old\".format( woo.name, woo.age))',\n",
       "  'type(Parrot)',\n",
       "  'type(blu)',\n",
       "  'vars(blu)',\n",
       "  'blu.__dict__',\n",
       "  \"blu.species = 'bird2'\",\n",
       "  'blu.specis',\n",
       "  'blue.species',\n",
       "  'blu.species',\n",
       "  'blu.species',\n",
       "  'woo.species #',\n",
       "  '# access the class attributes\\nprint(\"Blu is a {}\".format(blu.__class__.species))\\nprint(\"Woo is also a {}\".format(woo.__class__.species))\\n\\n# access the instance attributes(self가 붙어있는 것들: 위에서 self.name / self.age)\\nprint(\"{} is {} years old\".format( blu.name, blu.age))\\nprint(\"{} is {} years old\".format( woo.name, woo.age))',\n",
       "  'blu.__class__.species',\n",
       "  'blu.__class__',\n",
       "  'class Parrot:\\n    \\n    # instance attributes\\n    def __init__(s, name, age):\\n        s.name = name\\n        s.age = age\\n    \\n    # instance method\\n    def sing(s, song):\\n        return \"{} sings {}\".format(s.name, song)\\n\\n    def dance(self):\\n        return \"{} is now dancing\".format(s.name)\\n\\n# instantiate the object\\nblu = Parrot(\"Blu\", 10)\\n\\n# call our instance methods\\nprint(blu.sing(\"\\'Happy\\'\"))\\nprint(blu.dance())',\n",
       "  'class Parrot:\\n    \\n    # instance attributes\\n    def __init__(s, name, age):\\n        s.name = name\\n        s.age = age\\n    \\n    # instance method\\n    def sing(s, song):\\n        return \"{} sings {}\".format(s.name, song)\\n\\n    def dance(s):\\n        return \"{} is now dancing\".format(s.name)\\n\\n# instantiate the object\\nblu = Parrot(\"Blu\", 10)\\n\\n# call our instance methods\\nprint(blu.sing(\"\\'Happy\\'\"))\\nprint(blu.dance())',\n",
       "  'class Parrot:\\n    \\n    # instance attributes\\n    def __init__(self, name, age):\\n        self.name = name\\n        self.age = age\\n    \\n    # instance method\\n    def sing(self, song):\\n        return \"{} sings {}\".format(self.name, song)\\n\\n    def dance(self):\\n        return \"{} is now dancing\".format(self.name)\\n\\n# instantiate the object\\nblu = Parrot(\"Blu\", 10)\\nred = Parror(\"Red\", 20)\\n\\n# call our instance methods\\nprint(blu.sing(\"\\'Happy\\'\"))\\nprint(blu.dance())',\n",
       "  'class Parrot:\\n    \\n    # instance attributes\\n    def __init__(self, name, age):\\n        self.name = name\\n        self.age = age\\n    \\n    # instance method\\n    def sing(self, song):\\n        return \"{} sings {}\".format(self.name, song)\\n\\n    def dance(self):\\n        return \"{} is now dancing\".format(self.name)\\n\\n# instantiate the object\\nblu = Parrot(\"Blu\", 10)\\nred = Parrot(\"Red\", 20)\\n\\n# call our instance methods\\nprint(blu.sing(\"\\'Happy\\'\"))\\nprint(blu.dance())',\n",
       "  \"Parrot.sing(Red, '노래')\",\n",
       "  \"Parrot.sing(red, '노래')\",\n",
       "  'blu.__class__.sing',\n",
       "  \"a = Parrot('cho',25)\\nParrot.dance(a)\\na.dance()\",\n",
       "  'Parrot.dance2()',\n",
       "  'class Parrot:\\n    \\n    # instance attributes\\n    def __init__(self, name, age):\\n        self.name = name\\n        self.age = age\\n    \\n    # instance method\\n    def sing(self, song):\\n        return \"{} sings {}\".format(self.name, song)\\n\\n    def dance(self):\\n        return \"{} is now dancing\".format(self.name)\\n    \\n    @classmethod # \\n    def dance2(cls):\\n        return \"is now dancing2\"',\n",
       "  \"a = Parrot('cho',25)\\nParrot.dance(a)\\na.dance()\",\n",
       "  'Parrot.dance2()',\n",
       "  'a.__class__.dance2() #위와 같은 표현',\n",
       "  'class Parrot:\\n\\n    # class attribute\\n    species = \"bird\"\\n\\n    # instance attribute: 메소드 안에 선언되는 것. 첫번째 인자가 자기자신을 가리킴.\\n    def __init__(self, name, age):\\n        self.name = name\\n        self.age = age',\n",
       "  '# parent class\\nclass Bird:\\n    \\n    def __init__(self):\\n        print(\"Bird is ready\")\\n\\n    def whoisThis(self):\\n        print(\"Bird\")\\n\\n    def swim(self):\\n        print(\"Swim faster\")',\n",
       "  '# child class\\nclass Penguin(Bird): #class 클래스명(상속할 클래스명)\\n    pass\\n\\'\\'\\'\\n    def __init__(self):\\n        # call super() function\\n        super().__init__()\\n        print(\"Penguin is ready\")\\n\\n    def whoisThis(self):\\n        print(\"Penguin\")\\n\\n    def run(self):\\n        print(\"Run faster\")\\n\\'\\'\\'\\ndir(Penguin)',\n",
       "  'class NewPenguin(Bird):\\n    def swim(Self):\\n        print(\"You\\'d better swim\")\\n\\na = NewPenguin()\\na.swim',\n",
       "  'class NewPenguin(Bird):\\n    def swim(Self):\\n        print(\"You\\'d better swim\")\\n\\na = NewPenguin()\\na.swim()',\n",
       "  '# child class\\nclass Penguin(Bird): #class 클래스명(상속할 클래스명)\\n    def __init__(self):\\n        # call super() function\\n        #super().__init__() # 부모거 실행\\n        print(\"Penguin is ready\") #내것도 한 줄 더 실행.\\n\\n    def whoisThis(self):\\n        print(\"Penguin\")\\n\\n    def run(self):\\n        print(\"Run faster\")',\n",
       "  'peggy = Penguin()\\npeggy.whoisThis()\\npeggy.swim()\\npeggy.run()',\n",
       "  '# child class\\nclass Penguin(Bird): #class 클래스명(상속할 클래스명)\\n    def __init__(self):\\n        # call super() function\\n        super().__init__() # 부모거 실행\\n        print(\"Penguin is ready\") #내것도 한 줄 더 실행.\\n\\n    def whoisThis(self):\\n        print(\"Penguin\")\\n\\n    def run(self):\\n        print(\"Run faster\")',\n",
       "  'peggy = Penguin()\\npeggy.whoisThis()\\npeggy.swim()\\npeggy.run()',\n",
       "  '# child class\\nclass Penguin(Bird): #class 클래스명(상속할 클래스명)\\n    def __init__(self):\\n        # call super() function\\n        #super().__init__() # 부모거 실행\\n        print(\"Penguin is ready\") #내것도 한 줄 더 실행.\\n\\n    def whoisThis(self):\\n        print(\"Penguin\")\\n\\n    def run(self):\\n        print(\"Run faster\")',\n",
       "  'peggy = Penguin()\\npeggy.whoisThis()\\npeggy.swim()\\npeggy.run()',\n",
       "  '# child class\\nclass Penguin(Bird): #class 클래스명(상속할 클래스명)\\n    def __init__(self):\\n        # call super() function\\n        super().__init__() # 부모거 실행\\n        print(\"Penguin is ready\") #내것도 한 줄 더 실행.\\n\\n    def whoisThis(self):\\n        print(\"Penguin\")\\n\\n    def run(self):\\n        print(\"Run faster\")',\n",
       "  'peggy = Penguin()\\npeggy.whoisThis()\\npeggy.swim()\\npeggy.run()',\n",
       "  '# child class\\nclass Penguin(Bird): #class 클래스명(상속할 클래스명)\\n    def __init__(self):\\n        # call super() function\\n        super().__init__() # 부모거 실행\\n        print(\"Penguin is ready\") #내것도 한 줄 더 실행.\\n\\n    def whoisThis(Penguin,self):\\n        print(\"Penguin\")\\n\\n    def run(self):\\n        print(\"Run faster\")',\n",
       "  'peggy = Penguin()\\npeggy.whoisThis()\\npeggy.swim()\\npeggy.run()',\n",
       "  '# child class\\nclass Penguin(Bird): #class 클래스명(상속할 클래스명)\\n    def __init__(self):\\n        # call super() function\\n        super().__init__() # 부모거 실행\\n        print(\"Penguin is ready\") #내것도 한 줄 더 실행.\\n\\n    def whoisThis(self):\\n        print(\"Penguin\")\\n\\n    def run(self):\\n        print(\"Run faster\")',\n",
       "  'peggy = Penguin()\\npeggy.whoisThis()\\npeggy.swim()\\npeggy.run()',\n",
       "  '# child class\\nclass Penguin(Bird): #class 클래스명(상속할 클래스명)\\n    def __init__(self):\\n        # call super() function\\n        super(Penguin,self).__init__() # 부모거 실행\\n        print(\"Penguin is ready\") #내것도 한 줄 더 실행.\\n\\n    def whoisThis(self):\\n        print(\"Penguin\")\\n\\n    def run(self):\\n        print(\"Run faster\")',\n",
       "  'peggy = Penguin()\\npeggy.whoisThis()\\npeggy.swim()\\npeggy.run()',\n",
       "  'class Computer:\\n\\n    def __init__(self):\\n        self.__maxprice = 900\\n\\n    def sell(self):\\n        print(\"Selling Price: {}\".format(self.__maxprice))\\n\\n    def setMaxPrice(self, price):\\n        self.__maxprice = price',\n",
       "  'c = Computer()\\nc.sell()\\n\\n# change the price\\nc.__maxprice = 1000\\nc.sell()\\n\\n# using setter function\\nc.setMaxPrice(1000)\\nc.sell()',\n",
       "  'dir(Computer)',\n",
       "  'vars(Computer)',\n",
       "  'vars(c)',\n",
       "  'dir()',\n",
       "  'locals()'],\n",
       " 'NewPenguin': __main__.NewPenguin,\n",
       " 'Out': {4: type,\n",
       "  5: __main__.Parrot,\n",
       "  6: {'age': 10, 'name': 'Blu', 'species': 'bird2'},\n",
       "  7: {'age': 10, 'name': 'Blu', 'species': 'bird2'},\n",
       "  11: 'bird2',\n",
       "  12: 'bird2',\n",
       "  13: 'bird',\n",
       "  15: 'bird',\n",
       "  16: __main__.Parrot,\n",
       "  22: 'Red sings 노래',\n",
       "  23: <function __main__.Parrot.sing>,\n",
       "  24: 'cho is now dancing',\n",
       "  27: 'cho is now dancing',\n",
       "  28: 'is now dancing2',\n",
       "  29: 'is now dancing2',\n",
       "  32: ['__class__',\n",
       "   '__delattr__',\n",
       "   '__dict__',\n",
       "   '__dir__',\n",
       "   '__doc__',\n",
       "   '__eq__',\n",
       "   '__format__',\n",
       "   '__ge__',\n",
       "   '__getattribute__',\n",
       "   '__gt__',\n",
       "   '__hash__',\n",
       "   '__init__',\n",
       "   '__init_subclass__',\n",
       "   '__le__',\n",
       "   '__lt__',\n",
       "   '__module__',\n",
       "   '__ne__',\n",
       "   '__new__',\n",
       "   '__reduce__',\n",
       "   '__reduce_ex__',\n",
       "   '__repr__',\n",
       "   '__setattr__',\n",
       "   '__sizeof__',\n",
       "   '__str__',\n",
       "   '__subclasshook__',\n",
       "   '__weakref__',\n",
       "   'swim',\n",
       "   'whoisThis'],\n",
       "  33: <bound method NewPenguin.swim of <__main__.NewPenguin object at 0x000001CE3D0B1978>>,\n",
       "  51: ['__class__',\n",
       "   '__delattr__',\n",
       "   '__dict__',\n",
       "   '__dir__',\n",
       "   '__doc__',\n",
       "   '__eq__',\n",
       "   '__format__',\n",
       "   '__ge__',\n",
       "   '__getattribute__',\n",
       "   '__gt__',\n",
       "   '__hash__',\n",
       "   '__init__',\n",
       "   '__init_subclass__',\n",
       "   '__le__',\n",
       "   '__lt__',\n",
       "   '__module__',\n",
       "   '__ne__',\n",
       "   '__new__',\n",
       "   '__reduce__',\n",
       "   '__reduce_ex__',\n",
       "   '__repr__',\n",
       "   '__setattr__',\n",
       "   '__sizeof__',\n",
       "   '__str__',\n",
       "   '__subclasshook__',\n",
       "   '__weakref__',\n",
       "   'sell',\n",
       "   'setMaxPrice'],\n",
       "  52: mappingproxy({'__dict__': <attribute '__dict__' of 'Computer' objects>,\n",
       "                '__doc__': None,\n",
       "                '__init__': <function __main__.Computer.__init__>,\n",
       "                '__module__': '__main__',\n",
       "                '__weakref__': <attribute '__weakref__' of 'Computer' objects>,\n",
       "                'sell': <function __main__.Computer.sell>,\n",
       "                'setMaxPrice': <function __main__.Computer.setMaxPrice>}),\n",
       "  53: {'_Computer__maxprice': 1000, '__maxprice': 1000},\n",
       "  54: ['Bird',\n",
       "   'Computer',\n",
       "   'In',\n",
       "   'NewPenguin',\n",
       "   'Out',\n",
       "   'Parrot',\n",
       "   'Penguin',\n",
       "   '_',\n",
       "   '_11',\n",
       "   '_12',\n",
       "   '_13',\n",
       "   '_15',\n",
       "   '_16',\n",
       "   '_22',\n",
       "   '_23',\n",
       "   '_24',\n",
       "   '_27',\n",
       "   '_28',\n",
       "   '_29',\n",
       "   '_32',\n",
       "   '_33',\n",
       "   '_4',\n",
       "   '_5',\n",
       "   '_51',\n",
       "   '_52',\n",
       "   '_53',\n",
       "   '_6',\n",
       "   '_7',\n",
       "   '__',\n",
       "   '___',\n",
       "   '__builtin__',\n",
       "   '__builtins__',\n",
       "   '__doc__',\n",
       "   '__loader__',\n",
       "   '__name__',\n",
       "   '__package__',\n",
       "   '__spec__',\n",
       "   '_dh',\n",
       "   '_i',\n",
       "   '_i1',\n",
       "   '_i10',\n",
       "   '_i11',\n",
       "   '_i12',\n",
       "   '_i13',\n",
       "   '_i14',\n",
       "   '_i15',\n",
       "   '_i16',\n",
       "   '_i17',\n",
       "   '_i18',\n",
       "   '_i19',\n",
       "   '_i2',\n",
       "   '_i20',\n",
       "   '_i21',\n",
       "   '_i22',\n",
       "   '_i23',\n",
       "   '_i24',\n",
       "   '_i25',\n",
       "   '_i26',\n",
       "   '_i27',\n",
       "   '_i28',\n",
       "   '_i29',\n",
       "   '_i3',\n",
       "   '_i30',\n",
       "   '_i31',\n",
       "   '_i32',\n",
       "   '_i33',\n",
       "   '_i34',\n",
       "   '_i35',\n",
       "   '_i36',\n",
       "   '_i37',\n",
       "   '_i38',\n",
       "   '_i39',\n",
       "   '_i4',\n",
       "   '_i40',\n",
       "   '_i41',\n",
       "   '_i42',\n",
       "   '_i43',\n",
       "   '_i44',\n",
       "   '_i45',\n",
       "   '_i46',\n",
       "   '_i47',\n",
       "   '_i48',\n",
       "   '_i49',\n",
       "   '_i5',\n",
       "   '_i50',\n",
       "   '_i51',\n",
       "   '_i52',\n",
       "   '_i53',\n",
       "   '_i54',\n",
       "   '_i6',\n",
       "   '_i7',\n",
       "   '_i8',\n",
       "   '_i9',\n",
       "   '_ih',\n",
       "   '_ii',\n",
       "   '_iii',\n",
       "   '_oh',\n",
       "   'a',\n",
       "   'blu',\n",
       "   'c',\n",
       "   'exit',\n",
       "   'get_ipython',\n",
       "   'peggy',\n",
       "   'quit',\n",
       "   'red',\n",
       "   'woo']},\n",
       " 'Parrot': __main__.Parrot,\n",
       " 'Penguin': __main__.Penguin,\n",
       " '_': ['Bird',\n",
       "  'Computer',\n",
       "  'In',\n",
       "  'NewPenguin',\n",
       "  'Out',\n",
       "  'Parrot',\n",
       "  'Penguin',\n",
       "  '_',\n",
       "  '_11',\n",
       "  '_12',\n",
       "  '_13',\n",
       "  '_15',\n",
       "  '_16',\n",
       "  '_22',\n",
       "  '_23',\n",
       "  '_24',\n",
       "  '_27',\n",
       "  '_28',\n",
       "  '_29',\n",
       "  '_32',\n",
       "  '_33',\n",
       "  '_4',\n",
       "  '_5',\n",
       "  '_51',\n",
       "  '_52',\n",
       "  '_53',\n",
       "  '_6',\n",
       "  '_7',\n",
       "  '__',\n",
       "  '___',\n",
       "  '__builtin__',\n",
       "  '__builtins__',\n",
       "  '__doc__',\n",
       "  '__loader__',\n",
       "  '__name__',\n",
       "  '__package__',\n",
       "  '__spec__',\n",
       "  '_dh',\n",
       "  '_i',\n",
       "  '_i1',\n",
       "  '_i10',\n",
       "  '_i11',\n",
       "  '_i12',\n",
       "  '_i13',\n",
       "  '_i14',\n",
       "  '_i15',\n",
       "  '_i16',\n",
       "  '_i17',\n",
       "  '_i18',\n",
       "  '_i19',\n",
       "  '_i2',\n",
       "  '_i20',\n",
       "  '_i21',\n",
       "  '_i22',\n",
       "  '_i23',\n",
       "  '_i24',\n",
       "  '_i25',\n",
       "  '_i26',\n",
       "  '_i27',\n",
       "  '_i28',\n",
       "  '_i29',\n",
       "  '_i3',\n",
       "  '_i30',\n",
       "  '_i31',\n",
       "  '_i32',\n",
       "  '_i33',\n",
       "  '_i34',\n",
       "  '_i35',\n",
       "  '_i36',\n",
       "  '_i37',\n",
       "  '_i38',\n",
       "  '_i39',\n",
       "  '_i4',\n",
       "  '_i40',\n",
       "  '_i41',\n",
       "  '_i42',\n",
       "  '_i43',\n",
       "  '_i44',\n",
       "  '_i45',\n",
       "  '_i46',\n",
       "  '_i47',\n",
       "  '_i48',\n",
       "  '_i49',\n",
       "  '_i5',\n",
       "  '_i50',\n",
       "  '_i51',\n",
       "  '_i52',\n",
       "  '_i53',\n",
       "  '_i54',\n",
       "  '_i6',\n",
       "  '_i7',\n",
       "  '_i8',\n",
       "  '_i9',\n",
       "  '_ih',\n",
       "  '_ii',\n",
       "  '_iii',\n",
       "  '_oh',\n",
       "  'a',\n",
       "  'blu',\n",
       "  'c',\n",
       "  'exit',\n",
       "  'get_ipython',\n",
       "  'peggy',\n",
       "  'quit',\n",
       "  'red',\n",
       "  'woo'],\n",
       " '_11': 'bird2',\n",
       " '_12': 'bird2',\n",
       " '_13': 'bird',\n",
       " '_15': 'bird',\n",
       " '_16': __main__.Parrot,\n",
       " '_22': 'Red sings 노래',\n",
       " '_23': <function __main__.Parrot.sing>,\n",
       " '_24': 'cho is now dancing',\n",
       " '_27': 'cho is now dancing',\n",
       " '_28': 'is now dancing2',\n",
       " '_29': 'is now dancing2',\n",
       " '_32': ['__class__',\n",
       "  '__delattr__',\n",
       "  '__dict__',\n",
       "  '__dir__',\n",
       "  '__doc__',\n",
       "  '__eq__',\n",
       "  '__format__',\n",
       "  '__ge__',\n",
       "  '__getattribute__',\n",
       "  '__gt__',\n",
       "  '__hash__',\n",
       "  '__init__',\n",
       "  '__init_subclass__',\n",
       "  '__le__',\n",
       "  '__lt__',\n",
       "  '__module__',\n",
       "  '__ne__',\n",
       "  '__new__',\n",
       "  '__reduce__',\n",
       "  '__reduce_ex__',\n",
       "  '__repr__',\n",
       "  '__setattr__',\n",
       "  '__sizeof__',\n",
       "  '__str__',\n",
       "  '__subclasshook__',\n",
       "  '__weakref__',\n",
       "  'swim',\n",
       "  'whoisThis'],\n",
       " '_33': <bound method NewPenguin.swim of <__main__.NewPenguin object at 0x000001CE3D0B1978>>,\n",
       " '_4': type,\n",
       " '_5': __main__.Parrot,\n",
       " '_51': ['__class__',\n",
       "  '__delattr__',\n",
       "  '__dict__',\n",
       "  '__dir__',\n",
       "  '__doc__',\n",
       "  '__eq__',\n",
       "  '__format__',\n",
       "  '__ge__',\n",
       "  '__getattribute__',\n",
       "  '__gt__',\n",
       "  '__hash__',\n",
       "  '__init__',\n",
       "  '__init_subclass__',\n",
       "  '__le__',\n",
       "  '__lt__',\n",
       "  '__module__',\n",
       "  '__ne__',\n",
       "  '__new__',\n",
       "  '__reduce__',\n",
       "  '__reduce_ex__',\n",
       "  '__repr__',\n",
       "  '__setattr__',\n",
       "  '__sizeof__',\n",
       "  '__str__',\n",
       "  '__subclasshook__',\n",
       "  '__weakref__',\n",
       "  'sell',\n",
       "  'setMaxPrice'],\n",
       " '_52': mappingproxy({'__dict__': <attribute '__dict__' of 'Computer' objects>,\n",
       "               '__doc__': None,\n",
       "               '__init__': <function __main__.Computer.__init__>,\n",
       "               '__module__': '__main__',\n",
       "               '__weakref__': <attribute '__weakref__' of 'Computer' objects>,\n",
       "               'sell': <function __main__.Computer.sell>,\n",
       "               'setMaxPrice': <function __main__.Computer.setMaxPrice>}),\n",
       " '_53': {'_Computer__maxprice': 1000, '__maxprice': 1000},\n",
       " '_54': ['Bird',\n",
       "  'Computer',\n",
       "  'In',\n",
       "  'NewPenguin',\n",
       "  'Out',\n",
       "  'Parrot',\n",
       "  'Penguin',\n",
       "  '_',\n",
       "  '_11',\n",
       "  '_12',\n",
       "  '_13',\n",
       "  '_15',\n",
       "  '_16',\n",
       "  '_22',\n",
       "  '_23',\n",
       "  '_24',\n",
       "  '_27',\n",
       "  '_28',\n",
       "  '_29',\n",
       "  '_32',\n",
       "  '_33',\n",
       "  '_4',\n",
       "  '_5',\n",
       "  '_51',\n",
       "  '_52',\n",
       "  '_53',\n",
       "  '_6',\n",
       "  '_7',\n",
       "  '__',\n",
       "  '___',\n",
       "  '__builtin__',\n",
       "  '__builtins__',\n",
       "  '__doc__',\n",
       "  '__loader__',\n",
       "  '__name__',\n",
       "  '__package__',\n",
       "  '__spec__',\n",
       "  '_dh',\n",
       "  '_i',\n",
       "  '_i1',\n",
       "  '_i10',\n",
       "  '_i11',\n",
       "  '_i12',\n",
       "  '_i13',\n",
       "  '_i14',\n",
       "  '_i15',\n",
       "  '_i16',\n",
       "  '_i17',\n",
       "  '_i18',\n",
       "  '_i19',\n",
       "  '_i2',\n",
       "  '_i20',\n",
       "  '_i21',\n",
       "  '_i22',\n",
       "  '_i23',\n",
       "  '_i24',\n",
       "  '_i25',\n",
       "  '_i26',\n",
       "  '_i27',\n",
       "  '_i28',\n",
       "  '_i29',\n",
       "  '_i3',\n",
       "  '_i30',\n",
       "  '_i31',\n",
       "  '_i32',\n",
       "  '_i33',\n",
       "  '_i34',\n",
       "  '_i35',\n",
       "  '_i36',\n",
       "  '_i37',\n",
       "  '_i38',\n",
       "  '_i39',\n",
       "  '_i4',\n",
       "  '_i40',\n",
       "  '_i41',\n",
       "  '_i42',\n",
       "  '_i43',\n",
       "  '_i44',\n",
       "  '_i45',\n",
       "  '_i46',\n",
       "  '_i47',\n",
       "  '_i48',\n",
       "  '_i49',\n",
       "  '_i5',\n",
       "  '_i50',\n",
       "  '_i51',\n",
       "  '_i52',\n",
       "  '_i53',\n",
       "  '_i54',\n",
       "  '_i6',\n",
       "  '_i7',\n",
       "  '_i8',\n",
       "  '_i9',\n",
       "  '_ih',\n",
       "  '_ii',\n",
       "  '_iii',\n",
       "  '_oh',\n",
       "  'a',\n",
       "  'blu',\n",
       "  'c',\n",
       "  'exit',\n",
       "  'get_ipython',\n",
       "  'peggy',\n",
       "  'quit',\n",
       "  'red',\n",
       "  'woo'],\n",
       " '_6': {'age': 10, 'name': 'Blu', 'species': 'bird2'},\n",
       " '_7': {'age': 10, 'name': 'Blu', 'species': 'bird2'},\n",
       " '__': {'_Computer__maxprice': 1000, '__maxprice': 1000},\n",
       " '___': mappingproxy({'__dict__': <attribute '__dict__' of 'Computer' objects>,\n",
       "               '__doc__': None,\n",
       "               '__init__': <function __main__.Computer.__init__>,\n",
       "               '__module__': '__main__',\n",
       "               '__weakref__': <attribute '__weakref__' of 'Computer' objects>,\n",
       "               'sell': <function __main__.Computer.sell>,\n",
       "               'setMaxPrice': <function __main__.Computer.setMaxPrice>}),\n",
       " '__builtin__': <module 'builtins' (built-in)>,\n",
       " '__builtins__': <module 'builtins' (built-in)>,\n",
       " '__doc__': '\\n    def __init__(self):\\n        # call super() function\\n        super().__init__()\\n        print(\"Penguin is ready\")\\n\\n    def whoisThis(self):\\n        print(\"Penguin\")\\n\\n    def run(self):\\n        print(\"Run faster\")\\n',\n",
       " '__loader__': None,\n",
       " '__name__': '__main__',\n",
       " '__package__': None,\n",
       " '__spec__': None,\n",
       " '_dh': ['C:\\\\Users\\\\korra\\\\OneDrive\\\\デスクトップ\\\\빅데이터 청년인재\\\\수업내용'],\n",
       " '_i': 'dir()',\n",
       " '_i1': 'class Parrot:\\n\\n    # class attribute\\n    species = \"bird\"\\n\\n    # instance attribute\\n    def __init__(self, name, age):\\n        self.name = name\\n        self.age = age',\n",
       " '_i10': 'blue.species',\n",
       " '_i11': 'blu.species',\n",
       " '_i12': 'blu.species',\n",
       " '_i13': 'woo.species #',\n",
       " '_i14': '# access the class attributes\\nprint(\"Blu is a {}\".format(blu.__class__.species))\\nprint(\"Woo is also a {}\".format(woo.__class__.species))\\n\\n# access the instance attributes(self가 붙어있는 것들: 위에서 self.name / self.age)\\nprint(\"{} is {} years old\".format( blu.name, blu.age))\\nprint(\"{} is {} years old\".format( woo.name, woo.age))',\n",
       " '_i15': 'blu.__class__.species',\n",
       " '_i16': 'blu.__class__',\n",
       " '_i17': 'class Parrot:\\n    \\n    # instance attributes\\n    def __init__(s, name, age):\\n        s.name = name\\n        s.age = age\\n    \\n    # instance method\\n    def sing(s, song):\\n        return \"{} sings {}\".format(s.name, song)\\n\\n    def dance(self):\\n        return \"{} is now dancing\".format(s.name)\\n\\n# instantiate the object\\nblu = Parrot(\"Blu\", 10)\\n\\n# call our instance methods\\nprint(blu.sing(\"\\'Happy\\'\"))\\nprint(blu.dance())',\n",
       " '_i18': 'class Parrot:\\n    \\n    # instance attributes\\n    def __init__(s, name, age):\\n        s.name = name\\n        s.age = age\\n    \\n    # instance method\\n    def sing(s, song):\\n        return \"{} sings {}\".format(s.name, song)\\n\\n    def dance(s):\\n        return \"{} is now dancing\".format(s.name)\\n\\n# instantiate the object\\nblu = Parrot(\"Blu\", 10)\\n\\n# call our instance methods\\nprint(blu.sing(\"\\'Happy\\'\"))\\nprint(blu.dance())',\n",
       " '_i19': 'class Parrot:\\n    \\n    # instance attributes\\n    def __init__(self, name, age):\\n        self.name = name\\n        self.age = age\\n    \\n    # instance method\\n    def sing(self, song):\\n        return \"{} sings {}\".format(self.name, song)\\n\\n    def dance(self):\\n        return \"{} is now dancing\".format(self.name)\\n\\n# instantiate the object\\nblu = Parrot(\"Blu\", 10)\\nred = Parror(\"Red\", 20)\\n\\n# call our instance methods\\nprint(blu.sing(\"\\'Happy\\'\"))\\nprint(blu.dance())',\n",
       " '_i2': '# instantiate the Parrot class\\nblu = Parrot(\"Blu\", 10)\\nwoo = Parrot(\"Woo\", 15)',\n",
       " '_i20': 'class Parrot:\\n    \\n    # instance attributes\\n    def __init__(self, name, age):\\n        self.name = name\\n        self.age = age\\n    \\n    # instance method\\n    def sing(self, song):\\n        return \"{} sings {}\".format(self.name, song)\\n\\n    def dance(self):\\n        return \"{} is now dancing\".format(self.name)\\n\\n# instantiate the object\\nblu = Parrot(\"Blu\", 10)\\nred = Parrot(\"Red\", 20)\\n\\n# call our instance methods\\nprint(blu.sing(\"\\'Happy\\'\"))\\nprint(blu.dance())',\n",
       " '_i21': \"Parrot.sing(Red, '노래')\",\n",
       " '_i22': \"Parrot.sing(red, '노래')\",\n",
       " '_i23': 'blu.__class__.sing',\n",
       " '_i24': \"a = Parrot('cho',25)\\nParrot.dance(a)\\na.dance()\",\n",
       " '_i25': 'Parrot.dance2()',\n",
       " '_i26': 'class Parrot:\\n    \\n    # instance attributes\\n    def __init__(self, name, age):\\n        self.name = name\\n        self.age = age\\n    \\n    # instance method\\n    def sing(self, song):\\n        return \"{} sings {}\".format(self.name, song)\\n\\n    def dance(self):\\n        return \"{} is now dancing\".format(self.name)\\n    \\n    @classmethod # \\n    def dance2(cls):\\n        return \"is now dancing2\"',\n",
       " '_i27': \"a = Parrot('cho',25)\\nParrot.dance(a)\\na.dance()\",\n",
       " '_i28': 'Parrot.dance2()',\n",
       " '_i29': 'a.__class__.dance2() #위와 같은 표현',\n",
       " '_i3': '# access the class attributes\\nprint(\"Blu is a {}\".format(blu.__class__.species))\\nprint(\"Woo is also a {}\".format(woo.__class__.species))\\n\\n# access the instance attributes\\nprint(\"{} is {} years old\".format( blu.name, blu.age))\\nprint(\"{} is {} years old\".format( woo.name, woo.age))',\n",
       " '_i30': 'class Parrot:\\n\\n    # class attribute\\n    species = \"bird\"\\n\\n    # instance attribute: 메소드 안에 선언되는 것. 첫번째 인자가 자기자신을 가리킴.\\n    def __init__(self, name, age):\\n        self.name = name\\n        self.age = age',\n",
       " '_i31': '# parent class\\nclass Bird:\\n    \\n    def __init__(self):\\n        print(\"Bird is ready\")\\n\\n    def whoisThis(self):\\n        print(\"Bird\")\\n\\n    def swim(self):\\n        print(\"Swim faster\")',\n",
       " '_i32': '# child class\\nclass Penguin(Bird): #class 클래스명(상속할 클래스명)\\n    pass\\n\\'\\'\\'\\n    def __init__(self):\\n        # call super() function\\n        super().__init__()\\n        print(\"Penguin is ready\")\\n\\n    def whoisThis(self):\\n        print(\"Penguin\")\\n\\n    def run(self):\\n        print(\"Run faster\")\\n\\'\\'\\'\\ndir(Penguin)',\n",
       " '_i33': 'class NewPenguin(Bird):\\n    def swim(Self):\\n        print(\"You\\'d better swim\")\\n\\na = NewPenguin()\\na.swim',\n",
       " '_i34': 'class NewPenguin(Bird):\\n    def swim(Self):\\n        print(\"You\\'d better swim\")\\n\\na = NewPenguin()\\na.swim()',\n",
       " '_i35': '# child class\\nclass Penguin(Bird): #class 클래스명(상속할 클래스명)\\n    def __init__(self):\\n        # call super() function\\n        #super().__init__() # 부모거 실행\\n        print(\"Penguin is ready\") #내것도 한 줄 더 실행.\\n\\n    def whoisThis(self):\\n        print(\"Penguin\")\\n\\n    def run(self):\\n        print(\"Run faster\")',\n",
       " '_i36': 'peggy = Penguin()\\npeggy.whoisThis()\\npeggy.swim()\\npeggy.run()',\n",
       " '_i37': '# child class\\nclass Penguin(Bird): #class 클래스명(상속할 클래스명)\\n    def __init__(self):\\n        # call super() function\\n        super().__init__() # 부모거 실행\\n        print(\"Penguin is ready\") #내것도 한 줄 더 실행.\\n\\n    def whoisThis(self):\\n        print(\"Penguin\")\\n\\n    def run(self):\\n        print(\"Run faster\")',\n",
       " '_i38': 'peggy = Penguin()\\npeggy.whoisThis()\\npeggy.swim()\\npeggy.run()',\n",
       " '_i39': '# child class\\nclass Penguin(Bird): #class 클래스명(상속할 클래스명)\\n    def __init__(self):\\n        # call super() function\\n        #super().__init__() # 부모거 실행\\n        print(\"Penguin is ready\") #내것도 한 줄 더 실행.\\n\\n    def whoisThis(self):\\n        print(\"Penguin\")\\n\\n    def run(self):\\n        print(\"Run faster\")',\n",
       " '_i4': 'type(Parrot)',\n",
       " '_i40': 'peggy = Penguin()\\npeggy.whoisThis()\\npeggy.swim()\\npeggy.run()',\n",
       " '_i41': '# child class\\nclass Penguin(Bird): #class 클래스명(상속할 클래스명)\\n    def __init__(self):\\n        # call super() function\\n        super().__init__() # 부모거 실행\\n        print(\"Penguin is ready\") #내것도 한 줄 더 실행.\\n\\n    def whoisThis(self):\\n        print(\"Penguin\")\\n\\n    def run(self):\\n        print(\"Run faster\")',\n",
       " '_i42': 'peggy = Penguin()\\npeggy.whoisThis()\\npeggy.swim()\\npeggy.run()',\n",
       " '_i43': '# child class\\nclass Penguin(Bird): #class 클래스명(상속할 클래스명)\\n    def __init__(self):\\n        # call super() function\\n        super().__init__() # 부모거 실행\\n        print(\"Penguin is ready\") #내것도 한 줄 더 실행.\\n\\n    def whoisThis(Penguin,self):\\n        print(\"Penguin\")\\n\\n    def run(self):\\n        print(\"Run faster\")',\n",
       " '_i44': 'peggy = Penguin()\\npeggy.whoisThis()\\npeggy.swim()\\npeggy.run()',\n",
       " '_i45': '# child class\\nclass Penguin(Bird): #class 클래스명(상속할 클래스명)\\n    def __init__(self):\\n        # call super() function\\n        super().__init__() # 부모거 실행\\n        print(\"Penguin is ready\") #내것도 한 줄 더 실행.\\n\\n    def whoisThis(self):\\n        print(\"Penguin\")\\n\\n    def run(self):\\n        print(\"Run faster\")',\n",
       " '_i46': 'peggy = Penguin()\\npeggy.whoisThis()\\npeggy.swim()\\npeggy.run()',\n",
       " '_i47': '# child class\\nclass Penguin(Bird): #class 클래스명(상속할 클래스명)\\n    def __init__(self):\\n        # call super() function\\n        super(Penguin,self).__init__() # 부모거 실행\\n        print(\"Penguin is ready\") #내것도 한 줄 더 실행.\\n\\n    def whoisThis(self):\\n        print(\"Penguin\")\\n\\n    def run(self):\\n        print(\"Run faster\")',\n",
       " '_i48': 'peggy = Penguin()\\npeggy.whoisThis()\\npeggy.swim()\\npeggy.run()',\n",
       " '_i49': 'class Computer:\\n\\n    def __init__(self):\\n        self.__maxprice = 900\\n\\n    def sell(self):\\n        print(\"Selling Price: {}\".format(self.__maxprice))\\n\\n    def setMaxPrice(self, price):\\n        self.__maxprice = price',\n",
       " '_i5': 'type(blu)',\n",
       " '_i50': 'c = Computer()\\nc.sell()\\n\\n# change the price\\nc.__maxprice = 1000\\nc.sell()\\n\\n# using setter function\\nc.setMaxPrice(1000)\\nc.sell()',\n",
       " '_i51': 'dir(Computer)',\n",
       " '_i52': 'vars(Computer)',\n",
       " '_i53': 'vars(c)',\n",
       " '_i54': 'dir()',\n",
       " '_i55': 'locals()',\n",
       " '_i6': 'vars(blu)',\n",
       " '_i7': 'blu.__dict__',\n",
       " '_i8': \"blu.species = 'bird2'\",\n",
       " '_i9': 'blu.specis',\n",
       " '_ih': ['',\n",
       "  'class Parrot:\\n\\n    # class attribute\\n    species = \"bird\"\\n\\n    # instance attribute\\n    def __init__(self, name, age):\\n        self.name = name\\n        self.age = age',\n",
       "  '# instantiate the Parrot class\\nblu = Parrot(\"Blu\", 10)\\nwoo = Parrot(\"Woo\", 15)',\n",
       "  '# access the class attributes\\nprint(\"Blu is a {}\".format(blu.__class__.species))\\nprint(\"Woo is also a {}\".format(woo.__class__.species))\\n\\n# access the instance attributes\\nprint(\"{} is {} years old\".format( blu.name, blu.age))\\nprint(\"{} is {} years old\".format( woo.name, woo.age))',\n",
       "  'type(Parrot)',\n",
       "  'type(blu)',\n",
       "  'vars(blu)',\n",
       "  'blu.__dict__',\n",
       "  \"blu.species = 'bird2'\",\n",
       "  'blu.specis',\n",
       "  'blue.species',\n",
       "  'blu.species',\n",
       "  'blu.species',\n",
       "  'woo.species #',\n",
       "  '# access the class attributes\\nprint(\"Blu is a {}\".format(blu.__class__.species))\\nprint(\"Woo is also a {}\".format(woo.__class__.species))\\n\\n# access the instance attributes(self가 붙어있는 것들: 위에서 self.name / self.age)\\nprint(\"{} is {} years old\".format( blu.name, blu.age))\\nprint(\"{} is {} years old\".format( woo.name, woo.age))',\n",
       "  'blu.__class__.species',\n",
       "  'blu.__class__',\n",
       "  'class Parrot:\\n    \\n    # instance attributes\\n    def __init__(s, name, age):\\n        s.name = name\\n        s.age = age\\n    \\n    # instance method\\n    def sing(s, song):\\n        return \"{} sings {}\".format(s.name, song)\\n\\n    def dance(self):\\n        return \"{} is now dancing\".format(s.name)\\n\\n# instantiate the object\\nblu = Parrot(\"Blu\", 10)\\n\\n# call our instance methods\\nprint(blu.sing(\"\\'Happy\\'\"))\\nprint(blu.dance())',\n",
       "  'class Parrot:\\n    \\n    # instance attributes\\n    def __init__(s, name, age):\\n        s.name = name\\n        s.age = age\\n    \\n    # instance method\\n    def sing(s, song):\\n        return \"{} sings {}\".format(s.name, song)\\n\\n    def dance(s):\\n        return \"{} is now dancing\".format(s.name)\\n\\n# instantiate the object\\nblu = Parrot(\"Blu\", 10)\\n\\n# call our instance methods\\nprint(blu.sing(\"\\'Happy\\'\"))\\nprint(blu.dance())',\n",
       "  'class Parrot:\\n    \\n    # instance attributes\\n    def __init__(self, name, age):\\n        self.name = name\\n        self.age = age\\n    \\n    # instance method\\n    def sing(self, song):\\n        return \"{} sings {}\".format(self.name, song)\\n\\n    def dance(self):\\n        return \"{} is now dancing\".format(self.name)\\n\\n# instantiate the object\\nblu = Parrot(\"Blu\", 10)\\nred = Parror(\"Red\", 20)\\n\\n# call our instance methods\\nprint(blu.sing(\"\\'Happy\\'\"))\\nprint(blu.dance())',\n",
       "  'class Parrot:\\n    \\n    # instance attributes\\n    def __init__(self, name, age):\\n        self.name = name\\n        self.age = age\\n    \\n    # instance method\\n    def sing(self, song):\\n        return \"{} sings {}\".format(self.name, song)\\n\\n    def dance(self):\\n        return \"{} is now dancing\".format(self.name)\\n\\n# instantiate the object\\nblu = Parrot(\"Blu\", 10)\\nred = Parrot(\"Red\", 20)\\n\\n# call our instance methods\\nprint(blu.sing(\"\\'Happy\\'\"))\\nprint(blu.dance())',\n",
       "  \"Parrot.sing(Red, '노래')\",\n",
       "  \"Parrot.sing(red, '노래')\",\n",
       "  'blu.__class__.sing',\n",
       "  \"a = Parrot('cho',25)\\nParrot.dance(a)\\na.dance()\",\n",
       "  'Parrot.dance2()',\n",
       "  'class Parrot:\\n    \\n    # instance attributes\\n    def __init__(self, name, age):\\n        self.name = name\\n        self.age = age\\n    \\n    # instance method\\n    def sing(self, song):\\n        return \"{} sings {}\".format(self.name, song)\\n\\n    def dance(self):\\n        return \"{} is now dancing\".format(self.name)\\n    \\n    @classmethod # \\n    def dance2(cls):\\n        return \"is now dancing2\"',\n",
       "  \"a = Parrot('cho',25)\\nParrot.dance(a)\\na.dance()\",\n",
       "  'Parrot.dance2()',\n",
       "  'a.__class__.dance2() #위와 같은 표현',\n",
       "  'class Parrot:\\n\\n    # class attribute\\n    species = \"bird\"\\n\\n    # instance attribute: 메소드 안에 선언되는 것. 첫번째 인자가 자기자신을 가리킴.\\n    def __init__(self, name, age):\\n        self.name = name\\n        self.age = age',\n",
       "  '# parent class\\nclass Bird:\\n    \\n    def __init__(self):\\n        print(\"Bird is ready\")\\n\\n    def whoisThis(self):\\n        print(\"Bird\")\\n\\n    def swim(self):\\n        print(\"Swim faster\")',\n",
       "  '# child class\\nclass Penguin(Bird): #class 클래스명(상속할 클래스명)\\n    pass\\n\\'\\'\\'\\n    def __init__(self):\\n        # call super() function\\n        super().__init__()\\n        print(\"Penguin is ready\")\\n\\n    def whoisThis(self):\\n        print(\"Penguin\")\\n\\n    def run(self):\\n        print(\"Run faster\")\\n\\'\\'\\'\\ndir(Penguin)',\n",
       "  'class NewPenguin(Bird):\\n    def swim(Self):\\n        print(\"You\\'d better swim\")\\n\\na = NewPenguin()\\na.swim',\n",
       "  'class NewPenguin(Bird):\\n    def swim(Self):\\n        print(\"You\\'d better swim\")\\n\\na = NewPenguin()\\na.swim()',\n",
       "  '# child class\\nclass Penguin(Bird): #class 클래스명(상속할 클래스명)\\n    def __init__(self):\\n        # call super() function\\n        #super().__init__() # 부모거 실행\\n        print(\"Penguin is ready\") #내것도 한 줄 더 실행.\\n\\n    def whoisThis(self):\\n        print(\"Penguin\")\\n\\n    def run(self):\\n        print(\"Run faster\")',\n",
       "  'peggy = Penguin()\\npeggy.whoisThis()\\npeggy.swim()\\npeggy.run()',\n",
       "  '# child class\\nclass Penguin(Bird): #class 클래스명(상속할 클래스명)\\n    def __init__(self):\\n        # call super() function\\n        super().__init__() # 부모거 실행\\n        print(\"Penguin is ready\") #내것도 한 줄 더 실행.\\n\\n    def whoisThis(self):\\n        print(\"Penguin\")\\n\\n    def run(self):\\n        print(\"Run faster\")',\n",
       "  'peggy = Penguin()\\npeggy.whoisThis()\\npeggy.swim()\\npeggy.run()',\n",
       "  '# child class\\nclass Penguin(Bird): #class 클래스명(상속할 클래스명)\\n    def __init__(self):\\n        # call super() function\\n        #super().__init__() # 부모거 실행\\n        print(\"Penguin is ready\") #내것도 한 줄 더 실행.\\n\\n    def whoisThis(self):\\n        print(\"Penguin\")\\n\\n    def run(self):\\n        print(\"Run faster\")',\n",
       "  'peggy = Penguin()\\npeggy.whoisThis()\\npeggy.swim()\\npeggy.run()',\n",
       "  '# child class\\nclass Penguin(Bird): #class 클래스명(상속할 클래스명)\\n    def __init__(self):\\n        # call super() function\\n        super().__init__() # 부모거 실행\\n        print(\"Penguin is ready\") #내것도 한 줄 더 실행.\\n\\n    def whoisThis(self):\\n        print(\"Penguin\")\\n\\n    def run(self):\\n        print(\"Run faster\")',\n",
       "  'peggy = Penguin()\\npeggy.whoisThis()\\npeggy.swim()\\npeggy.run()',\n",
       "  '# child class\\nclass Penguin(Bird): #class 클래스명(상속할 클래스명)\\n    def __init__(self):\\n        # call super() function\\n        super().__init__() # 부모거 실행\\n        print(\"Penguin is ready\") #내것도 한 줄 더 실행.\\n\\n    def whoisThis(Penguin,self):\\n        print(\"Penguin\")\\n\\n    def run(self):\\n        print(\"Run faster\")',\n",
       "  'peggy = Penguin()\\npeggy.whoisThis()\\npeggy.swim()\\npeggy.run()',\n",
       "  '# child class\\nclass Penguin(Bird): #class 클래스명(상속할 클래스명)\\n    def __init__(self):\\n        # call super() function\\n        super().__init__() # 부모거 실행\\n        print(\"Penguin is ready\") #내것도 한 줄 더 실행.\\n\\n    def whoisThis(self):\\n        print(\"Penguin\")\\n\\n    def run(self):\\n        print(\"Run faster\")',\n",
       "  'peggy = Penguin()\\npeggy.whoisThis()\\npeggy.swim()\\npeggy.run()',\n",
       "  '# child class\\nclass Penguin(Bird): #class 클래스명(상속할 클래스명)\\n    def __init__(self):\\n        # call super() function\\n        super(Penguin,self).__init__() # 부모거 실행\\n        print(\"Penguin is ready\") #내것도 한 줄 더 실행.\\n\\n    def whoisThis(self):\\n        print(\"Penguin\")\\n\\n    def run(self):\\n        print(\"Run faster\")',\n",
       "  'peggy = Penguin()\\npeggy.whoisThis()\\npeggy.swim()\\npeggy.run()',\n",
       "  'class Computer:\\n\\n    def __init__(self):\\n        self.__maxprice = 900\\n\\n    def sell(self):\\n        print(\"Selling Price: {}\".format(self.__maxprice))\\n\\n    def setMaxPrice(self, price):\\n        self.__maxprice = price',\n",
       "  'c = Computer()\\nc.sell()\\n\\n# change the price\\nc.__maxprice = 1000\\nc.sell()\\n\\n# using setter function\\nc.setMaxPrice(1000)\\nc.sell()',\n",
       "  'dir(Computer)',\n",
       "  'vars(Computer)',\n",
       "  'vars(c)',\n",
       "  'dir()',\n",
       "  'locals()'],\n",
       " '_ii': 'vars(c)',\n",
       " '_iii': 'vars(Computer)',\n",
       " '_oh': {4: type,\n",
       "  5: __main__.Parrot,\n",
       "  6: {'age': 10, 'name': 'Blu', 'species': 'bird2'},\n",
       "  7: {'age': 10, 'name': 'Blu', 'species': 'bird2'},\n",
       "  11: 'bird2',\n",
       "  12: 'bird2',\n",
       "  13: 'bird',\n",
       "  15: 'bird',\n",
       "  16: __main__.Parrot,\n",
       "  22: 'Red sings 노래',\n",
       "  23: <function __main__.Parrot.sing>,\n",
       "  24: 'cho is now dancing',\n",
       "  27: 'cho is now dancing',\n",
       "  28: 'is now dancing2',\n",
       "  29: 'is now dancing2',\n",
       "  32: ['__class__',\n",
       "   '__delattr__',\n",
       "   '__dict__',\n",
       "   '__dir__',\n",
       "   '__doc__',\n",
       "   '__eq__',\n",
       "   '__format__',\n",
       "   '__ge__',\n",
       "   '__getattribute__',\n",
       "   '__gt__',\n",
       "   '__hash__',\n",
       "   '__init__',\n",
       "   '__init_subclass__',\n",
       "   '__le__',\n",
       "   '__lt__',\n",
       "   '__module__',\n",
       "   '__ne__',\n",
       "   '__new__',\n",
       "   '__reduce__',\n",
       "   '__reduce_ex__',\n",
       "   '__repr__',\n",
       "   '__setattr__',\n",
       "   '__sizeof__',\n",
       "   '__str__',\n",
       "   '__subclasshook__',\n",
       "   '__weakref__',\n",
       "   'swim',\n",
       "   'whoisThis'],\n",
       "  33: <bound method NewPenguin.swim of <__main__.NewPenguin object at 0x000001CE3D0B1978>>,\n",
       "  51: ['__class__',\n",
       "   '__delattr__',\n",
       "   '__dict__',\n",
       "   '__dir__',\n",
       "   '__doc__',\n",
       "   '__eq__',\n",
       "   '__format__',\n",
       "   '__ge__',\n",
       "   '__getattribute__',\n",
       "   '__gt__',\n",
       "   '__hash__',\n",
       "   '__init__',\n",
       "   '__init_subclass__',\n",
       "   '__le__',\n",
       "   '__lt__',\n",
       "   '__module__',\n",
       "   '__ne__',\n",
       "   '__new__',\n",
       "   '__reduce__',\n",
       "   '__reduce_ex__',\n",
       "   '__repr__',\n",
       "   '__setattr__',\n",
       "   '__sizeof__',\n",
       "   '__str__',\n",
       "   '__subclasshook__',\n",
       "   '__weakref__',\n",
       "   'sell',\n",
       "   'setMaxPrice'],\n",
       "  52: mappingproxy({'__dict__': <attribute '__dict__' of 'Computer' objects>,\n",
       "                '__doc__': None,\n",
       "                '__init__': <function __main__.Computer.__init__>,\n",
       "                '__module__': '__main__',\n",
       "                '__weakref__': <attribute '__weakref__' of 'Computer' objects>,\n",
       "                'sell': <function __main__.Computer.sell>,\n",
       "                'setMaxPrice': <function __main__.Computer.setMaxPrice>}),\n",
       "  53: {'_Computer__maxprice': 1000, '__maxprice': 1000},\n",
       "  54: ['Bird',\n",
       "   'Computer',\n",
       "   'In',\n",
       "   'NewPenguin',\n",
       "   'Out',\n",
       "   'Parrot',\n",
       "   'Penguin',\n",
       "   '_',\n",
       "   '_11',\n",
       "   '_12',\n",
       "   '_13',\n",
       "   '_15',\n",
       "   '_16',\n",
       "   '_22',\n",
       "   '_23',\n",
       "   '_24',\n",
       "   '_27',\n",
       "   '_28',\n",
       "   '_29',\n",
       "   '_32',\n",
       "   '_33',\n",
       "   '_4',\n",
       "   '_5',\n",
       "   '_51',\n",
       "   '_52',\n",
       "   '_53',\n",
       "   '_6',\n",
       "   '_7',\n",
       "   '__',\n",
       "   '___',\n",
       "   '__builtin__',\n",
       "   '__builtins__',\n",
       "   '__doc__',\n",
       "   '__loader__',\n",
       "   '__name__',\n",
       "   '__package__',\n",
       "   '__spec__',\n",
       "   '_dh',\n",
       "   '_i',\n",
       "   '_i1',\n",
       "   '_i10',\n",
       "   '_i11',\n",
       "   '_i12',\n",
       "   '_i13',\n",
       "   '_i14',\n",
       "   '_i15',\n",
       "   '_i16',\n",
       "   '_i17',\n",
       "   '_i18',\n",
       "   '_i19',\n",
       "   '_i2',\n",
       "   '_i20',\n",
       "   '_i21',\n",
       "   '_i22',\n",
       "   '_i23',\n",
       "   '_i24',\n",
       "   '_i25',\n",
       "   '_i26',\n",
       "   '_i27',\n",
       "   '_i28',\n",
       "   '_i29',\n",
       "   '_i3',\n",
       "   '_i30',\n",
       "   '_i31',\n",
       "   '_i32',\n",
       "   '_i33',\n",
       "   '_i34',\n",
       "   '_i35',\n",
       "   '_i36',\n",
       "   '_i37',\n",
       "   '_i38',\n",
       "   '_i39',\n",
       "   '_i4',\n",
       "   '_i40',\n",
       "   '_i41',\n",
       "   '_i42',\n",
       "   '_i43',\n",
       "   '_i44',\n",
       "   '_i45',\n",
       "   '_i46',\n",
       "   '_i47',\n",
       "   '_i48',\n",
       "   '_i49',\n",
       "   '_i5',\n",
       "   '_i50',\n",
       "   '_i51',\n",
       "   '_i52',\n",
       "   '_i53',\n",
       "   '_i54',\n",
       "   '_i6',\n",
       "   '_i7',\n",
       "   '_i8',\n",
       "   '_i9',\n",
       "   '_ih',\n",
       "   '_ii',\n",
       "   '_iii',\n",
       "   '_oh',\n",
       "   'a',\n",
       "   'blu',\n",
       "   'c',\n",
       "   'exit',\n",
       "   'get_ipython',\n",
       "   'peggy',\n",
       "   'quit',\n",
       "   'red',\n",
       "   'woo']},\n",
       " 'a': <__main__.NewPenguin at 0x1ce3d0e0400>,\n",
       " 'blu': <__main__.Parrot at 0x1ce3d0b0c50>,\n",
       " 'c': <__main__.Computer at 0x1ce3d117208>,\n",
       " 'exit': <IPython.core.autocall.ZMQExitAutocall at 0x1ce3be5d630>,\n",
       " 'get_ipython': <bound method InteractiveShell.get_ipython of <ipykernel.zmqshell.ZMQInteractiveShell object at 0x000001CE3BE40160>>,\n",
       " 'peggy': <__main__.Penguin at 0x1ce3d0e05c0>,\n",
       " 'quit': <IPython.core.autocall.ZMQExitAutocall at 0x1ce3be5d630>,\n",
       " 'red': <__main__.Parrot at 0x1ce3d0b0b70>,\n",
       " 'woo': <__main__.Parrot at 0x1ce3cf216a0>}"
      ]
     },
     "execution_count": 55,
     "metadata": {},
     "output_type": "execute_result"
    }
   ],
   "source": [
    "locals() #로컬 영역에 선언된 값들."
   ]
  },
  {
   "cell_type": "code",
   "execution_count": 56,
   "metadata": {
    "collapsed": false
   },
   "outputs": [
    {
     "data": {
      "text/plain": [
       "{'Bird': __main__.Bird,\n",
       " 'Computer': __main__.Computer,\n",
       " 'In': ['',\n",
       "  'class Parrot:\\n\\n    # class attribute\\n    species = \"bird\"\\n\\n    # instance attribute\\n    def __init__(self, name, age):\\n        self.name = name\\n        self.age = age',\n",
       "  '# instantiate the Parrot class\\nblu = Parrot(\"Blu\", 10)\\nwoo = Parrot(\"Woo\", 15)',\n",
       "  '# access the class attributes\\nprint(\"Blu is a {}\".format(blu.__class__.species))\\nprint(\"Woo is also a {}\".format(woo.__class__.species))\\n\\n# access the instance attributes\\nprint(\"{} is {} years old\".format( blu.name, blu.age))\\nprint(\"{} is {} years old\".format( woo.name, woo.age))',\n",
       "  'type(Parrot)',\n",
       "  'type(blu)',\n",
       "  'vars(blu)',\n",
       "  'blu.__dict__',\n",
       "  \"blu.species = 'bird2'\",\n",
       "  'blu.specis',\n",
       "  'blue.species',\n",
       "  'blu.species',\n",
       "  'blu.species',\n",
       "  'woo.species #',\n",
       "  '# access the class attributes\\nprint(\"Blu is a {}\".format(blu.__class__.species))\\nprint(\"Woo is also a {}\".format(woo.__class__.species))\\n\\n# access the instance attributes(self가 붙어있는 것들: 위에서 self.name / self.age)\\nprint(\"{} is {} years old\".format( blu.name, blu.age))\\nprint(\"{} is {} years old\".format( woo.name, woo.age))',\n",
       "  'blu.__class__.species',\n",
       "  'blu.__class__',\n",
       "  'class Parrot:\\n    \\n    # instance attributes\\n    def __init__(s, name, age):\\n        s.name = name\\n        s.age = age\\n    \\n    # instance method\\n    def sing(s, song):\\n        return \"{} sings {}\".format(s.name, song)\\n\\n    def dance(self):\\n        return \"{} is now dancing\".format(s.name)\\n\\n# instantiate the object\\nblu = Parrot(\"Blu\", 10)\\n\\n# call our instance methods\\nprint(blu.sing(\"\\'Happy\\'\"))\\nprint(blu.dance())',\n",
       "  'class Parrot:\\n    \\n    # instance attributes\\n    def __init__(s, name, age):\\n        s.name = name\\n        s.age = age\\n    \\n    # instance method\\n    def sing(s, song):\\n        return \"{} sings {}\".format(s.name, song)\\n\\n    def dance(s):\\n        return \"{} is now dancing\".format(s.name)\\n\\n# instantiate the object\\nblu = Parrot(\"Blu\", 10)\\n\\n# call our instance methods\\nprint(blu.sing(\"\\'Happy\\'\"))\\nprint(blu.dance())',\n",
       "  'class Parrot:\\n    \\n    # instance attributes\\n    def __init__(self, name, age):\\n        self.name = name\\n        self.age = age\\n    \\n    # instance method\\n    def sing(self, song):\\n        return \"{} sings {}\".format(self.name, song)\\n\\n    def dance(self):\\n        return \"{} is now dancing\".format(self.name)\\n\\n# instantiate the object\\nblu = Parrot(\"Blu\", 10)\\nred = Parror(\"Red\", 20)\\n\\n# call our instance methods\\nprint(blu.sing(\"\\'Happy\\'\"))\\nprint(blu.dance())',\n",
       "  'class Parrot:\\n    \\n    # instance attributes\\n    def __init__(self, name, age):\\n        self.name = name\\n        self.age = age\\n    \\n    # instance method\\n    def sing(self, song):\\n        return \"{} sings {}\".format(self.name, song)\\n\\n    def dance(self):\\n        return \"{} is now dancing\".format(self.name)\\n\\n# instantiate the object\\nblu = Parrot(\"Blu\", 10)\\nred = Parrot(\"Red\", 20)\\n\\n# call our instance methods\\nprint(blu.sing(\"\\'Happy\\'\"))\\nprint(blu.dance())',\n",
       "  \"Parrot.sing(Red, '노래')\",\n",
       "  \"Parrot.sing(red, '노래')\",\n",
       "  'blu.__class__.sing',\n",
       "  \"a = Parrot('cho',25)\\nParrot.dance(a)\\na.dance()\",\n",
       "  'Parrot.dance2()',\n",
       "  'class Parrot:\\n    \\n    # instance attributes\\n    def __init__(self, name, age):\\n        self.name = name\\n        self.age = age\\n    \\n    # instance method\\n    def sing(self, song):\\n        return \"{} sings {}\".format(self.name, song)\\n\\n    def dance(self):\\n        return \"{} is now dancing\".format(self.name)\\n    \\n    @classmethod # \\n    def dance2(cls):\\n        return \"is now dancing2\"',\n",
       "  \"a = Parrot('cho',25)\\nParrot.dance(a)\\na.dance()\",\n",
       "  'Parrot.dance2()',\n",
       "  'a.__class__.dance2() #위와 같은 표현',\n",
       "  'class Parrot:\\n\\n    # class attribute\\n    species = \"bird\"\\n\\n    # instance attribute: 메소드 안에 선언되는 것. 첫번째 인자가 자기자신을 가리킴.\\n    def __init__(self, name, age):\\n        self.name = name\\n        self.age = age',\n",
       "  '# parent class\\nclass Bird:\\n    \\n    def __init__(self):\\n        print(\"Bird is ready\")\\n\\n    def whoisThis(self):\\n        print(\"Bird\")\\n\\n    def swim(self):\\n        print(\"Swim faster\")',\n",
       "  '# child class\\nclass Penguin(Bird): #class 클래스명(상속할 클래스명)\\n    pass\\n\\'\\'\\'\\n    def __init__(self):\\n        # call super() function\\n        super().__init__()\\n        print(\"Penguin is ready\")\\n\\n    def whoisThis(self):\\n        print(\"Penguin\")\\n\\n    def run(self):\\n        print(\"Run faster\")\\n\\'\\'\\'\\ndir(Penguin)',\n",
       "  'class NewPenguin(Bird):\\n    def swim(Self):\\n        print(\"You\\'d better swim\")\\n\\na = NewPenguin()\\na.swim',\n",
       "  'class NewPenguin(Bird):\\n    def swim(Self):\\n        print(\"You\\'d better swim\")\\n\\na = NewPenguin()\\na.swim()',\n",
       "  '# child class\\nclass Penguin(Bird): #class 클래스명(상속할 클래스명)\\n    def __init__(self):\\n        # call super() function\\n        #super().__init__() # 부모거 실행\\n        print(\"Penguin is ready\") #내것도 한 줄 더 실행.\\n\\n    def whoisThis(self):\\n        print(\"Penguin\")\\n\\n    def run(self):\\n        print(\"Run faster\")',\n",
       "  'peggy = Penguin()\\npeggy.whoisThis()\\npeggy.swim()\\npeggy.run()',\n",
       "  '# child class\\nclass Penguin(Bird): #class 클래스명(상속할 클래스명)\\n    def __init__(self):\\n        # call super() function\\n        super().__init__() # 부모거 실행\\n        print(\"Penguin is ready\") #내것도 한 줄 더 실행.\\n\\n    def whoisThis(self):\\n        print(\"Penguin\")\\n\\n    def run(self):\\n        print(\"Run faster\")',\n",
       "  'peggy = Penguin()\\npeggy.whoisThis()\\npeggy.swim()\\npeggy.run()',\n",
       "  '# child class\\nclass Penguin(Bird): #class 클래스명(상속할 클래스명)\\n    def __init__(self):\\n        # call super() function\\n        #super().__init__() # 부모거 실행\\n        print(\"Penguin is ready\") #내것도 한 줄 더 실행.\\n\\n    def whoisThis(self):\\n        print(\"Penguin\")\\n\\n    def run(self):\\n        print(\"Run faster\")',\n",
       "  'peggy = Penguin()\\npeggy.whoisThis()\\npeggy.swim()\\npeggy.run()',\n",
       "  '# child class\\nclass Penguin(Bird): #class 클래스명(상속할 클래스명)\\n    def __init__(self):\\n        # call super() function\\n        super().__init__() # 부모거 실행\\n        print(\"Penguin is ready\") #내것도 한 줄 더 실행.\\n\\n    def whoisThis(self):\\n        print(\"Penguin\")\\n\\n    def run(self):\\n        print(\"Run faster\")',\n",
       "  'peggy = Penguin()\\npeggy.whoisThis()\\npeggy.swim()\\npeggy.run()',\n",
       "  '# child class\\nclass Penguin(Bird): #class 클래스명(상속할 클래스명)\\n    def __init__(self):\\n        # call super() function\\n        super().__init__() # 부모거 실행\\n        print(\"Penguin is ready\") #내것도 한 줄 더 실행.\\n\\n    def whoisThis(Penguin,self):\\n        print(\"Penguin\")\\n\\n    def run(self):\\n        print(\"Run faster\")',\n",
       "  'peggy = Penguin()\\npeggy.whoisThis()\\npeggy.swim()\\npeggy.run()',\n",
       "  '# child class\\nclass Penguin(Bird): #class 클래스명(상속할 클래스명)\\n    def __init__(self):\\n        # call super() function\\n        super().__init__() # 부모거 실행\\n        print(\"Penguin is ready\") #내것도 한 줄 더 실행.\\n\\n    def whoisThis(self):\\n        print(\"Penguin\")\\n\\n    def run(self):\\n        print(\"Run faster\")',\n",
       "  'peggy = Penguin()\\npeggy.whoisThis()\\npeggy.swim()\\npeggy.run()',\n",
       "  '# child class\\nclass Penguin(Bird): #class 클래스명(상속할 클래스명)\\n    def __init__(self):\\n        # call super() function\\n        super(Penguin,self).__init__() # 부모거 실행\\n        print(\"Penguin is ready\") #내것도 한 줄 더 실행.\\n\\n    def whoisThis(self):\\n        print(\"Penguin\")\\n\\n    def run(self):\\n        print(\"Run faster\")',\n",
       "  'peggy = Penguin()\\npeggy.whoisThis()\\npeggy.swim()\\npeggy.run()',\n",
       "  'class Computer:\\n\\n    def __init__(self):\\n        self.__maxprice = 900\\n\\n    def sell(self):\\n        print(\"Selling Price: {}\".format(self.__maxprice))\\n\\n    def setMaxPrice(self, price):\\n        self.__maxprice = price',\n",
       "  'c = Computer()\\nc.sell()\\n\\n# change the price\\nc.__maxprice = 1000\\nc.sell()\\n\\n# using setter function\\nc.setMaxPrice(1000)\\nc.sell()',\n",
       "  'dir(Computer)',\n",
       "  'vars(Computer)',\n",
       "  'vars(c)',\n",
       "  'dir()',\n",
       "  'locals()',\n",
       "  'globals() #전역에 선언된 값들.'],\n",
       " 'NewPenguin': __main__.NewPenguin,\n",
       " 'Out': {4: type,\n",
       "  5: __main__.Parrot,\n",
       "  6: {'age': 10, 'name': 'Blu', 'species': 'bird2'},\n",
       "  7: {'age': 10, 'name': 'Blu', 'species': 'bird2'},\n",
       "  11: 'bird2',\n",
       "  12: 'bird2',\n",
       "  13: 'bird',\n",
       "  15: 'bird',\n",
       "  16: __main__.Parrot,\n",
       "  22: 'Red sings 노래',\n",
       "  23: <function __main__.Parrot.sing>,\n",
       "  24: 'cho is now dancing',\n",
       "  27: 'cho is now dancing',\n",
       "  28: 'is now dancing2',\n",
       "  29: 'is now dancing2',\n",
       "  32: ['__class__',\n",
       "   '__delattr__',\n",
       "   '__dict__',\n",
       "   '__dir__',\n",
       "   '__doc__',\n",
       "   '__eq__',\n",
       "   '__format__',\n",
       "   '__ge__',\n",
       "   '__getattribute__',\n",
       "   '__gt__',\n",
       "   '__hash__',\n",
       "   '__init__',\n",
       "   '__init_subclass__',\n",
       "   '__le__',\n",
       "   '__lt__',\n",
       "   '__module__',\n",
       "   '__ne__',\n",
       "   '__new__',\n",
       "   '__reduce__',\n",
       "   '__reduce_ex__',\n",
       "   '__repr__',\n",
       "   '__setattr__',\n",
       "   '__sizeof__',\n",
       "   '__str__',\n",
       "   '__subclasshook__',\n",
       "   '__weakref__',\n",
       "   'swim',\n",
       "   'whoisThis'],\n",
       "  33: <bound method NewPenguin.swim of <__main__.NewPenguin object at 0x000001CE3D0B1978>>,\n",
       "  51: ['__class__',\n",
       "   '__delattr__',\n",
       "   '__dict__',\n",
       "   '__dir__',\n",
       "   '__doc__',\n",
       "   '__eq__',\n",
       "   '__format__',\n",
       "   '__ge__',\n",
       "   '__getattribute__',\n",
       "   '__gt__',\n",
       "   '__hash__',\n",
       "   '__init__',\n",
       "   '__init_subclass__',\n",
       "   '__le__',\n",
       "   '__lt__',\n",
       "   '__module__',\n",
       "   '__ne__',\n",
       "   '__new__',\n",
       "   '__reduce__',\n",
       "   '__reduce_ex__',\n",
       "   '__repr__',\n",
       "   '__setattr__',\n",
       "   '__sizeof__',\n",
       "   '__str__',\n",
       "   '__subclasshook__',\n",
       "   '__weakref__',\n",
       "   'sell',\n",
       "   'setMaxPrice'],\n",
       "  52: mappingproxy({'__dict__': <attribute '__dict__' of 'Computer' objects>,\n",
       "                '__doc__': None,\n",
       "                '__init__': <function __main__.Computer.__init__>,\n",
       "                '__module__': '__main__',\n",
       "                '__weakref__': <attribute '__weakref__' of 'Computer' objects>,\n",
       "                'sell': <function __main__.Computer.sell>,\n",
       "                'setMaxPrice': <function __main__.Computer.setMaxPrice>}),\n",
       "  53: {'_Computer__maxprice': 1000, '__maxprice': 1000},\n",
       "  54: ['Bird',\n",
       "   'Computer',\n",
       "   'In',\n",
       "   'NewPenguin',\n",
       "   'Out',\n",
       "   'Parrot',\n",
       "   'Penguin',\n",
       "   '_',\n",
       "   '_11',\n",
       "   '_12',\n",
       "   '_13',\n",
       "   '_15',\n",
       "   '_16',\n",
       "   '_22',\n",
       "   '_23',\n",
       "   '_24',\n",
       "   '_27',\n",
       "   '_28',\n",
       "   '_29',\n",
       "   '_32',\n",
       "   '_33',\n",
       "   '_4',\n",
       "   '_5',\n",
       "   '_51',\n",
       "   '_52',\n",
       "   '_53',\n",
       "   '_6',\n",
       "   '_7',\n",
       "   '__',\n",
       "   '___',\n",
       "   '__builtin__',\n",
       "   '__builtins__',\n",
       "   '__doc__',\n",
       "   '__loader__',\n",
       "   '__name__',\n",
       "   '__package__',\n",
       "   '__spec__',\n",
       "   '_dh',\n",
       "   '_i',\n",
       "   '_i1',\n",
       "   '_i10',\n",
       "   '_i11',\n",
       "   '_i12',\n",
       "   '_i13',\n",
       "   '_i14',\n",
       "   '_i15',\n",
       "   '_i16',\n",
       "   '_i17',\n",
       "   '_i18',\n",
       "   '_i19',\n",
       "   '_i2',\n",
       "   '_i20',\n",
       "   '_i21',\n",
       "   '_i22',\n",
       "   '_i23',\n",
       "   '_i24',\n",
       "   '_i25',\n",
       "   '_i26',\n",
       "   '_i27',\n",
       "   '_i28',\n",
       "   '_i29',\n",
       "   '_i3',\n",
       "   '_i30',\n",
       "   '_i31',\n",
       "   '_i32',\n",
       "   '_i33',\n",
       "   '_i34',\n",
       "   '_i35',\n",
       "   '_i36',\n",
       "   '_i37',\n",
       "   '_i38',\n",
       "   '_i39',\n",
       "   '_i4',\n",
       "   '_i40',\n",
       "   '_i41',\n",
       "   '_i42',\n",
       "   '_i43',\n",
       "   '_i44',\n",
       "   '_i45',\n",
       "   '_i46',\n",
       "   '_i47',\n",
       "   '_i48',\n",
       "   '_i49',\n",
       "   '_i5',\n",
       "   '_i50',\n",
       "   '_i51',\n",
       "   '_i52',\n",
       "   '_i53',\n",
       "   '_i54',\n",
       "   '_i6',\n",
       "   '_i7',\n",
       "   '_i8',\n",
       "   '_i9',\n",
       "   '_ih',\n",
       "   '_ii',\n",
       "   '_iii',\n",
       "   '_oh',\n",
       "   'a',\n",
       "   'blu',\n",
       "   'c',\n",
       "   'exit',\n",
       "   'get_ipython',\n",
       "   'peggy',\n",
       "   'quit',\n",
       "   'red',\n",
       "   'woo'],\n",
       "  55: {...}},\n",
       " 'Parrot': __main__.Parrot,\n",
       " 'Penguin': __main__.Penguin,\n",
       " '_': {...},\n",
       " '_11': 'bird2',\n",
       " '_12': 'bird2',\n",
       " '_13': 'bird',\n",
       " '_15': 'bird',\n",
       " '_16': __main__.Parrot,\n",
       " '_22': 'Red sings 노래',\n",
       " '_23': <function __main__.Parrot.sing>,\n",
       " '_24': 'cho is now dancing',\n",
       " '_27': 'cho is now dancing',\n",
       " '_28': 'is now dancing2',\n",
       " '_29': 'is now dancing2',\n",
       " '_32': ['__class__',\n",
       "  '__delattr__',\n",
       "  '__dict__',\n",
       "  '__dir__',\n",
       "  '__doc__',\n",
       "  '__eq__',\n",
       "  '__format__',\n",
       "  '__ge__',\n",
       "  '__getattribute__',\n",
       "  '__gt__',\n",
       "  '__hash__',\n",
       "  '__init__',\n",
       "  '__init_subclass__',\n",
       "  '__le__',\n",
       "  '__lt__',\n",
       "  '__module__',\n",
       "  '__ne__',\n",
       "  '__new__',\n",
       "  '__reduce__',\n",
       "  '__reduce_ex__',\n",
       "  '__repr__',\n",
       "  '__setattr__',\n",
       "  '__sizeof__',\n",
       "  '__str__',\n",
       "  '__subclasshook__',\n",
       "  '__weakref__',\n",
       "  'swim',\n",
       "  'whoisThis'],\n",
       " '_33': <bound method NewPenguin.swim of <__main__.NewPenguin object at 0x000001CE3D0B1978>>,\n",
       " '_4': type,\n",
       " '_5': __main__.Parrot,\n",
       " '_51': ['__class__',\n",
       "  '__delattr__',\n",
       "  '__dict__',\n",
       "  '__dir__',\n",
       "  '__doc__',\n",
       "  '__eq__',\n",
       "  '__format__',\n",
       "  '__ge__',\n",
       "  '__getattribute__',\n",
       "  '__gt__',\n",
       "  '__hash__',\n",
       "  '__init__',\n",
       "  '__init_subclass__',\n",
       "  '__le__',\n",
       "  '__lt__',\n",
       "  '__module__',\n",
       "  '__ne__',\n",
       "  '__new__',\n",
       "  '__reduce__',\n",
       "  '__reduce_ex__',\n",
       "  '__repr__',\n",
       "  '__setattr__',\n",
       "  '__sizeof__',\n",
       "  '__str__',\n",
       "  '__subclasshook__',\n",
       "  '__weakref__',\n",
       "  'sell',\n",
       "  'setMaxPrice'],\n",
       " '_52': mappingproxy({'__dict__': <attribute '__dict__' of 'Computer' objects>,\n",
       "               '__doc__': None,\n",
       "               '__init__': <function __main__.Computer.__init__>,\n",
       "               '__module__': '__main__',\n",
       "               '__weakref__': <attribute '__weakref__' of 'Computer' objects>,\n",
       "               'sell': <function __main__.Computer.sell>,\n",
       "               'setMaxPrice': <function __main__.Computer.setMaxPrice>}),\n",
       " '_53': {'_Computer__maxprice': 1000, '__maxprice': 1000},\n",
       " '_54': ['Bird',\n",
       "  'Computer',\n",
       "  'In',\n",
       "  'NewPenguin',\n",
       "  'Out',\n",
       "  'Parrot',\n",
       "  'Penguin',\n",
       "  '_',\n",
       "  '_11',\n",
       "  '_12',\n",
       "  '_13',\n",
       "  '_15',\n",
       "  '_16',\n",
       "  '_22',\n",
       "  '_23',\n",
       "  '_24',\n",
       "  '_27',\n",
       "  '_28',\n",
       "  '_29',\n",
       "  '_32',\n",
       "  '_33',\n",
       "  '_4',\n",
       "  '_5',\n",
       "  '_51',\n",
       "  '_52',\n",
       "  '_53',\n",
       "  '_6',\n",
       "  '_7',\n",
       "  '__',\n",
       "  '___',\n",
       "  '__builtin__',\n",
       "  '__builtins__',\n",
       "  '__doc__',\n",
       "  '__loader__',\n",
       "  '__name__',\n",
       "  '__package__',\n",
       "  '__spec__',\n",
       "  '_dh',\n",
       "  '_i',\n",
       "  '_i1',\n",
       "  '_i10',\n",
       "  '_i11',\n",
       "  '_i12',\n",
       "  '_i13',\n",
       "  '_i14',\n",
       "  '_i15',\n",
       "  '_i16',\n",
       "  '_i17',\n",
       "  '_i18',\n",
       "  '_i19',\n",
       "  '_i2',\n",
       "  '_i20',\n",
       "  '_i21',\n",
       "  '_i22',\n",
       "  '_i23',\n",
       "  '_i24',\n",
       "  '_i25',\n",
       "  '_i26',\n",
       "  '_i27',\n",
       "  '_i28',\n",
       "  '_i29',\n",
       "  '_i3',\n",
       "  '_i30',\n",
       "  '_i31',\n",
       "  '_i32',\n",
       "  '_i33',\n",
       "  '_i34',\n",
       "  '_i35',\n",
       "  '_i36',\n",
       "  '_i37',\n",
       "  '_i38',\n",
       "  '_i39',\n",
       "  '_i4',\n",
       "  '_i40',\n",
       "  '_i41',\n",
       "  '_i42',\n",
       "  '_i43',\n",
       "  '_i44',\n",
       "  '_i45',\n",
       "  '_i46',\n",
       "  '_i47',\n",
       "  '_i48',\n",
       "  '_i49',\n",
       "  '_i5',\n",
       "  '_i50',\n",
       "  '_i51',\n",
       "  '_i52',\n",
       "  '_i53',\n",
       "  '_i54',\n",
       "  '_i6',\n",
       "  '_i7',\n",
       "  '_i8',\n",
       "  '_i9',\n",
       "  '_ih',\n",
       "  '_ii',\n",
       "  '_iii',\n",
       "  '_oh',\n",
       "  'a',\n",
       "  'blu',\n",
       "  'c',\n",
       "  'exit',\n",
       "  'get_ipython',\n",
       "  'peggy',\n",
       "  'quit',\n",
       "  'red',\n",
       "  'woo'],\n",
       " '_55': {...},\n",
       " '_6': {'age': 10, 'name': 'Blu', 'species': 'bird2'},\n",
       " '_7': {'age': 10, 'name': 'Blu', 'species': 'bird2'},\n",
       " '__': ['Bird',\n",
       "  'Computer',\n",
       "  'In',\n",
       "  'NewPenguin',\n",
       "  'Out',\n",
       "  'Parrot',\n",
       "  'Penguin',\n",
       "  '_',\n",
       "  '_11',\n",
       "  '_12',\n",
       "  '_13',\n",
       "  '_15',\n",
       "  '_16',\n",
       "  '_22',\n",
       "  '_23',\n",
       "  '_24',\n",
       "  '_27',\n",
       "  '_28',\n",
       "  '_29',\n",
       "  '_32',\n",
       "  '_33',\n",
       "  '_4',\n",
       "  '_5',\n",
       "  '_51',\n",
       "  '_52',\n",
       "  '_53',\n",
       "  '_6',\n",
       "  '_7',\n",
       "  '__',\n",
       "  '___',\n",
       "  '__builtin__',\n",
       "  '__builtins__',\n",
       "  '__doc__',\n",
       "  '__loader__',\n",
       "  '__name__',\n",
       "  '__package__',\n",
       "  '__spec__',\n",
       "  '_dh',\n",
       "  '_i',\n",
       "  '_i1',\n",
       "  '_i10',\n",
       "  '_i11',\n",
       "  '_i12',\n",
       "  '_i13',\n",
       "  '_i14',\n",
       "  '_i15',\n",
       "  '_i16',\n",
       "  '_i17',\n",
       "  '_i18',\n",
       "  '_i19',\n",
       "  '_i2',\n",
       "  '_i20',\n",
       "  '_i21',\n",
       "  '_i22',\n",
       "  '_i23',\n",
       "  '_i24',\n",
       "  '_i25',\n",
       "  '_i26',\n",
       "  '_i27',\n",
       "  '_i28',\n",
       "  '_i29',\n",
       "  '_i3',\n",
       "  '_i30',\n",
       "  '_i31',\n",
       "  '_i32',\n",
       "  '_i33',\n",
       "  '_i34',\n",
       "  '_i35',\n",
       "  '_i36',\n",
       "  '_i37',\n",
       "  '_i38',\n",
       "  '_i39',\n",
       "  '_i4',\n",
       "  '_i40',\n",
       "  '_i41',\n",
       "  '_i42',\n",
       "  '_i43',\n",
       "  '_i44',\n",
       "  '_i45',\n",
       "  '_i46',\n",
       "  '_i47',\n",
       "  '_i48',\n",
       "  '_i49',\n",
       "  '_i5',\n",
       "  '_i50',\n",
       "  '_i51',\n",
       "  '_i52',\n",
       "  '_i53',\n",
       "  '_i54',\n",
       "  '_i6',\n",
       "  '_i7',\n",
       "  '_i8',\n",
       "  '_i9',\n",
       "  '_ih',\n",
       "  '_ii',\n",
       "  '_iii',\n",
       "  '_oh',\n",
       "  'a',\n",
       "  'blu',\n",
       "  'c',\n",
       "  'exit',\n",
       "  'get_ipython',\n",
       "  'peggy',\n",
       "  'quit',\n",
       "  'red',\n",
       "  'woo'],\n",
       " '___': {'_Computer__maxprice': 1000, '__maxprice': 1000},\n",
       " '__builtin__': <module 'builtins' (built-in)>,\n",
       " '__builtins__': <module 'builtins' (built-in)>,\n",
       " '__doc__': '\\n    def __init__(self):\\n        # call super() function\\n        super().__init__()\\n        print(\"Penguin is ready\")\\n\\n    def whoisThis(self):\\n        print(\"Penguin\")\\n\\n    def run(self):\\n        print(\"Run faster\")\\n',\n",
       " '__loader__': None,\n",
       " '__name__': '__main__',\n",
       " '__package__': None,\n",
       " '__spec__': None,\n",
       " '_dh': ['C:\\\\Users\\\\korra\\\\OneDrive\\\\デスクトップ\\\\빅데이터 청년인재\\\\수업내용'],\n",
       " '_i': 'locals()',\n",
       " '_i1': 'class Parrot:\\n\\n    # class attribute\\n    species = \"bird\"\\n\\n    # instance attribute\\n    def __init__(self, name, age):\\n        self.name = name\\n        self.age = age',\n",
       " '_i10': 'blue.species',\n",
       " '_i11': 'blu.species',\n",
       " '_i12': 'blu.species',\n",
       " '_i13': 'woo.species #',\n",
       " '_i14': '# access the class attributes\\nprint(\"Blu is a {}\".format(blu.__class__.species))\\nprint(\"Woo is also a {}\".format(woo.__class__.species))\\n\\n# access the instance attributes(self가 붙어있는 것들: 위에서 self.name / self.age)\\nprint(\"{} is {} years old\".format( blu.name, blu.age))\\nprint(\"{} is {} years old\".format( woo.name, woo.age))',\n",
       " '_i15': 'blu.__class__.species',\n",
       " '_i16': 'blu.__class__',\n",
       " '_i17': 'class Parrot:\\n    \\n    # instance attributes\\n    def __init__(s, name, age):\\n        s.name = name\\n        s.age = age\\n    \\n    # instance method\\n    def sing(s, song):\\n        return \"{} sings {}\".format(s.name, song)\\n\\n    def dance(self):\\n        return \"{} is now dancing\".format(s.name)\\n\\n# instantiate the object\\nblu = Parrot(\"Blu\", 10)\\n\\n# call our instance methods\\nprint(blu.sing(\"\\'Happy\\'\"))\\nprint(blu.dance())',\n",
       " '_i18': 'class Parrot:\\n    \\n    # instance attributes\\n    def __init__(s, name, age):\\n        s.name = name\\n        s.age = age\\n    \\n    # instance method\\n    def sing(s, song):\\n        return \"{} sings {}\".format(s.name, song)\\n\\n    def dance(s):\\n        return \"{} is now dancing\".format(s.name)\\n\\n# instantiate the object\\nblu = Parrot(\"Blu\", 10)\\n\\n# call our instance methods\\nprint(blu.sing(\"\\'Happy\\'\"))\\nprint(blu.dance())',\n",
       " '_i19': 'class Parrot:\\n    \\n    # instance attributes\\n    def __init__(self, name, age):\\n        self.name = name\\n        self.age = age\\n    \\n    # instance method\\n    def sing(self, song):\\n        return \"{} sings {}\".format(self.name, song)\\n\\n    def dance(self):\\n        return \"{} is now dancing\".format(self.name)\\n\\n# instantiate the object\\nblu = Parrot(\"Blu\", 10)\\nred = Parror(\"Red\", 20)\\n\\n# call our instance methods\\nprint(blu.sing(\"\\'Happy\\'\"))\\nprint(blu.dance())',\n",
       " '_i2': '# instantiate the Parrot class\\nblu = Parrot(\"Blu\", 10)\\nwoo = Parrot(\"Woo\", 15)',\n",
       " '_i20': 'class Parrot:\\n    \\n    # instance attributes\\n    def __init__(self, name, age):\\n        self.name = name\\n        self.age = age\\n    \\n    # instance method\\n    def sing(self, song):\\n        return \"{} sings {}\".format(self.name, song)\\n\\n    def dance(self):\\n        return \"{} is now dancing\".format(self.name)\\n\\n# instantiate the object\\nblu = Parrot(\"Blu\", 10)\\nred = Parrot(\"Red\", 20)\\n\\n# call our instance methods\\nprint(blu.sing(\"\\'Happy\\'\"))\\nprint(blu.dance())',\n",
       " '_i21': \"Parrot.sing(Red, '노래')\",\n",
       " '_i22': \"Parrot.sing(red, '노래')\",\n",
       " '_i23': 'blu.__class__.sing',\n",
       " '_i24': \"a = Parrot('cho',25)\\nParrot.dance(a)\\na.dance()\",\n",
       " '_i25': 'Parrot.dance2()',\n",
       " '_i26': 'class Parrot:\\n    \\n    # instance attributes\\n    def __init__(self, name, age):\\n        self.name = name\\n        self.age = age\\n    \\n    # instance method\\n    def sing(self, song):\\n        return \"{} sings {}\".format(self.name, song)\\n\\n    def dance(self):\\n        return \"{} is now dancing\".format(self.name)\\n    \\n    @classmethod # \\n    def dance2(cls):\\n        return \"is now dancing2\"',\n",
       " '_i27': \"a = Parrot('cho',25)\\nParrot.dance(a)\\na.dance()\",\n",
       " '_i28': 'Parrot.dance2()',\n",
       " '_i29': 'a.__class__.dance2() #위와 같은 표현',\n",
       " '_i3': '# access the class attributes\\nprint(\"Blu is a {}\".format(blu.__class__.species))\\nprint(\"Woo is also a {}\".format(woo.__class__.species))\\n\\n# access the instance attributes\\nprint(\"{} is {} years old\".format( blu.name, blu.age))\\nprint(\"{} is {} years old\".format( woo.name, woo.age))',\n",
       " '_i30': 'class Parrot:\\n\\n    # class attribute\\n    species = \"bird\"\\n\\n    # instance attribute: 메소드 안에 선언되는 것. 첫번째 인자가 자기자신을 가리킴.\\n    def __init__(self, name, age):\\n        self.name = name\\n        self.age = age',\n",
       " '_i31': '# parent class\\nclass Bird:\\n    \\n    def __init__(self):\\n        print(\"Bird is ready\")\\n\\n    def whoisThis(self):\\n        print(\"Bird\")\\n\\n    def swim(self):\\n        print(\"Swim faster\")',\n",
       " '_i32': '# child class\\nclass Penguin(Bird): #class 클래스명(상속할 클래스명)\\n    pass\\n\\'\\'\\'\\n    def __init__(self):\\n        # call super() function\\n        super().__init__()\\n        print(\"Penguin is ready\")\\n\\n    def whoisThis(self):\\n        print(\"Penguin\")\\n\\n    def run(self):\\n        print(\"Run faster\")\\n\\'\\'\\'\\ndir(Penguin)',\n",
       " '_i33': 'class NewPenguin(Bird):\\n    def swim(Self):\\n        print(\"You\\'d better swim\")\\n\\na = NewPenguin()\\na.swim',\n",
       " '_i34': 'class NewPenguin(Bird):\\n    def swim(Self):\\n        print(\"You\\'d better swim\")\\n\\na = NewPenguin()\\na.swim()',\n",
       " '_i35': '# child class\\nclass Penguin(Bird): #class 클래스명(상속할 클래스명)\\n    def __init__(self):\\n        # call super() function\\n        #super().__init__() # 부모거 실행\\n        print(\"Penguin is ready\") #내것도 한 줄 더 실행.\\n\\n    def whoisThis(self):\\n        print(\"Penguin\")\\n\\n    def run(self):\\n        print(\"Run faster\")',\n",
       " '_i36': 'peggy = Penguin()\\npeggy.whoisThis()\\npeggy.swim()\\npeggy.run()',\n",
       " '_i37': '# child class\\nclass Penguin(Bird): #class 클래스명(상속할 클래스명)\\n    def __init__(self):\\n        # call super() function\\n        super().__init__() # 부모거 실행\\n        print(\"Penguin is ready\") #내것도 한 줄 더 실행.\\n\\n    def whoisThis(self):\\n        print(\"Penguin\")\\n\\n    def run(self):\\n        print(\"Run faster\")',\n",
       " '_i38': 'peggy = Penguin()\\npeggy.whoisThis()\\npeggy.swim()\\npeggy.run()',\n",
       " '_i39': '# child class\\nclass Penguin(Bird): #class 클래스명(상속할 클래스명)\\n    def __init__(self):\\n        # call super() function\\n        #super().__init__() # 부모거 실행\\n        print(\"Penguin is ready\") #내것도 한 줄 더 실행.\\n\\n    def whoisThis(self):\\n        print(\"Penguin\")\\n\\n    def run(self):\\n        print(\"Run faster\")',\n",
       " '_i4': 'type(Parrot)',\n",
       " '_i40': 'peggy = Penguin()\\npeggy.whoisThis()\\npeggy.swim()\\npeggy.run()',\n",
       " '_i41': '# child class\\nclass Penguin(Bird): #class 클래스명(상속할 클래스명)\\n    def __init__(self):\\n        # call super() function\\n        super().__init__() # 부모거 실행\\n        print(\"Penguin is ready\") #내것도 한 줄 더 실행.\\n\\n    def whoisThis(self):\\n        print(\"Penguin\")\\n\\n    def run(self):\\n        print(\"Run faster\")',\n",
       " '_i42': 'peggy = Penguin()\\npeggy.whoisThis()\\npeggy.swim()\\npeggy.run()',\n",
       " '_i43': '# child class\\nclass Penguin(Bird): #class 클래스명(상속할 클래스명)\\n    def __init__(self):\\n        # call super() function\\n        super().__init__() # 부모거 실행\\n        print(\"Penguin is ready\") #내것도 한 줄 더 실행.\\n\\n    def whoisThis(Penguin,self):\\n        print(\"Penguin\")\\n\\n    def run(self):\\n        print(\"Run faster\")',\n",
       " '_i44': 'peggy = Penguin()\\npeggy.whoisThis()\\npeggy.swim()\\npeggy.run()',\n",
       " '_i45': '# child class\\nclass Penguin(Bird): #class 클래스명(상속할 클래스명)\\n    def __init__(self):\\n        # call super() function\\n        super().__init__() # 부모거 실행\\n        print(\"Penguin is ready\") #내것도 한 줄 더 실행.\\n\\n    def whoisThis(self):\\n        print(\"Penguin\")\\n\\n    def run(self):\\n        print(\"Run faster\")',\n",
       " '_i46': 'peggy = Penguin()\\npeggy.whoisThis()\\npeggy.swim()\\npeggy.run()',\n",
       " '_i47': '# child class\\nclass Penguin(Bird): #class 클래스명(상속할 클래스명)\\n    def __init__(self):\\n        # call super() function\\n        super(Penguin,self).__init__() # 부모거 실행\\n        print(\"Penguin is ready\") #내것도 한 줄 더 실행.\\n\\n    def whoisThis(self):\\n        print(\"Penguin\")\\n\\n    def run(self):\\n        print(\"Run faster\")',\n",
       " '_i48': 'peggy = Penguin()\\npeggy.whoisThis()\\npeggy.swim()\\npeggy.run()',\n",
       " '_i49': 'class Computer:\\n\\n    def __init__(self):\\n        self.__maxprice = 900\\n\\n    def sell(self):\\n        print(\"Selling Price: {}\".format(self.__maxprice))\\n\\n    def setMaxPrice(self, price):\\n        self.__maxprice = price',\n",
       " '_i5': 'type(blu)',\n",
       " '_i50': 'c = Computer()\\nc.sell()\\n\\n# change the price\\nc.__maxprice = 1000\\nc.sell()\\n\\n# using setter function\\nc.setMaxPrice(1000)\\nc.sell()',\n",
       " '_i51': 'dir(Computer)',\n",
       " '_i52': 'vars(Computer)',\n",
       " '_i53': 'vars(c)',\n",
       " '_i54': 'dir()',\n",
       " '_i55': 'locals()',\n",
       " '_i56': 'globals() #전역에 선언된 값들.',\n",
       " '_i6': 'vars(blu)',\n",
       " '_i7': 'blu.__dict__',\n",
       " '_i8': \"blu.species = 'bird2'\",\n",
       " '_i9': 'blu.specis',\n",
       " '_ih': ['',\n",
       "  'class Parrot:\\n\\n    # class attribute\\n    species = \"bird\"\\n\\n    # instance attribute\\n    def __init__(self, name, age):\\n        self.name = name\\n        self.age = age',\n",
       "  '# instantiate the Parrot class\\nblu = Parrot(\"Blu\", 10)\\nwoo = Parrot(\"Woo\", 15)',\n",
       "  '# access the class attributes\\nprint(\"Blu is a {}\".format(blu.__class__.species))\\nprint(\"Woo is also a {}\".format(woo.__class__.species))\\n\\n# access the instance attributes\\nprint(\"{} is {} years old\".format( blu.name, blu.age))\\nprint(\"{} is {} years old\".format( woo.name, woo.age))',\n",
       "  'type(Parrot)',\n",
       "  'type(blu)',\n",
       "  'vars(blu)',\n",
       "  'blu.__dict__',\n",
       "  \"blu.species = 'bird2'\",\n",
       "  'blu.specis',\n",
       "  'blue.species',\n",
       "  'blu.species',\n",
       "  'blu.species',\n",
       "  'woo.species #',\n",
       "  '# access the class attributes\\nprint(\"Blu is a {}\".format(blu.__class__.species))\\nprint(\"Woo is also a {}\".format(woo.__class__.species))\\n\\n# access the instance attributes(self가 붙어있는 것들: 위에서 self.name / self.age)\\nprint(\"{} is {} years old\".format( blu.name, blu.age))\\nprint(\"{} is {} years old\".format( woo.name, woo.age))',\n",
       "  'blu.__class__.species',\n",
       "  'blu.__class__',\n",
       "  'class Parrot:\\n    \\n    # instance attributes\\n    def __init__(s, name, age):\\n        s.name = name\\n        s.age = age\\n    \\n    # instance method\\n    def sing(s, song):\\n        return \"{} sings {}\".format(s.name, song)\\n\\n    def dance(self):\\n        return \"{} is now dancing\".format(s.name)\\n\\n# instantiate the object\\nblu = Parrot(\"Blu\", 10)\\n\\n# call our instance methods\\nprint(blu.sing(\"\\'Happy\\'\"))\\nprint(blu.dance())',\n",
       "  'class Parrot:\\n    \\n    # instance attributes\\n    def __init__(s, name, age):\\n        s.name = name\\n        s.age = age\\n    \\n    # instance method\\n    def sing(s, song):\\n        return \"{} sings {}\".format(s.name, song)\\n\\n    def dance(s):\\n        return \"{} is now dancing\".format(s.name)\\n\\n# instantiate the object\\nblu = Parrot(\"Blu\", 10)\\n\\n# call our instance methods\\nprint(blu.sing(\"\\'Happy\\'\"))\\nprint(blu.dance())',\n",
       "  'class Parrot:\\n    \\n    # instance attributes\\n    def __init__(self, name, age):\\n        self.name = name\\n        self.age = age\\n    \\n    # instance method\\n    def sing(self, song):\\n        return \"{} sings {}\".format(self.name, song)\\n\\n    def dance(self):\\n        return \"{} is now dancing\".format(self.name)\\n\\n# instantiate the object\\nblu = Parrot(\"Blu\", 10)\\nred = Parror(\"Red\", 20)\\n\\n# call our instance methods\\nprint(blu.sing(\"\\'Happy\\'\"))\\nprint(blu.dance())',\n",
       "  'class Parrot:\\n    \\n    # instance attributes\\n    def __init__(self, name, age):\\n        self.name = name\\n        self.age = age\\n    \\n    # instance method\\n    def sing(self, song):\\n        return \"{} sings {}\".format(self.name, song)\\n\\n    def dance(self):\\n        return \"{} is now dancing\".format(self.name)\\n\\n# instantiate the object\\nblu = Parrot(\"Blu\", 10)\\nred = Parrot(\"Red\", 20)\\n\\n# call our instance methods\\nprint(blu.sing(\"\\'Happy\\'\"))\\nprint(blu.dance())',\n",
       "  \"Parrot.sing(Red, '노래')\",\n",
       "  \"Parrot.sing(red, '노래')\",\n",
       "  'blu.__class__.sing',\n",
       "  \"a = Parrot('cho',25)\\nParrot.dance(a)\\na.dance()\",\n",
       "  'Parrot.dance2()',\n",
       "  'class Parrot:\\n    \\n    # instance attributes\\n    def __init__(self, name, age):\\n        self.name = name\\n        self.age = age\\n    \\n    # instance method\\n    def sing(self, song):\\n        return \"{} sings {}\".format(self.name, song)\\n\\n    def dance(self):\\n        return \"{} is now dancing\".format(self.name)\\n    \\n    @classmethod # \\n    def dance2(cls):\\n        return \"is now dancing2\"',\n",
       "  \"a = Parrot('cho',25)\\nParrot.dance(a)\\na.dance()\",\n",
       "  'Parrot.dance2()',\n",
       "  'a.__class__.dance2() #위와 같은 표현',\n",
       "  'class Parrot:\\n\\n    # class attribute\\n    species = \"bird\"\\n\\n    # instance attribute: 메소드 안에 선언되는 것. 첫번째 인자가 자기자신을 가리킴.\\n    def __init__(self, name, age):\\n        self.name = name\\n        self.age = age',\n",
       "  '# parent class\\nclass Bird:\\n    \\n    def __init__(self):\\n        print(\"Bird is ready\")\\n\\n    def whoisThis(self):\\n        print(\"Bird\")\\n\\n    def swim(self):\\n        print(\"Swim faster\")',\n",
       "  '# child class\\nclass Penguin(Bird): #class 클래스명(상속할 클래스명)\\n    pass\\n\\'\\'\\'\\n    def __init__(self):\\n        # call super() function\\n        super().__init__()\\n        print(\"Penguin is ready\")\\n\\n    def whoisThis(self):\\n        print(\"Penguin\")\\n\\n    def run(self):\\n        print(\"Run faster\")\\n\\'\\'\\'\\ndir(Penguin)',\n",
       "  'class NewPenguin(Bird):\\n    def swim(Self):\\n        print(\"You\\'d better swim\")\\n\\na = NewPenguin()\\na.swim',\n",
       "  'class NewPenguin(Bird):\\n    def swim(Self):\\n        print(\"You\\'d better swim\")\\n\\na = NewPenguin()\\na.swim()',\n",
       "  '# child class\\nclass Penguin(Bird): #class 클래스명(상속할 클래스명)\\n    def __init__(self):\\n        # call super() function\\n        #super().__init__() # 부모거 실행\\n        print(\"Penguin is ready\") #내것도 한 줄 더 실행.\\n\\n    def whoisThis(self):\\n        print(\"Penguin\")\\n\\n    def run(self):\\n        print(\"Run faster\")',\n",
       "  'peggy = Penguin()\\npeggy.whoisThis()\\npeggy.swim()\\npeggy.run()',\n",
       "  '# child class\\nclass Penguin(Bird): #class 클래스명(상속할 클래스명)\\n    def __init__(self):\\n        # call super() function\\n        super().__init__() # 부모거 실행\\n        print(\"Penguin is ready\") #내것도 한 줄 더 실행.\\n\\n    def whoisThis(self):\\n        print(\"Penguin\")\\n\\n    def run(self):\\n        print(\"Run faster\")',\n",
       "  'peggy = Penguin()\\npeggy.whoisThis()\\npeggy.swim()\\npeggy.run()',\n",
       "  '# child class\\nclass Penguin(Bird): #class 클래스명(상속할 클래스명)\\n    def __init__(self):\\n        # call super() function\\n        #super().__init__() # 부모거 실행\\n        print(\"Penguin is ready\") #내것도 한 줄 더 실행.\\n\\n    def whoisThis(self):\\n        print(\"Penguin\")\\n\\n    def run(self):\\n        print(\"Run faster\")',\n",
       "  'peggy = Penguin()\\npeggy.whoisThis()\\npeggy.swim()\\npeggy.run()',\n",
       "  '# child class\\nclass Penguin(Bird): #class 클래스명(상속할 클래스명)\\n    def __init__(self):\\n        # call super() function\\n        super().__init__() # 부모거 실행\\n        print(\"Penguin is ready\") #내것도 한 줄 더 실행.\\n\\n    def whoisThis(self):\\n        print(\"Penguin\")\\n\\n    def run(self):\\n        print(\"Run faster\")',\n",
       "  'peggy = Penguin()\\npeggy.whoisThis()\\npeggy.swim()\\npeggy.run()',\n",
       "  '# child class\\nclass Penguin(Bird): #class 클래스명(상속할 클래스명)\\n    def __init__(self):\\n        # call super() function\\n        super().__init__() # 부모거 실행\\n        print(\"Penguin is ready\") #내것도 한 줄 더 실행.\\n\\n    def whoisThis(Penguin,self):\\n        print(\"Penguin\")\\n\\n    def run(self):\\n        print(\"Run faster\")',\n",
       "  'peggy = Penguin()\\npeggy.whoisThis()\\npeggy.swim()\\npeggy.run()',\n",
       "  '# child class\\nclass Penguin(Bird): #class 클래스명(상속할 클래스명)\\n    def __init__(self):\\n        # call super() function\\n        super().__init__() # 부모거 실행\\n        print(\"Penguin is ready\") #내것도 한 줄 더 실행.\\n\\n    def whoisThis(self):\\n        print(\"Penguin\")\\n\\n    def run(self):\\n        print(\"Run faster\")',\n",
       "  'peggy = Penguin()\\npeggy.whoisThis()\\npeggy.swim()\\npeggy.run()',\n",
       "  '# child class\\nclass Penguin(Bird): #class 클래스명(상속할 클래스명)\\n    def __init__(self):\\n        # call super() function\\n        super(Penguin,self).__init__() # 부모거 실행\\n        print(\"Penguin is ready\") #내것도 한 줄 더 실행.\\n\\n    def whoisThis(self):\\n        print(\"Penguin\")\\n\\n    def run(self):\\n        print(\"Run faster\")',\n",
       "  'peggy = Penguin()\\npeggy.whoisThis()\\npeggy.swim()\\npeggy.run()',\n",
       "  'class Computer:\\n\\n    def __init__(self):\\n        self.__maxprice = 900\\n\\n    def sell(self):\\n        print(\"Selling Price: {}\".format(self.__maxprice))\\n\\n    def setMaxPrice(self, price):\\n        self.__maxprice = price',\n",
       "  'c = Computer()\\nc.sell()\\n\\n# change the price\\nc.__maxprice = 1000\\nc.sell()\\n\\n# using setter function\\nc.setMaxPrice(1000)\\nc.sell()',\n",
       "  'dir(Computer)',\n",
       "  'vars(Computer)',\n",
       "  'vars(c)',\n",
       "  'dir()',\n",
       "  'locals()',\n",
       "  'globals() #전역에 선언된 값들.'],\n",
       " '_ii': 'dir()',\n",
       " '_iii': 'vars(c)',\n",
       " '_oh': {4: type,\n",
       "  5: __main__.Parrot,\n",
       "  6: {'age': 10, 'name': 'Blu', 'species': 'bird2'},\n",
       "  7: {'age': 10, 'name': 'Blu', 'species': 'bird2'},\n",
       "  11: 'bird2',\n",
       "  12: 'bird2',\n",
       "  13: 'bird',\n",
       "  15: 'bird',\n",
       "  16: __main__.Parrot,\n",
       "  22: 'Red sings 노래',\n",
       "  23: <function __main__.Parrot.sing>,\n",
       "  24: 'cho is now dancing',\n",
       "  27: 'cho is now dancing',\n",
       "  28: 'is now dancing2',\n",
       "  29: 'is now dancing2',\n",
       "  32: ['__class__',\n",
       "   '__delattr__',\n",
       "   '__dict__',\n",
       "   '__dir__',\n",
       "   '__doc__',\n",
       "   '__eq__',\n",
       "   '__format__',\n",
       "   '__ge__',\n",
       "   '__getattribute__',\n",
       "   '__gt__',\n",
       "   '__hash__',\n",
       "   '__init__',\n",
       "   '__init_subclass__',\n",
       "   '__le__',\n",
       "   '__lt__',\n",
       "   '__module__',\n",
       "   '__ne__',\n",
       "   '__new__',\n",
       "   '__reduce__',\n",
       "   '__reduce_ex__',\n",
       "   '__repr__',\n",
       "   '__setattr__',\n",
       "   '__sizeof__',\n",
       "   '__str__',\n",
       "   '__subclasshook__',\n",
       "   '__weakref__',\n",
       "   'swim',\n",
       "   'whoisThis'],\n",
       "  33: <bound method NewPenguin.swim of <__main__.NewPenguin object at 0x000001CE3D0B1978>>,\n",
       "  51: ['__class__',\n",
       "   '__delattr__',\n",
       "   '__dict__',\n",
       "   '__dir__',\n",
       "   '__doc__',\n",
       "   '__eq__',\n",
       "   '__format__',\n",
       "   '__ge__',\n",
       "   '__getattribute__',\n",
       "   '__gt__',\n",
       "   '__hash__',\n",
       "   '__init__',\n",
       "   '__init_subclass__',\n",
       "   '__le__',\n",
       "   '__lt__',\n",
       "   '__module__',\n",
       "   '__ne__',\n",
       "   '__new__',\n",
       "   '__reduce__',\n",
       "   '__reduce_ex__',\n",
       "   '__repr__',\n",
       "   '__setattr__',\n",
       "   '__sizeof__',\n",
       "   '__str__',\n",
       "   '__subclasshook__',\n",
       "   '__weakref__',\n",
       "   'sell',\n",
       "   'setMaxPrice'],\n",
       "  52: mappingproxy({'__dict__': <attribute '__dict__' of 'Computer' objects>,\n",
       "                '__doc__': None,\n",
       "                '__init__': <function __main__.Computer.__init__>,\n",
       "                '__module__': '__main__',\n",
       "                '__weakref__': <attribute '__weakref__' of 'Computer' objects>,\n",
       "                'sell': <function __main__.Computer.sell>,\n",
       "                'setMaxPrice': <function __main__.Computer.setMaxPrice>}),\n",
       "  53: {'_Computer__maxprice': 1000, '__maxprice': 1000},\n",
       "  54: ['Bird',\n",
       "   'Computer',\n",
       "   'In',\n",
       "   'NewPenguin',\n",
       "   'Out',\n",
       "   'Parrot',\n",
       "   'Penguin',\n",
       "   '_',\n",
       "   '_11',\n",
       "   '_12',\n",
       "   '_13',\n",
       "   '_15',\n",
       "   '_16',\n",
       "   '_22',\n",
       "   '_23',\n",
       "   '_24',\n",
       "   '_27',\n",
       "   '_28',\n",
       "   '_29',\n",
       "   '_32',\n",
       "   '_33',\n",
       "   '_4',\n",
       "   '_5',\n",
       "   '_51',\n",
       "   '_52',\n",
       "   '_53',\n",
       "   '_6',\n",
       "   '_7',\n",
       "   '__',\n",
       "   '___',\n",
       "   '__builtin__',\n",
       "   '__builtins__',\n",
       "   '__doc__',\n",
       "   '__loader__',\n",
       "   '__name__',\n",
       "   '__package__',\n",
       "   '__spec__',\n",
       "   '_dh',\n",
       "   '_i',\n",
       "   '_i1',\n",
       "   '_i10',\n",
       "   '_i11',\n",
       "   '_i12',\n",
       "   '_i13',\n",
       "   '_i14',\n",
       "   '_i15',\n",
       "   '_i16',\n",
       "   '_i17',\n",
       "   '_i18',\n",
       "   '_i19',\n",
       "   '_i2',\n",
       "   '_i20',\n",
       "   '_i21',\n",
       "   '_i22',\n",
       "   '_i23',\n",
       "   '_i24',\n",
       "   '_i25',\n",
       "   '_i26',\n",
       "   '_i27',\n",
       "   '_i28',\n",
       "   '_i29',\n",
       "   '_i3',\n",
       "   '_i30',\n",
       "   '_i31',\n",
       "   '_i32',\n",
       "   '_i33',\n",
       "   '_i34',\n",
       "   '_i35',\n",
       "   '_i36',\n",
       "   '_i37',\n",
       "   '_i38',\n",
       "   '_i39',\n",
       "   '_i4',\n",
       "   '_i40',\n",
       "   '_i41',\n",
       "   '_i42',\n",
       "   '_i43',\n",
       "   '_i44',\n",
       "   '_i45',\n",
       "   '_i46',\n",
       "   '_i47',\n",
       "   '_i48',\n",
       "   '_i49',\n",
       "   '_i5',\n",
       "   '_i50',\n",
       "   '_i51',\n",
       "   '_i52',\n",
       "   '_i53',\n",
       "   '_i54',\n",
       "   '_i6',\n",
       "   '_i7',\n",
       "   '_i8',\n",
       "   '_i9',\n",
       "   '_ih',\n",
       "   '_ii',\n",
       "   '_iii',\n",
       "   '_oh',\n",
       "   'a',\n",
       "   'blu',\n",
       "   'c',\n",
       "   'exit',\n",
       "   'get_ipython',\n",
       "   'peggy',\n",
       "   'quit',\n",
       "   'red',\n",
       "   'woo'],\n",
       "  55: {...}},\n",
       " 'a': <__main__.NewPenguin at 0x1ce3d0e0400>,\n",
       " 'blu': <__main__.Parrot at 0x1ce3d0b0c50>,\n",
       " 'c': <__main__.Computer at 0x1ce3d117208>,\n",
       " 'exit': <IPython.core.autocall.ZMQExitAutocall at 0x1ce3be5d630>,\n",
       " 'get_ipython': <bound method InteractiveShell.get_ipython of <ipykernel.zmqshell.ZMQInteractiveShell object at 0x000001CE3BE40160>>,\n",
       " 'peggy': <__main__.Penguin at 0x1ce3d0e05c0>,\n",
       " 'quit': <IPython.core.autocall.ZMQExitAutocall at 0x1ce3be5d630>,\n",
       " 'red': <__main__.Parrot at 0x1ce3d0b0b70>,\n",
       " 'woo': <__main__.Parrot at 0x1ce3cf216a0>}"
      ]
     },
     "execution_count": 56,
     "metadata": {},
     "output_type": "execute_result"
    }
   ],
   "source": [
    "globals() #전역에 선언된 값들."
   ]
  },
  {
   "cell_type": "code",
   "execution_count": 57,
   "metadata": {
    "collapsed": false
   },
   "outputs": [
    {
     "name": "stdout",
     "output_type": "stream",
     "text": [
      "Variable     Type          Data/Info\n",
      "------------------------------------\n",
      "Bird         type          <class '__main__.Bird'>\n",
      "Computer     type          <class '__main__.Computer'>\n",
      "NewPenguin   type          <class '__main__.NewPenguin'>\n",
      "Parrot       type          <class '__main__.Parrot'>\n",
      "Penguin      type          <class '__main__.Penguin'>\n",
      "a            NewPenguin    <__main__.NewPenguin obje<...>ct at 0x000001CE3D0E0400>\n",
      "blu          Parrot        <__main__.Parrot object at 0x000001CE3D0B0C50>\n",
      "c            Computer      <__main__.Computer object at 0x000001CE3D117208>\n",
      "peggy        Penguin       <__main__.Penguin object at 0x000001CE3D0E05C0>\n",
      "red          Parrot        <__main__.Parrot object at 0x000001CE3D0B0B70>\n",
      "woo          Parrot        <__main__.Parrot object at 0x000001CE3CF216A0>\n"
     ]
    }
   ],
   "source": [
    "%whos #하지만 locals(), globals() 필요없이 iPython에서는 이걸로 한눈에 볼 수 있다."
   ]
  },
  {
   "cell_type": "code",
   "execution_count": null,
   "metadata": {
    "collapsed": true
   },
   "outputs": [],
   "source": []
  },
  {
   "cell_type": "markdown",
   "metadata": {},
   "source": [
    "## Polymorphism(다형성)"
   ]
  },
  {
   "cell_type": "markdown",
   "metadata": {},
   "source": [
    "### 1. 덕 타이핑이란?\n",
    "- Duck Typing - 'If it walks like a duck and it quacks like a duck, then it must be a duck' 해석해보면 '오리처럼 걷고, 오리처럼 꽥꽥거리면, 그것은 틀림없이 오리다.' 라는 뜻입니다. \n",
    "- 파이썬과 같은 동적타입의 언어에서 본질적으로 다른클래스라도 객체의 적합성은 객체의 실제 유형이 아니라 특정 메소드와 속성의 존재에 의해 결정되는 것입니다.\n",
    "- 예제 코드로 확인합니다. https://en.wikipedia.org/wiki/Duck_typing 예제 코드 발췌합니다.\n",
    "- Duck 클래스와 Airplane 클래스는 분명 서로 상속되거나 하는 그런 관계는 없습니다만, 내부에 동일한 메소드의 fly()메소드가 있는 것만으로 호출하는 `lift_off(entity)' 함수에서 fly가 정상적으로 실행됩니다.\n",
    "- 마지막 Whale 클래스는 해당 fly() 메소드가 없기 때문에, AttributeError가 발생합니다.\n",
    "- **속성과 메소드 존재에 의해 객체의 적합성이 결정된다.**\n",
    "\n",
    "### 2. 다형성\n",
    "- 같은 모양의 코드가 다른 동작을 하는 것\n",
    "- 키보드의 예로 \n",
    "\n",
    "-- push(keyboard): 키보드를 누룬다는 동일한 코드에 대해\n",
    "\n",
    "-- ENTER, ESC, A 등 실제 키에 따라 동작이 다른 것을 의미함\n",
    "- 다형성은 코드의 양을 줄이고, 여러 객체 타입을 하나의 타입으로 관리가 가능하여 유지보수에 좋음\n",
    "\n",
    "**Method Override (메서드 재정의) 도 다형성의 한 예입니다.**"
   ]
  },
  {
   "cell_type": "code",
   "execution_count": 58,
   "metadata": {
    "collapsed": true
   },
   "outputs": [],
   "source": [
    "class Parrot:\n",
    "\n",
    "    def fly(self):\n",
    "        print(\"Parrot can fly\")\n",
    "    \n",
    "    def swim(self):\n",
    "        print(\"Parrot can't swim\")\n",
    "\n",
    "class Penguin:\n",
    "\n",
    "    def fly(self):\n",
    "        print(\"Penguin can't fly\")\n",
    "    \n",
    "    def swim(self):\n",
    "        print(\"Penguin can swim\")"
   ]
  },
  {
   "cell_type": "code",
   "execution_count": 5,
   "metadata": {
    "collapsed": false
   },
   "outputs": [
    {
     "name": "stdout",
     "output_type": "stream",
     "text": [
      "Parrot can fly\n",
      "Penguin can't fly\n"
     ]
    }
   ],
   "source": [
    "# common interface\n",
    "def flying_test(bird):\n",
    "    bird.fly()\n",
    "\n",
    "#instantiate objects\n",
    "blu = Parrot()\n",
    "peggy = Penguin()\n",
    "\n",
    "# passing the object\n",
    "flying_test(blu)\n",
    "flying_test(peggy)"
   ]
  },
  {
   "cell_type": "code",
   "execution_count": 65,
   "metadata": {
    "collapsed": true
   },
   "outputs": [],
   "source": [
    "class Polygon:\n",
    "    def __init__(self, no_of_sides):\n",
    "        self.n = no_of_sides # Instance Attribute. 객체마다 다 다를 수 있다. 객체공통-Class Attribute\n",
    "        self.sides = [0 for i in range(no_of_sides)] # Comprehension:i가 글로벌로 전이 안됨!\n",
    "\n",
    "    def inputSides(self):\n",
    "        self.sides = [float(input(\"Enter side \"+str(i+1)+\" : \")) for i in range(self.n)]\n",
    "\n",
    "    def dispSides(self):\n",
    "        for i in range(self.n):\n",
    "            print(\"Side\",i+1,\"is\",self.sides[i])"
   ]
  },
  {
   "cell_type": "code",
   "execution_count": 71,
   "metadata": {
    "collapsed": false
   },
   "outputs": [
    {
     "name": "stdout",
     "output_type": "stream",
     "text": [
      "Enter side 1 : 5\n",
      "Enter side 2 : 6\n",
      "Enter side 3 : 7\n",
      "Enter side 4 : 6\n",
      "Enter side 5 : 2\n"
     ]
    }
   ],
   "source": [
    "X = Polygon(5)\n",
    "X.inputSides()"
   ]
  },
  {
   "cell_type": "code",
   "execution_count": 73,
   "metadata": {
    "collapsed": false
   },
   "outputs": [
    {
     "name": "stdout",
     "output_type": "stream",
     "text": [
      "Side 1 is 5.0\n",
      "Side 2 is 6.0\n",
      "Side 3 is 7.0\n",
      "Side 4 is 6.0\n",
      "Side 5 is 2.0\n"
     ]
    }
   ],
   "source": [
    "X.dispSides()"
   ]
  },
  {
   "cell_type": "code",
   "execution_count": 72,
   "metadata": {
    "collapsed": false
   },
   "outputs": [
    {
     "data": {
      "text/plain": [
       "[5.0, 6.0, 7.0, 6.0, 2.0]"
      ]
     },
     "execution_count": 72,
     "metadata": {},
     "output_type": "execute_result"
    }
   ],
   "source": [
    "X.sides #입력한 값들"
   ]
  },
  {
   "cell_type": "code",
   "execution_count": 69,
   "metadata": {
    "collapsed": false,
    "scrolled": true
   },
   "outputs": [
    {
     "data": {
      "text/plain": [
       "['__class__',\n",
       " '__delattr__',\n",
       " '__dict__',\n",
       " '__dir__',\n",
       " '__doc__',\n",
       " '__eq__',\n",
       " '__format__',\n",
       " '__ge__',\n",
       " '__getattribute__',\n",
       " '__gt__',\n",
       " '__hash__',\n",
       " '__init__',\n",
       " '__init_subclass__',\n",
       " '__le__',\n",
       " '__lt__',\n",
       " '__module__',\n",
       " '__ne__',\n",
       " '__new__',\n",
       " '__reduce__',\n",
       " '__reduce_ex__',\n",
       " '__repr__',\n",
       " '__setattr__',\n",
       " '__sizeof__',\n",
       " '__str__',\n",
       " '__subclasshook__',\n",
       " '__weakref__',\n",
       " 'dispSides',\n",
       " 'inputSides',\n",
       " 'n',\n",
       " 'sides']"
      ]
     },
     "execution_count": 69,
     "metadata": {},
     "output_type": "execute_result"
    }
   ],
   "source": [
    "dir(X)"
   ]
  },
  {
   "cell_type": "markdown",
   "metadata": {},
   "source": [
    "여기서 잠깐!\n",
    "#### Iterator\n",
    "- iterable객체는 매직메소드 __iter__ 메소드를 가지고 있습니다. 이 메소드로 iterator를 만들어보겠습니다.\n",
    "- iterator가 값을 차례대로 꺼낼 수 있는 객체라는 것의 의미를 한번 코드로 살펴봅니다.\n",
    "- next내장함수를 사용할때 마다 첫번째, 두번째, 세번째 값이 출력됩니다.\n",
    "- 네번째 실행에서는 StopIteration 이라는 예외가 발생합니다.\n",
    "- iterator 매직 메소드 **'next'**를 통해 하나씩 값을 꺼내봅니다.\n",
    "\n",
    "#### Generator\n",
    "\n",
    "**generator : iterator를 생성해주는 함수, 함수안에 yield 키워드를 사용**\n",
    "\n",
    "generator 특징\n",
    "- iterable한 순서가 지정됨(모든 generator는 iterator)\n",
    "- 느슨하게 평가된다.(순서의 다음 값은 필요에 따라 계산됨)\n",
    "- 함수의 내부 로컬 변수를 통해 내부상태가 유지된다.\n",
    "- 무한한 순서가 있는 객체를 모델링할 수 있다.(명확한 끝이 없는 데이터 스트림)\n",
    "- 자연스러운 스트림 처리를 위 파이프라인으로 구성할수 있다.(Java에서 파일스트림 처리시에 특정 바이트단위로 반복하는 것을 말하는듯..)"
   ]
  },
  {
   "cell_type": "code",
   "execution_count": 59,
   "metadata": {
    "collapsed": true
   },
   "outputs": [],
   "source": [
    "a = (x for x in range(11))"
   ]
  },
  {
   "cell_type": "code",
   "execution_count": 62,
   "metadata": {
    "collapsed": false
   },
   "outputs": [
    {
     "data": {
      "text/plain": [
       "2"
      ]
     },
     "execution_count": 62,
     "metadata": {},
     "output_type": "execute_result"
    }
   ],
   "source": [
    "# 아래 둘은 같음.\n",
    "a.__next__()\n",
    "next(a)"
   ]
  },
  {
   "cell_type": "markdown",
   "metadata": {},
   "source": [
    "Polygon.__init__(self,3)에 super()가 아닌 Polygon을 넣은 이유는? 그것은 다중상속이 가능하기 때문에 어떤 부모를 받을 것인지 선택할 수 있기 때문이다."
   ]
  },
  {
   "cell_type": "code",
   "execution_count": 8,
   "metadata": {
    "collapsed": true
   },
   "outputs": [],
   "source": [
    "class Triangle(Polygon):\n",
    "    def __init__(self):\n",
    "        Polygon.__init__(self,3) # super().__init__(3)\n",
    "\n",
    "    def findArea(self):\n",
    "        a, b, c = self.sides\n",
    "        # calculate the semi-perimeter\n",
    "        s = (a + b + c) / 2\n",
    "        area = (s*(s-a)*(s-b)*(s-c)) ** 0.5\n",
    "        print('The area of the triangle is %0.2f' %area)"
   ]
  },
  {
   "cell_type": "code",
   "execution_count": 9,
   "metadata": {
    "collapsed": false
   },
   "outputs": [
    {
     "name": "stdout",
     "output_type": "stream",
     "text": [
      "True\n",
      "True\n",
      "True\n"
     ]
    }
   ],
   "source": [
    "# 'is'가 들어가면 전부 참과 거짓을 반환하는 함수(Predicate)\n",
    "# Output: True\n",
    "print(issubclass(list,object))\n",
    "\n",
    "# issubclass를 쓰려면 5.5가 아닌, float을 비교해야함.\n",
    "print(isinstance(5.5,object))\n",
    "\n",
    "# Output: True\n",
    "print(isinstance(\"Hello\",object))"
   ]
  },
  {
   "cell_type": "code",
   "execution_count": 75,
   "metadata": {
    "collapsed": false
   },
   "outputs": [
    {
     "data": {
      "text/plain": [
       "True"
      ]
     },
     "execution_count": 75,
     "metadata": {},
     "output_type": "execute_result"
    }
   ],
   "source": []
  },
  {
   "cell_type": "code",
   "execution_count": 10,
   "metadata": {
    "collapsed": false
   },
   "outputs": [
    {
     "name": "stdout",
     "output_type": "stream",
     "text": [
      "[<class '__main__.M'>, <class '__main__.B'>, <class '__main__.A'>, <class '__main__.X'>, <class '__main__.Y'>, <class '__main__.Z'>, <class 'object'>]\n"
     ]
    }
   ],
   "source": [
    "class X: pass\n",
    "class Y: pass\n",
    "class Z: pass\n",
    "\n",
    "class A(X,Y): pass\n",
    "class B(Y,Z): pass\n",
    "\n",
    "class M(B,A,Z): pass\n",
    "\n",
    "# Output: 자기자신->B->A->X->Y->Z\n",
    "# [<class '__main__.M'>, <class '__main__.B'>,\n",
    "# <class '__main__.A'>, <class '__main__.X'>,\n",
    "# <class '__main__.Y'>, <class '__main__.Z'>,\n",
    "# <class 'object'>]\n",
    "\n",
    "print(M.mro())"
   ]
  },
  {
   "cell_type": "code",
   "execution_count": 11,
   "metadata": {
    "collapsed": true
   },
   "outputs": [],
   "source": [
    "class Point:\n",
    "    def __init__(self, x = 0, y = 0):\n",
    "        self.x = x\n",
    "        self.y = y"
   ]
  },
  {
   "cell_type": "code",
   "execution_count": 12,
   "metadata": {
    "collapsed": true
   },
   "outputs": [],
   "source": [
    "class Point:\n",
    "    def __init__(self, x = 0, y = 0):\n",
    "        self.x = x\n",
    "        self.y = y\n",
    "    \n",
    "    def __str__(self):\n",
    "        return \"({0},{1})\".format(self.x,self.y)"
   ]
  },
  {
   "cell_type": "code",
   "execution_count": 13,
   "metadata": {
    "collapsed": true
   },
   "outputs": [],
   "source": [
    "class Point:\n",
    "    def __init__(self, x = 0, y = 0):\n",
    "        self.x = x\n",
    "        self.y = y\n",
    "    \n",
    "    def __str__(self):\n",
    "        return \"({0},{1})\".format(self.x,self.y)\n",
    "    \n",
    "    def __add__(self,other):\n",
    "        x = self.x + other.x\n",
    "        y = self.y + other.y\n",
    "        return Point(x,y)"
   ]
  },
  {
   "cell_type": "code",
   "execution_count": 14,
   "metadata": {
    "collapsed": true
   },
   "outputs": [],
   "source": [
    "class Point:\n",
    "    def __init__(self, x = 0, y = 0):\n",
    "        self.x = x\n",
    "        self.y = y\n",
    "    \n",
    "    def __str__(self):\n",
    "        return \"({0},{1})\".format(self.x,self.y)\n",
    "    \n",
    "    def __lt__(self,other):\n",
    "        self_mag = (self.x ** 2) + (self.y ** 2)\n",
    "        other_mag = (other.x ** 2) + (other.y ** 2)\n",
    "        return self_mag < other_mag"
   ]
  },
  {
   "cell_type": "code",
   "execution_count": 77,
   "metadata": {
    "collapsed": true
   },
   "outputs": [],
   "source": [
    "class B:\n",
    "    def __str__(self):\n",
    "        return 'str'  # print()가 있어야 보여준다.\n",
    "    def __repr__(self):\n",
    "        return 'repr' # iPython에서 보여주는 것."
   ]
  },
  {
   "cell_type": "code",
   "execution_count": 78,
   "metadata": {
    "collapsed": true
   },
   "outputs": [],
   "source": [
    "ab = B()"
   ]
  },
  {
   "cell_type": "code",
   "execution_count": 81,
   "metadata": {
    "collapsed": false
   },
   "outputs": [
    {
     "data": {
      "text/plain": [
       "repr"
      ]
     },
     "execution_count": 81,
     "metadata": {},
     "output_type": "execute_result"
    }
   ],
   "source": [
    "ab"
   ]
  },
  {
   "cell_type": "code",
   "execution_count": 82,
   "metadata": {
    "collapsed": false,
    "scrolled": true
   },
   "outputs": [
    {
     "data": {
      "text/plain": [
       "['__abs__',\n",
       " '__add__',\n",
       " '__and__',\n",
       " '__bool__',\n",
       " '__ceil__',\n",
       " '__class__',\n",
       " '__delattr__',\n",
       " '__dir__',\n",
       " '__divmod__',\n",
       " '__doc__',\n",
       " '__eq__',\n",
       " '__float__',\n",
       " '__floor__',\n",
       " '__floordiv__',\n",
       " '__format__',\n",
       " '__ge__',\n",
       " '__getattribute__',\n",
       " '__getnewargs__',\n",
       " '__gt__',\n",
       " '__hash__',\n",
       " '__index__',\n",
       " '__init__',\n",
       " '__init_subclass__',\n",
       " '__int__',\n",
       " '__invert__',\n",
       " '__le__',\n",
       " '__lshift__',\n",
       " '__lt__',\n",
       " '__mod__',\n",
       " '__mul__',\n",
       " '__ne__',\n",
       " '__neg__',\n",
       " '__new__',\n",
       " '__or__',\n",
       " '__pos__',\n",
       " '__pow__',\n",
       " '__radd__',\n",
       " '__rand__',\n",
       " '__rdivmod__',\n",
       " '__reduce__',\n",
       " '__reduce_ex__',\n",
       " '__repr__',\n",
       " '__rfloordiv__',\n",
       " '__rlshift__',\n",
       " '__rmod__',\n",
       " '__rmul__',\n",
       " '__ror__',\n",
       " '__round__',\n",
       " '__rpow__',\n",
       " '__rrshift__',\n",
       " '__rshift__',\n",
       " '__rsub__',\n",
       " '__rtruediv__',\n",
       " '__rxor__',\n",
       " '__setattr__',\n",
       " '__sizeof__',\n",
       " '__str__',\n",
       " '__sub__',\n",
       " '__subclasshook__',\n",
       " '__truediv__',\n",
       " '__trunc__',\n",
       " '__xor__',\n",
       " 'bit_length',\n",
       " 'conjugate',\n",
       " 'denominator',\n",
       " 'from_bytes',\n",
       " 'imag',\n",
       " 'numerator',\n",
       " 'real',\n",
       " 'to_bytes']"
      ]
     },
     "execution_count": 82,
     "metadata": {},
     "output_type": "execute_result"
    }
   ],
   "source": [
    "dir(3)"
   ]
  },
  {
   "cell_type": "markdown",
   "metadata": {},
   "source": [
    "### 연산자 오버로딩하기\n",
    "http://blog.eairship.kr/287"
   ]
  },
  {
   "cell_type": "code",
   "execution_count": 160,
   "metadata": {
    "collapsed": true
   },
   "outputs": [],
   "source": [
    "class MyInt(int):\n",
    "    def __init__(self, num):\n",
    "        self.num = num\n",
    "    def __add__(self,other): #연산자는 오버로딩\n",
    "        return self.num+other+3\n",
    "    def __radd__(self,other):\n",
    "        return self.num+other+3\n",
    "    def __sub__(self,other):\n",
    "        return self.num-other-3\n",
    "    def __rsub__(self,other):\n",
    "        return self.num-other-3\n",
    "    #def __str__(self):\n",
    "        "
   ]
  },
  {
   "cell_type": "code",
   "execution_count": 155,
   "metadata": {
    "collapsed": true
   },
   "outputs": [],
   "source": [
    "a = MyInt(3)\n",
    "b = MyInt(5)"
   ]
  },
  {
   "cell_type": "code",
   "execution_count": 159,
   "metadata": {
    "collapsed": false
   },
   "outputs": [
    {
     "data": {
      "text/plain": [
       "-98"
      ]
     },
     "execution_count": 159,
     "metadata": {},
     "output_type": "execute_result"
    }
   ],
   "source": [
    "b-100"
   ]
  },
  {
   "cell_type": "code",
   "execution_count": 142,
   "metadata": {
    "collapsed": false
   },
   "outputs": [
    {
     "data": {
      "text/plain": [
       "'3'"
      ]
     },
     "execution_count": 142,
     "metadata": {},
     "output_type": "execute_result"
    }
   ],
   "source": [
    "3 .__str__()"
   ]
  },
  {
   "cell_type": "code",
   "execution_count": 167,
   "metadata": {
    "collapsed": true
   },
   "outputs": [],
   "source": [
    "class AA:\n",
    "    def __int__(self,num):\n",
    "        self.num = num\n",
    "    def __add__(self,other):\n",
    "        self.num += other.num\n",
    "    def __str__(self):\n",
    "        return self.num"
   ]
  },
  {
   "cell_type": "code",
   "execution_count": 168,
   "metadata": {
    "collapsed": false
   },
   "outputs": [
    {
     "ename": "TypeError",
     "evalue": "object() takes no parameters",
     "output_type": "error",
     "traceback": [
      "\u001b[1;31m---------------------------------------------------------------------------\u001b[0m",
      "\u001b[1;31mTypeError\u001b[0m                                 Traceback (most recent call last)",
      "\u001b[1;32m<ipython-input-168-961b85559f76>\u001b[0m in \u001b[0;36m<module>\u001b[1;34m()\u001b[0m\n\u001b[1;32m----> 1\u001b[1;33m \u001b[0mc\u001b[0m \u001b[1;33m=\u001b[0m \u001b[0mAA\u001b[0m\u001b[1;33m(\u001b[0m\u001b[1;36m3\u001b[0m\u001b[1;33m)\u001b[0m\u001b[1;33m\u001b[0m\u001b[0m\n\u001b[0m\u001b[0;32m      2\u001b[0m \u001b[0md\u001b[0m \u001b[1;33m=\u001b[0m \u001b[0mAA\u001b[0m\u001b[1;33m(\u001b[0m\u001b[1;36m5\u001b[0m\u001b[1;33m)\u001b[0m\u001b[1;33m\u001b[0m\u001b[0m\n",
      "\u001b[1;31mTypeError\u001b[0m: object() takes no parameters"
     ]
    }
   ],
   "source": [
    "c = AA(3)\n",
    "d = AA(5)"
   ]
  },
  {
   "cell_type": "markdown",
   "metadata": {},
   "source": [
    "# Import"
   ]
  },
  {
   "cell_type": "code",
   "execution_count": 172,
   "metadata": {
    "collapsed": true
   },
   "outputs": [],
   "source": [
    "import keyword"
   ]
  },
  {
   "cell_type": "code",
   "execution_count": 173,
   "metadata": {
    "collapsed": false
   },
   "outputs": [
    {
     "data": {
      "text/plain": [
       "['__all__',\n",
       " '__builtins__',\n",
       " '__cached__',\n",
       " '__doc__',\n",
       " '__file__',\n",
       " '__loader__',\n",
       " '__name__',\n",
       " '__package__',\n",
       " '__spec__',\n",
       " 'iskeyword',\n",
       " 'kwlist',\n",
       " 'main']"
      ]
     },
     "execution_count": 173,
     "metadata": {},
     "output_type": "execute_result"
    }
   ],
   "source": [
    "dir(keyword)"
   ]
  },
  {
   "cell_type": "code",
   "execution_count": 176,
   "metadata": {
    "collapsed": false
   },
   "outputs": [
    {
     "data": {
      "text/plain": [
       "['iskeyword', 'kwlist']"
      ]
     },
     "execution_count": 176,
     "metadata": {},
     "output_type": "execute_result"
    }
   ],
   "source": [
    "keyword.__all__"
   ]
  },
  {
   "cell_type": "code",
   "execution_count": 177,
   "metadata": {
    "collapsed": true
   },
   "outputs": [],
   "source": [
    "#이 때 *는 모든 것을 import한다는 것을 의미하는데, __all__ attribute가 있을 경우에는 그 안에 있는 값들만 import한다.\n",
    "from keyword import * "
   ]
  },
  {
   "cell_type": "code",
   "execution_count": 181,
   "metadata": {
    "collapsed": true
   },
   "outputs": [],
   "source": [
    "from math import *"
   ]
  },
  {
   "cell_type": "code",
   "execution_count": 182,
   "metadata": {
    "collapsed": false,
    "scrolled": true
   },
   "outputs": [
    {
     "name": "stdout",
     "output_type": "stream",
     "text": [
      "Variable     Type                          Data/Info\n",
      "----------------------------------------------------\n",
      "AA           type                          <class '__main__.AA'>\n",
      "B            type                          <class '__main__.B'>\n",
      "Bird         type                          <class '__main__.Bird'>\n",
      "Computer     type                          <class '__main__.Computer'>\n",
      "MyInt        type                          <class '__main__.MyInt'>\n",
      "NewPenguin   type                          <class '__main__.NewPenguin'>\n",
      "Parrot       type                          <class '__main__.Parrot'>\n",
      "Penguin      type                          <class '__main__.Penguin'>\n",
      "Polygon      type                          <class '__main__.Polygon'>\n",
      "X            Polygon                       <__main__.Polygon object at 0x000001CE3D0FA518>\n",
      "a            MyInt                         3\n",
      "ab           B                             str\n",
      "acos         builtin_function_or_method    <built-in function acos>\n",
      "acosh        builtin_function_or_method    <built-in function acosh>\n",
      "asin         builtin_function_or_method    <built-in function asin>\n",
      "asinh        builtin_function_or_method    <built-in function asinh>\n",
      "atan         builtin_function_or_method    <built-in function atan>\n",
      "atan2        builtin_function_or_method    <built-in function atan2>\n",
      "atanh        builtin_function_or_method    <built-in function atanh>\n",
      "b            MyInt                         5\n",
      "blu          Parrot                        <__main__.Parrot object at 0x000001CE3D0B0C50>\n",
      "c            Computer                      <__main__.Computer object at 0x000001CE3D117208>\n",
      "ceil         builtin_function_or_method    <built-in function ceil>\n",
      "copysign     builtin_function_or_method    <built-in function copysign>\n",
      "cos          builtin_function_or_method    <built-in function cos>\n",
      "cosh         builtin_function_or_method    <built-in function cosh>\n",
      "degrees      builtin_function_or_method    <built-in function degrees>\n",
      "e            float                         2.718281828459045\n",
      "erf          builtin_function_or_method    <built-in function erf>\n",
      "erfc         builtin_function_or_method    <built-in function erfc>\n",
      "exp          builtin_function_or_method    <built-in function exp>\n",
      "expm1        builtin_function_or_method    <built-in function expm1>\n",
      "fabs         builtin_function_or_method    <built-in function fabs>\n",
      "factorial    builtin_function_or_method    <built-in function factorial>\n",
      "floor        builtin_function_or_method    <built-in function floor>\n",
      "fmod         builtin_function_or_method    <built-in function fmod>\n",
      "frexp        builtin_function_or_method    <built-in function frexp>\n",
      "fsum         builtin_function_or_method    <built-in function fsum>\n",
      "gamma        builtin_function_or_method    <built-in function gamma>\n",
      "gcd          builtin_function_or_method    <built-in function gcd>\n",
      "hypot        builtin_function_or_method    <built-in function hypot>\n",
      "inf          float                         inf\n",
      "isclose      builtin_function_or_method    <built-in function isclose>\n",
      "isfinite     builtin_function_or_method    <built-in function isfinite>\n",
      "isinf        builtin_function_or_method    <built-in function isinf>\n",
      "iskeyword    builtin_function_or_method    <built-in method __contai<...>ct at 0x000001CE39174BA8>\n",
      "isnan        builtin_function_or_method    <built-in function isnan>\n",
      "keyword      module                        <module 'keyword' from 'C<...>conda3\\\\lib\\\\keyword.py'>\n",
      "kwlist       list                          n=33\n",
      "ldexp        builtin_function_or_method    <built-in function ldexp>\n",
      "lgamma       builtin_function_or_method    <built-in function lgamma>\n",
      "log          builtin_function_or_method    <built-in function log>\n",
      "log10        builtin_function_or_method    <built-in function log10>\n",
      "log1p        builtin_function_or_method    <built-in function log1p>\n",
      "log2         builtin_function_or_method    <built-in function log2>\n",
      "modf         builtin_function_or_method    <built-in function modf>\n",
      "nan          float                         nan\n",
      "peggy        Penguin                       <__main__.Penguin object at 0x000001CE3D0E05C0>\n",
      "pi           float                         3.141592653589793\n",
      "pow          builtin_function_or_method    <built-in function pow>\n",
      "radians      builtin_function_or_method    <built-in function radians>\n",
      "red          Parrot                        <__main__.Parrot object at 0x000001CE3D0B0B70>\n",
      "sin          builtin_function_or_method    <built-in function sin>\n",
      "sinh         builtin_function_or_method    <built-in function sinh>\n",
      "sklearn      module                        <module 'sklearn' from 'C<...>s\\\\sklearn\\\\__init__.py'>\n",
      "sqrt         builtin_function_or_method    <built-in function sqrt>\n",
      "tan          builtin_function_or_method    <built-in function tan>\n",
      "tanh         builtin_function_or_method    <built-in function tanh>\n",
      "tau          float                         6.283185307179586\n",
      "trunc        builtin_function_or_method    <built-in function trunc>\n",
      "woo          Parrot                        <__main__.Parrot object at 0x000001CE3CF216A0>\n"
     ]
    }
   ],
   "source": [
    "%whos # math의 경우, __all__이 없어서 모~~~두 다 import해오는데, 이 값들이 다 메모리 공간에서 놀고있다. 비효율적!"
   ]
  },
  {
   "cell_type": "markdown",
   "metadata": {},
   "source": [
    "이런건 쓰지말고, 이름 충돌 안되는거(ex) np.pi, math.pi는 충돌됨)를 쓰자."
   ]
  },
  {
   "cell_type": "code",
   "execution_count": 184,
   "metadata": {
    "collapsed": true
   },
   "outputs": [],
   "source": [
    "from numpy import pi as np_pi"
   ]
  },
  {
   "cell_type": "code",
   "execution_count": 185,
   "metadata": {
    "collapsed": false
   },
   "outputs": [
    {
     "data": {
      "text/plain": [
       "3.141592653589793"
      ]
     },
     "execution_count": 185,
     "metadata": {},
     "output_type": "execute_result"
    }
   ],
   "source": [
    "np_pi"
   ]
  },
  {
   "cell_type": "code",
   "execution_count": null,
   "metadata": {
    "collapsed": true
   },
   "outputs": [],
   "source": []
  }
 ],
 "metadata": {
  "kernelspec": {
   "display_name": "Python 3",
   "language": "python",
   "name": "python3"
  },
  "language_info": {
   "codemirror_mode": {
    "name": "ipython",
    "version": 3
   },
   "file_extension": ".py",
   "mimetype": "text/x-python",
   "name": "python",
   "nbconvert_exporter": "python",
   "pygments_lexer": "ipython3",
   "version": "3.6.0"
  }
 },
 "nbformat": 4,
 "nbformat_minor": 2
}
